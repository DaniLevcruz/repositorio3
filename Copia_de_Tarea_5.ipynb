{
  "nbformat": 4,
  "nbformat_minor": 0,
  "metadata": {
    "colab": {
      "provenance": [],
      "include_colab_link": true
    },
    "kernelspec": {
      "name": "python3",
      "display_name": "Python 3"
    },
    "language_info": {
      "name": "python"
    }
  },
  "cells": [
    {
      "cell_type": "markdown",
      "metadata": {
        "id": "view-in-github",
        "colab_type": "text"
      },
      "source": [
        "<a href=\"https://colab.research.google.com/github/DaniLevcruz/repositorio3/blob/main/Copia_de_Tarea_5.ipynb\" target=\"_parent\"><img src=\"https://colab.research.google.com/assets/colab-badge.svg\" alt=\"Open In Colab\"/></a>"
      ]
    },
    {
      "cell_type": "code",
      "execution_count": 1,
      "metadata": {
        "colab": {
          "base_uri": "https://localhost:8080/"
        },
        "id": "T9mcRMDLVpzh",
        "outputId": "d7e605fd-d61f-447a-8876-88584bd77096"
      },
      "outputs": [
        {
          "output_type": "stream",
          "name": "stdout",
          "text": [
            "Collecting nacal\n",
            "  Downloading nacal-0.2.1-py3-none-any.whl (40 kB)\n",
            "\u001b[?25l     \u001b[90m━━━━━━━━━━━━━━━━━━━━━━━━━━━━━━━━━━━━━━━━\u001b[0m \u001b[32m0.0/40.0 kB\u001b[0m \u001b[31m?\u001b[0m eta \u001b[36m-:--:--\u001b[0m\r\u001b[2K     \u001b[90m━━━━━━━━━━━━━━━━━━━━━━━━━━━━━━━━━━━━━━━━\u001b[0m \u001b[32m40.0/40.0 kB\u001b[0m \u001b[31m1.2 MB/s\u001b[0m eta \u001b[36m0:00:00\u001b[0m\n",
            "\u001b[?25hRequirement already satisfied: sympy>=1.1.0 in /usr/local/lib/python3.10/dist-packages (from nacal) (1.12)\n",
            "Requirement already satisfied: mpmath>=0.19 in /usr/local/lib/python3.10/dist-packages (from sympy>=1.1.0->nacal) (1.3.0)\n",
            "Installing collected packages: nacal\n",
            "Successfully installed nacal-0.2.1\n"
          ]
        }
      ],
      "source": [
        "!pip install --target=$nb_path nacal\n",
        "from nacal import *"
      ]
    },
    {
      "cell_type": "markdown",
      "source": [
        "1. Para la siguiente matriz $$\\left[ \\begin{array}{cccc}3&-2&2&1\\\\1&-1&-1&-3\\\\2&1&2&4\\\\4&-4&1&2\\\\ \\end{array} \\right]$$ lleva a cabo el algoritmo de eliminación paso a paso.\n",
        "\n",
        "Escribe en una celda separada cada operacion elemental."
      ],
      "metadata": {
        "id": "hBXBxw0VcrAh"
      }
    },
    {
      "cell_type": "code",
      "source": [
        "f = Vector([3,1,2,4])\n",
        "h = Vector([-2,-1,1,-4])\n",
        "t = Vector([2,-1,2,1])\n",
        "r = Vector([1,-3,4,2])\n",
        "A = Matrix([f,h,t,r])\n",
        "A"
      ],
      "metadata": {
        "id": "cWg3ao5SCdYK",
        "outputId": "e900440c-c762-426b-9c9e-650dab31ff0d",
        "colab": {
          "base_uri": "https://localhost:8080/",
          "height": 46
        }
      },
      "execution_count": 79,
      "outputs": [
        {
          "output_type": "execute_result",
          "data": {
            "text/plain": [
              "Matrix([Vector([3, 1, 2, 4]), Vector([-2, -1, 1, -4]), Vector([2, -1, 2, 1]), Vector([1, -3, 4, 2])])"
            ],
            "text/html": [
              "<p style=\"text-align:center;\">$\\left[ \\begin{array}{cccc}3&-2&2&1\\\\1&-1&-1&-3\\\\2&1&2&4\\\\4&-4&1&2\\\\ \\end{array} \\right]$</p>"
            ],
            "image/png": "$\\left[ \\begin{array}{cccc}3&-2&2&1\\\\1&-1&-1&-3\\\\2&1&2&4\\\\4&-4&1&2\\\\ \\end{array} \\right]$",
            "text/latex": "$\\left[ \\begin{array}{cccc}3&-2&2&1\\\\1&-1&-1&-3\\\\2&1&2&4\\\\4&-4&1&2\\\\ \\end{array} \\right]$"
          },
          "metadata": {},
          "execution_count": 79
        }
      ]
    },
    {
      "cell_type": "markdown",
      "source": [
        "$\\left[ \\begin{array}{cccc}3&-2&2&1\\\\1&-1&-1&-3\\\\2&1&2&4\\\\4&-4&1&2\\\\ \\end{array} \\right]$"
      ],
      "metadata": {
        "id": "bBBmFZEP7hw6"
      }
    },
    {
      "cell_type": "code",
      "source": [
        "A&T((fracc(1,3),1))"
      ],
      "metadata": {
        "colab": {
          "base_uri": "https://localhost:8080/",
          "height": 46
        },
        "id": "iY92aSam4ViB",
        "outputId": "255b1050-2d36-4134-dae6-e6dec2e3bb7a"
      },
      "execution_count": 80,
      "outputs": [
        {
          "output_type": "execute_result",
          "data": {
            "text/plain": [
              "Matrix([Vector([1, 1/3, 2/3, 4/3]), Vector([-2, -1, 1, -4]), Vector([2, -1, 2, 1]), Vector([1, -3, 4, 2])])"
            ],
            "text/html": [
              "<p style=\"text-align:center;\">$\\left[ \\begin{array}{cccc}1&-2&2&1\\\\\\frac{1}{3}&-1&-1&-3\\\\\\frac{2}{3}&1&2&4\\\\\\frac{4}{3}&-4&1&2\\\\ \\end{array} \\right]$</p>"
            ],
            "image/png": "$\\left[ \\begin{array}{cccc}1&-2&2&1\\\\\\frac{1}{3}&-1&-1&-3\\\\\\frac{2}{3}&1&2&4\\\\\\frac{4}{3}&-4&1&2\\\\ \\end{array} \\right]$",
            "text/latex": "$\\left[ \\begin{array}{cccc}1&-2&2&1\\\\\\frac{1}{3}&-1&-1&-3\\\\\\frac{2}{3}&1&2&4\\\\\\frac{4}{3}&-4&1&2\\\\ \\end{array} \\right]$"
          },
          "metadata": {},
          "execution_count": 80
        }
      ]
    },
    {
      "cell_type": "markdown",
      "source": [
        "$\\left[ \\begin{array}{cccc}1&-2&2&1\\\\\\frac{1}{3}&-1&-1&-3\\\\\\frac{2}{3}&1&2&4\\\\\\frac{4}{3}&-4&1&2\\\\ \\end{array} \\right]$"
      ],
      "metadata": {
        "id": "uQDeyFtc4YoA"
      }
    },
    {
      "cell_type": "code",
      "source": [
        "A&T((fracc(1,3),2,1))"
      ],
      "metadata": {
        "colab": {
          "base_uri": "https://localhost:8080/",
          "height": 46
        },
        "id": "lDAl-mzg4lG4",
        "outputId": "b246f699-20d0-40d1-e413-bd83aea56d5c"
      },
      "execution_count": 81,
      "outputs": [
        {
          "output_type": "execute_result",
          "data": {
            "text/plain": [
              "Matrix([Vector([1/3, 0, 1, 0]), Vector([-2, -1, 1, -4]), Vector([2, -1, 2, 1]), Vector([1, -3, 4, 2])])"
            ],
            "text/html": [
              "<p style=\"text-align:center;\">$\\left[ \\begin{array}{cccc}\\frac{1}{3}&-2&2&1\\\\0&-1&-1&-3\\\\1&1&2&4\\\\0&-4&1&2\\\\ \\end{array} \\right]$</p>"
            ],
            "image/png": "$\\left[ \\begin{array}{cccc}\\frac{1}{3}&-2&2&1\\\\0&-1&-1&-3\\\\1&1&2&4\\\\0&-4&1&2\\\\ \\end{array} \\right]$",
            "text/latex": "$\\left[ \\begin{array}{cccc}\\frac{1}{3}&-2&2&1\\\\0&-1&-1&-3\\\\1&1&2&4\\\\0&-4&1&2\\\\ \\end{array} \\right]$"
          },
          "metadata": {},
          "execution_count": 81
        }
      ]
    },
    {
      "cell_type": "markdown",
      "source": [
        "$\\left[ \\begin{array}{cccc}\\frac{1}{3}&-2&2&1\\\\0&-1&-1&-3\\\\1&1&2&4\\\\0&-4&1&2\\\\ \\end{array} \\right]$"
      ],
      "metadata": {
        "id": "lbkbMCFP4ocI"
      }
    },
    {
      "cell_type": "code",
      "source": [
        "A&T((-1,2))"
      ],
      "metadata": {
        "colab": {
          "base_uri": "https://localhost:8080/",
          "height": 46
        },
        "id": "SnQ8Pvl74qYQ",
        "outputId": "58e9f82b-8654-4b06-fa40-c0cd540e017b"
      },
      "execution_count": 82,
      "outputs": [
        {
          "output_type": "execute_result",
          "data": {
            "text/plain": [
              "Matrix([Vector([1/3, 0, 1, 0]), Vector([2, 1, -1, 4]), Vector([2, -1, 2, 1]), Vector([1, -3, 4, 2])])"
            ],
            "text/html": [
              "<p style=\"text-align:center;\">$\\left[ \\begin{array}{cccc}\\frac{1}{3}&2&2&1\\\\0&1&-1&-3\\\\1&-1&2&4\\\\0&4&1&2\\\\ \\end{array} \\right]$</p>"
            ],
            "image/png": "$\\left[ \\begin{array}{cccc}\\frac{1}{3}&2&2&1\\\\0&1&-1&-3\\\\1&-1&2&4\\\\0&4&1&2\\\\ \\end{array} \\right]$",
            "text/latex": "$\\left[ \\begin{array}{cccc}\\frac{1}{3}&2&2&1\\\\0&1&-1&-3\\\\1&-1&2&4\\\\0&4&1&2\\\\ \\end{array} \\right]$"
          },
          "metadata": {},
          "execution_count": 82
        }
      ]
    },
    {
      "cell_type": "markdown",
      "source": [
        "$\\left[ \\begin{array}{cccc}\\frac{1}{3}&2&2&1\\\\0&1&-1&-3\\\\1&-1&2&4\\\\0&4&1&2\\\\ \\end{array} \\right]$"
      ],
      "metadata": {
        "id": "n1jSI9dQ4tzf"
      }
    },
    {
      "cell_type": "code",
      "source": [
        "A&T((2,2,3))"
      ],
      "metadata": {
        "colab": {
          "base_uri": "https://localhost:8080/",
          "height": 46
        },
        "id": "cDMWeRQk4v1I",
        "outputId": "c54b343b-0418-48c5-dadf-a3537af1fd8f"
      },
      "execution_count": 83,
      "outputs": [
        {
          "output_type": "execute_result",
          "data": {
            "text/plain": [
              "Matrix([Vector([1/3, 0, 1, 0]), Vector([2, 1, -1, 4]), Vector([6, 1, 0, 9]), Vector([1, -3, 4, 2])])"
            ],
            "text/html": [
              "<p style=\"text-align:center;\">$\\left[ \\begin{array}{cccc}\\frac{1}{3}&2&6&1\\\\0&1&1&-3\\\\1&-1&0&4\\\\0&4&9&2\\\\ \\end{array} \\right]$</p>"
            ],
            "image/png": "$\\left[ \\begin{array}{cccc}\\frac{1}{3}&2&6&1\\\\0&1&1&-3\\\\1&-1&0&4\\\\0&4&9&2\\\\ \\end{array} \\right]$",
            "text/latex": "$\\left[ \\begin{array}{cccc}\\frac{1}{3}&2&6&1\\\\0&1&1&-3\\\\1&-1&0&4\\\\0&4&9&2\\\\ \\end{array} \\right]$"
          },
          "metadata": {},
          "execution_count": 83
        }
      ]
    },
    {
      "cell_type": "markdown",
      "source": [
        "$\\left[ \\begin{array}{cccc}\\frac{1}{3}&2&6&1\\\\0&1&1&-3\\\\1&-1&0&4\\\\0&4&9&2\\\\ \\end{array} \\right]$"
      ],
      "metadata": {
        "id": "P3d_Zat84ywo"
      }
    },
    {
      "cell_type": "code",
      "source": [
        "A&T((-1,2,3))"
      ],
      "metadata": {
        "colab": {
          "base_uri": "https://localhost:8080/",
          "height": 46
        },
        "id": "_XVhb3WA42Tv",
        "outputId": "562b7149-11c1-4e6b-ca26-cc4e59b63fdd"
      },
      "execution_count": 84,
      "outputs": [
        {
          "output_type": "execute_result",
          "data": {
            "text/plain": [
              "Matrix([Vector([1/3, 0, 1, 0]), Vector([2, 1, -1, 4]), Vector([4, 0, 1, 5]), Vector([1, -3, 4, 2])])"
            ],
            "text/html": [
              "<p style=\"text-align:center;\">$\\left[ \\begin{array}{cccc}\\frac{1}{3}&2&4&1\\\\0&1&0&-3\\\\1&-1&1&4\\\\0&4&5&2\\\\ \\end{array} \\right]$</p>"
            ],
            "image/png": "$\\left[ \\begin{array}{cccc}\\frac{1}{3}&2&4&1\\\\0&1&0&-3\\\\1&-1&1&4\\\\0&4&5&2\\\\ \\end{array} \\right]$",
            "text/latex": "$\\left[ \\begin{array}{cccc}\\frac{1}{3}&2&4&1\\\\0&1&0&-3\\\\1&-1&1&4\\\\0&4&5&2\\\\ \\end{array} \\right]$"
          },
          "metadata": {},
          "execution_count": 84
        }
      ]
    },
    {
      "cell_type": "markdown",
      "source": [
        "$\\left[ \\begin{array}{cccc}\\frac{1}{3}&2&4&1\\\\0&1&0&-3\\\\1&-1&1&4\\\\0&4&5&2\\\\ \\end{array} \\right]$"
      ],
      "metadata": {
        "id": "CBZtdGkz44hn"
      }
    },
    {
      "cell_type": "code",
      "source": [
        "A&T((1,3,2))"
      ],
      "metadata": {
        "colab": {
          "base_uri": "https://localhost:8080/",
          "height": 46
        },
        "id": "oUoRnOpg46j_",
        "outputId": "040a869a-516a-4968-b259-6f0fbc4b98a3"
      },
      "execution_count": 85,
      "outputs": [
        {
          "output_type": "execute_result",
          "data": {
            "text/plain": [
              "Matrix([Vector([1/3, 0, 1, 0]), Vector([6, 1, 0, 9]), Vector([4, 0, 1, 5]), Vector([1, -3, 4, 2])])"
            ],
            "text/html": [
              "<p style=\"text-align:center;\">$\\left[ \\begin{array}{cccc}\\frac{1}{3}&6&4&1\\\\0&1&0&-3\\\\1&0&1&4\\\\0&9&5&2\\\\ \\end{array} \\right]$</p>"
            ],
            "image/png": "$\\left[ \\begin{array}{cccc}\\frac{1}{3}&6&4&1\\\\0&1&0&-3\\\\1&0&1&4\\\\0&9&5&2\\\\ \\end{array} \\right]$",
            "text/latex": "$\\left[ \\begin{array}{cccc}\\frac{1}{3}&6&4&1\\\\0&1&0&-3\\\\1&0&1&4\\\\0&9&5&2\\\\ \\end{array} \\right]$"
          },
          "metadata": {},
          "execution_count": 85
        }
      ]
    },
    {
      "cell_type": "markdown",
      "source": [
        "$\\left[ \\begin{array}{cccc}\\frac{1}{3}&6&4&1\\\\0&1&0&-3\\\\1&0&1&4\\\\0&9&5&2\\\\ \\end{array} \\right]$"
      ],
      "metadata": {
        "id": "XwHTifMM49zn"
      }
    },
    {
      "cell_type": "code",
      "source": [
        "A&T((-4,3,4))"
      ],
      "metadata": {
        "colab": {
          "base_uri": "https://localhost:8080/",
          "height": 46
        },
        "id": "Zu5qXDlo5A1u",
        "outputId": "3bda7c98-a561-4145-812e-23bc8836c438"
      },
      "execution_count": 86,
      "outputs": [
        {
          "output_type": "execute_result",
          "data": {
            "text/plain": [
              "Matrix([Vector([1/3, 0, 1, 0]), Vector([6, 1, 0, 9]), Vector([4, 0, 1, 5]), Vector([-15, -3, 0, -18])])"
            ],
            "text/html": [
              "<p style=\"text-align:center;\">$\\left[ \\begin{array}{cccc}\\frac{1}{3}&6&4&-15\\\\0&1&0&-3\\\\1&0&1&0\\\\0&9&5&-18\\\\ \\end{array} \\right]$</p>"
            ],
            "image/png": "$\\left[ \\begin{array}{cccc}\\frac{1}{3}&6&4&-15\\\\0&1&0&-3\\\\1&0&1&0\\\\0&9&5&-18\\\\ \\end{array} \\right]$",
            "text/latex": "$\\left[ \\begin{array}{cccc}\\frac{1}{3}&6&4&-15\\\\0&1&0&-3\\\\1&0&1&0\\\\0&9&5&-18\\\\ \\end{array} \\right]$"
          },
          "metadata": {},
          "execution_count": 86
        }
      ]
    },
    {
      "cell_type": "markdown",
      "source": [
        "$\\left[ \\begin{array}{cccc}\\frac{1}{3}&6&4&-15\\\\0&1&0&-3\\\\1&0&1&0\\\\0&9&5&-18\\\\ \\end{array} \\right]$"
      ],
      "metadata": {
        "id": "QD68qUzh5ERe"
      }
    },
    {
      "cell_type": "code",
      "source": [
        "A&T((-1,3,1))"
      ],
      "metadata": {
        "colab": {
          "base_uri": "https://localhost:8080/",
          "height": 46
        },
        "id": "T0MsHsYf5Hk-",
        "outputId": "a983b8c3-b963-426b-8e3e-384e47db825b"
      },
      "execution_count": 87,
      "outputs": [
        {
          "output_type": "execute_result",
          "data": {
            "text/plain": [
              "Matrix([Vector([-11/3, 0, 0, -5]), Vector([6, 1, 0, 9]), Vector([4, 0, 1, 5]), Vector([-15, -3, 0, -18])])"
            ],
            "text/html": [
              "<p style=\"text-align:center;\">$\\left[ \\begin{array}{cccc}- \\frac{11}{3}&6&4&-15\\\\0&1&0&-3\\\\0&0&1&0\\\\-5&9&5&-18\\\\ \\end{array} \\right]$</p>"
            ],
            "image/png": "$\\left[ \\begin{array}{cccc}- \\frac{11}{3}&6&4&-15\\\\0&1&0&-3\\\\0&0&1&0\\\\-5&9&5&-18\\\\ \\end{array} \\right]$",
            "text/latex": "$\\left[ \\begin{array}{cccc}- \\frac{11}{3}&6&4&-15\\\\0&1&0&-3\\\\0&0&1&0\\\\-5&9&5&-18\\\\ \\end{array} \\right]$"
          },
          "metadata": {},
          "execution_count": 87
        }
      ]
    },
    {
      "cell_type": "markdown",
      "source": [
        "$\\left[ \\begin{array}{cccc}- \\frac{11}{3}&6&4&-15\\\\0&1&0&-3\\\\0&0&1&0\\\\-5&9&5&-18\\\\ \\end{array} \\right]$"
      ],
      "metadata": {
        "id": "sOTx10rn5JnO"
      }
    },
    {
      "cell_type": "code",
      "source": [
        "A&T((fracc(-1,18),4))"
      ],
      "metadata": {
        "colab": {
          "base_uri": "https://localhost:8080/",
          "height": 46
        },
        "id": "6nHfXIRR5Lae",
        "outputId": "3cb28c8e-f2bd-497a-c368-c685d942a676"
      },
      "execution_count": 88,
      "outputs": [
        {
          "output_type": "execute_result",
          "data": {
            "text/plain": [
              "Matrix([Vector([-11/3, 0, 0, -5]), Vector([6, 1, 0, 9]), Vector([4, 0, 1, 5]), Vector([5/6, 1/6, 0, 1])])"
            ],
            "text/html": [
              "<p style=\"text-align:center;\">$\\left[ \\begin{array}{cccc}- \\frac{11}{3}&6&4&\\frac{5}{6}\\\\0&1&0&\\frac{1}{6}\\\\0&0&1&0\\\\-5&9&5&1\\\\ \\end{array} \\right]$</p>"
            ],
            "image/png": "$\\left[ \\begin{array}{cccc}- \\frac{11}{3}&6&4&\\frac{5}{6}\\\\0&1&0&\\frac{1}{6}\\\\0&0&1&0\\\\-5&9&5&1\\\\ \\end{array} \\right]$",
            "text/latex": "$\\left[ \\begin{array}{cccc}- \\frac{11}{3}&6&4&\\frac{5}{6}\\\\0&1&0&\\frac{1}{6}\\\\0&0&1&0\\\\-5&9&5&1\\\\ \\end{array} \\right]$"
          },
          "metadata": {},
          "execution_count": 88
        }
      ]
    },
    {
      "cell_type": "markdown",
      "source": [
        "$\\left[ \\begin{array}{cccc}- \\frac{11}{3}&6&4&\\frac{5}{6}\\\\0&1&0&\\frac{1}{6}\\\\0&0&1&0\\\\-5&9&5&1\\\\ \\end{array} \\right]$"
      ],
      "metadata": {
        "id": "7k9cKjs15O5t"
      }
    },
    {
      "cell_type": "code",
      "source": [
        "A&T((-5,4,3))\n",
        "A&T((-9,4,2))\n",
        "A&T((5,4,1))"
      ],
      "metadata": {
        "colab": {
          "base_uri": "https://localhost:8080/",
          "height": 46
        },
        "id": "rhAoHicH5Q7N",
        "outputId": "f2404e83-f29a-43bf-b9f1-e9790f40e797"
      },
      "execution_count": 89,
      "outputs": [
        {
          "output_type": "execute_result",
          "data": {
            "text/plain": [
              "Matrix([Vector([1/2, 5/6, 0, 0]), Vector([-3/2, -1/2, 0, 0]), Vector([-1/6, -5/6, 1, 0]), Vector([5/6, 1/6, 0, 1])])"
            ],
            "text/html": [
              "<p style=\"text-align:center;\">$\\left[ \\begin{array}{cccc}\\frac{1}{2}&- \\frac{3}{2}&- \\frac{1}{6}&\\frac{5}{6}\\\\\\frac{5}{6}&- \\frac{1}{2}&- \\frac{5}{6}&\\frac{1}{6}\\\\0&0&1&0\\\\0&0&0&1\\\\ \\end{array} \\right]$</p>"
            ],
            "image/png": "$\\left[ \\begin{array}{cccc}\\frac{1}{2}&- \\frac{3}{2}&- \\frac{1}{6}&\\frac{5}{6}\\\\\\frac{5}{6}&- \\frac{1}{2}&- \\frac{5}{6}&\\frac{1}{6}\\\\0&0&1&0\\\\0&0&0&1\\\\ \\end{array} \\right]$",
            "text/latex": "$\\left[ \\begin{array}{cccc}\\frac{1}{2}&- \\frac{3}{2}&- \\frac{1}{6}&\\frac{5}{6}\\\\\\frac{5}{6}&- \\frac{1}{2}&- \\frac{5}{6}&\\frac{1}{6}\\\\0&0&1&0\\\\0&0&0&1\\\\ \\end{array} \\right]$"
          },
          "metadata": {},
          "execution_count": 89
        }
      ]
    },
    {
      "cell_type": "markdown",
      "source": [
        "$\\left[ \\begin{array}{cccc}\\frac{1}{2}&- \\frac{3}{2}&- \\frac{1}{6}&\\frac{5}{6}\\\\\\frac{5}{6}&- \\frac{1}{2}&- \\frac{5}{6}&\\frac{1}{6}\\\\0&0&1&0\\\\0&0&0&1\\\\ \\end{array} \\right]$"
      ],
      "metadata": {
        "id": "zndlgEWm5YBb"
      }
    },
    {
      "cell_type": "code",
      "source": [
        "A&T((fracc(-2,1),2))\n",
        "A&T((fracc(2,1),1))\n",
        "A&T((fracc(-5,3),2,1))"
      ],
      "metadata": {
        "colab": {
          "base_uri": "https://localhost:8080/",
          "height": 46
        },
        "id": "ICkddFoE5cv0",
        "outputId": "aa7f3920-7556-4deb-bcd8-d258f77f1933"
      },
      "execution_count": 90,
      "outputs": [
        {
          "output_type": "execute_result",
          "data": {
            "text/plain": [
              "Matrix([Vector([-4, 0, 0, 0]), Vector([3, 1, 0, 0]), Vector([-1/6, -5/6, 1, 0]), Vector([5/6, 1/6, 0, 1])])"
            ],
            "text/html": [
              "<p style=\"text-align:center;\">$\\left[ \\begin{array}{cccc}-4&3&- \\frac{1}{6}&\\frac{5}{6}\\\\0&1&- \\frac{5}{6}&\\frac{1}{6}\\\\0&0&1&0\\\\0&0&0&1\\\\ \\end{array} \\right]$</p>"
            ],
            "image/png": "$\\left[ \\begin{array}{cccc}-4&3&- \\frac{1}{6}&\\frac{5}{6}\\\\0&1&- \\frac{5}{6}&\\frac{1}{6}\\\\0&0&1&0\\\\0&0&0&1\\\\ \\end{array} \\right]$",
            "text/latex": "$\\left[ \\begin{array}{cccc}-4&3&- \\frac{1}{6}&\\frac{5}{6}\\\\0&1&- \\frac{5}{6}&\\frac{1}{6}\\\\0&0&1&0\\\\0&0&0&1\\\\ \\end{array} \\right]$"
          },
          "metadata": {},
          "execution_count": 90
        }
      ]
    },
    {
      "cell_type": "markdown",
      "source": [
        "$\\left[ \\begin{array}{cccc}-4&3&- \\frac{1}{6}&\\frac{5}{6}\\\\0&1&- \\frac{5}{6}&\\frac{1}{6}\\\\0&0&1&0\\\\0&0&0&1\\\\ \\end{array} \\right]$"
      ],
      "metadata": {
        "id": "Sqgf0Qzj5lMk"
      }
    },
    {
      "cell_type": "code",
      "source": [
        "A&T((fracc(-1,4),1))"
      ],
      "metadata": {
        "colab": {
          "base_uri": "https://localhost:8080/",
          "height": 46
        },
        "id": "0B99Haki5rIL",
        "outputId": "b7734eda-0f34-4e97-de70-8d3ac228958a"
      },
      "execution_count": 91,
      "outputs": [
        {
          "output_type": "execute_result",
          "data": {
            "text/plain": [
              "Matrix([Vector([1, 0, 0, 0]), Vector([3, 1, 0, 0]), Vector([-1/6, -5/6, 1, 0]), Vector([5/6, 1/6, 0, 1])])"
            ],
            "text/html": [
              "<p style=\"text-align:center;\">$\\left[ \\begin{array}{cccc}1&3&- \\frac{1}{6}&\\frac{5}{6}\\\\0&1&- \\frac{5}{6}&\\frac{1}{6}\\\\0&0&1&0\\\\0&0&0&1\\\\ \\end{array} \\right]$</p>"
            ],
            "image/png": "$\\left[ \\begin{array}{cccc}1&3&- \\frac{1}{6}&\\frac{5}{6}\\\\0&1&- \\frac{5}{6}&\\frac{1}{6}\\\\0&0&1&0\\\\0&0&0&1\\\\ \\end{array} \\right]$",
            "text/latex": "$\\left[ \\begin{array}{cccc}1&3&- \\frac{1}{6}&\\frac{5}{6}\\\\0&1&- \\frac{5}{6}&\\frac{1}{6}\\\\0&0&1&0\\\\0&0&0&1\\\\ \\end{array} \\right]$"
          },
          "metadata": {},
          "execution_count": 91
        }
      ]
    },
    {
      "cell_type": "markdown",
      "source": [
        "$\\left[ \\begin{array}{cccc}1&3&- \\frac{1}{6}&\\frac{5}{6}\\\\0&1&- \\frac{5}{6}&\\frac{1}{6}\\\\0&0&1&0\\\\0&0&0&1\\\\ \\end{array} \\right]$"
      ],
      "metadata": {
        "id": "MjnqzNN_5tbb"
      }
    },
    {
      "cell_type": "markdown",
      "source": [
        "**2. Escriba las siguientes matrices elementales de orden 4.**\n",
        "\n",
        "\n",
        "(a) I τ\n",
        "[(−7)1+3]\n",
        "\n",
        "(b) I τ\n",
        "[(1)1+4]\n",
        "\n",
        "(c) I τ\n",
        "[(3)2+1]\n",
        "\n",
        "(d) I τ\n",
        "[(−10)3]"
      ],
      "metadata": {
        "id": "2wXEkEH9hXGe"
      }
    },
    {
      "cell_type": "markdown",
      "source": [
        "# **Para (a**"
      ],
      "metadata": {
        "id": "W_saqDte2bZ6"
      }
    },
    {
      "cell_type": "code",
      "source": [
        "B = I(4)\n",
        "B"
      ],
      "metadata": {
        "id": "FdznIEGE2fLJ",
        "outputId": "a42bc005-0db6-4ee3-892f-c933b815d226",
        "colab": {
          "base_uri": "https://localhost:8080/",
          "height": 46
        }
      },
      "execution_count": null,
      "outputs": [
        {
          "output_type": "execute_result",
          "data": {
            "text/plain": [
              "Matrix([Vector([1, 0, 0, 0]), Vector([0, 1, 0, 0]), Vector([0, 0, 1, 0]), Vector([0, 0, 0, 1])])"
            ],
            "text/html": [
              "<p style=\"text-align:center;\">$\\left[ \\begin{array}{cccc}1&0&0&0\\\\0&1&0&0\\\\0&0&1&0\\\\0&0&0&1\\\\ \\end{array} \\right]$</p>"
            ],
            "image/png": "$\\left[ \\begin{array}{cccc}1&0&0&0\\\\0&1&0&0\\\\0&0&1&0\\\\0&0&0&1\\\\ \\end{array} \\right]$",
            "text/latex": "$\\left[ \\begin{array}{cccc}1&0&0&0\\\\0&1&0&0\\\\0&0&1&0\\\\0&0&0&1\\\\ \\end{array} \\right]$"
          },
          "metadata": {},
          "execution_count": 53
        }
      ]
    },
    {
      "cell_type": "markdown",
      "source": [
        "$\\left[ \\begin{array}{cccc}1&0&0&0\\\\0&1&0&0\\\\0&0&1&0\\\\0&0&0&1\\\\ \\end{array} \\right]$"
      ],
      "metadata": {
        "id": "B1Q81cov2iQh"
      }
    },
    {
      "cell_type": "code",
      "source": [
        "B&T((-7,1,3))"
      ],
      "metadata": {
        "id": "LeimERgn72Fo",
        "colab": {
          "base_uri": "https://localhost:8080/",
          "height": 46
        },
        "outputId": "d2833559-41bd-446d-d781-ddc8aea87fb1"
      },
      "execution_count": null,
      "outputs": [
        {
          "output_type": "execute_result",
          "data": {
            "text/plain": [
              "Matrix([Vector([1, 0, 0, 0]), Vector([0, 1, 0, 0]), Vector([-7, 0, 1, 0]), Vector([0, 0, 0, 1])])"
            ],
            "text/html": [
              "<p style=\"text-align:center;\">$\\left[ \\begin{array}{cccc}1&0&-7&0\\\\0&1&0&0\\\\0&0&1&0\\\\0&0&0&1\\\\ \\end{array} \\right]$</p>"
            ],
            "image/png": "$\\left[ \\begin{array}{cccc}1&0&-7&0\\\\0&1&0&0\\\\0&0&1&0\\\\0&0&0&1\\\\ \\end{array} \\right]$",
            "text/latex": "$\\left[ \\begin{array}{cccc}1&0&-7&0\\\\0&1&0&0\\\\0&0&1&0\\\\0&0&0&1\\\\ \\end{array} \\right]$"
          },
          "metadata": {},
          "execution_count": 47
        }
      ]
    },
    {
      "cell_type": "markdown",
      "source": [
        "$\\left[ \\begin{array}{cccc}1&0&-7&0\\\\0&1&0&0\\\\0&0&1&0\\\\0&0&0&1\\\\ \\end{array} \\right]$"
      ],
      "metadata": {
        "id": "Ns9Bq_BibprL"
      }
    },
    {
      "cell_type": "markdown",
      "source": [
        "# **Para (b)**"
      ],
      "metadata": {
        "id": "gWCEuBuhcGmx"
      }
    },
    {
      "cell_type": "code",
      "source": [
        "B&T((1,1,4))"
      ],
      "metadata": {
        "colab": {
          "base_uri": "https://localhost:8080/",
          "height": 46
        },
        "id": "lmod6xfHcJiA",
        "outputId": "bb588a5d-2b7c-4f2d-fff4-028b1f98f644"
      },
      "execution_count": null,
      "outputs": [
        {
          "output_type": "execute_result",
          "data": {
            "text/plain": [
              "Matrix([Vector([1, 0, 0, 0]), Vector([0, 1, 0, 0]), Vector([0, 0, 1, 0]), Vector([1, 0, 0, 1])])"
            ],
            "text/html": [
              "<p style=\"text-align:center;\">$\\left[ \\begin{array}{cccc}1&0&0&1\\\\0&1&0&0\\\\0&0&1&0\\\\0&0&0&1\\\\ \\end{array} \\right]$</p>"
            ],
            "image/png": "$\\left[ \\begin{array}{cccc}1&0&0&1\\\\0&1&0&0\\\\0&0&1&0\\\\0&0&0&1\\\\ \\end{array} \\right]$",
            "text/latex": "$\\left[ \\begin{array}{cccc}1&0&0&1\\\\0&1&0&0\\\\0&0&1&0\\\\0&0&0&1\\\\ \\end{array} \\right]$"
          },
          "metadata": {},
          "execution_count": 50
        }
      ]
    },
    {
      "cell_type": "markdown",
      "source": [
        "$\\left[ \\begin{array}{cccc}1&0&0&1\\\\0&1&0&0\\\\0&0&1&0\\\\0&0&0&1\\\\ \\end{array} \\right]$"
      ],
      "metadata": {
        "id": "KRbQFCpkcgJX"
      }
    },
    {
      "cell_type": "markdown",
      "source": [
        "# **Para (c)**"
      ],
      "metadata": {
        "id": "FZa7142Jc8JG"
      }
    },
    {
      "cell_type": "code",
      "source": [
        "B&T((3,2,1))"
      ],
      "metadata": {
        "colab": {
          "base_uri": "https://localhost:8080/",
          "height": 46
        },
        "id": "yPhT-6tudA7U",
        "outputId": "cd8124e3-d6b2-4b22-9e76-5587f1f64b5b"
      },
      "execution_count": null,
      "outputs": [
        {
          "output_type": "execute_result",
          "data": {
            "text/plain": [
              "Matrix([Vector([1, 3, 0, 0]), Vector([0, 1, 0, 0]), Vector([0, 0, 1, 0]), Vector([0, 0, 0, 1])])"
            ],
            "text/html": [
              "<p style=\"text-align:center;\">$\\left[ \\begin{array}{cccc}1&0&0&0\\\\3&1&0&0\\\\0&0&1&0\\\\0&0&0&1\\\\ \\end{array} \\right]$</p>"
            ],
            "image/png": "$\\left[ \\begin{array}{cccc}1&0&0&0\\\\3&1&0&0\\\\0&0&1&0\\\\0&0&0&1\\\\ \\end{array} \\right]$",
            "text/latex": "$\\left[ \\begin{array}{cccc}1&0&0&0\\\\3&1&0&0\\\\0&0&1&0\\\\0&0&0&1\\\\ \\end{array} \\right]$"
          },
          "metadata": {},
          "execution_count": 52
        }
      ]
    },
    {
      "cell_type": "markdown",
      "source": [
        "$\\left[ \\begin{array}{cccc}1&0&0&0\\\\3&1&0&0\\\\0&0&1&0\\\\0&0&0&1\\\\ \\end{array} \\right]$"
      ],
      "metadata": {
        "id": "0z3q31z3dOFk"
      }
    },
    {
      "cell_type": "markdown",
      "source": [
        "# **Para (d)**"
      ],
      "metadata": {
        "id": "gDjgQ-ehdVyL"
      }
    },
    {
      "cell_type": "code",
      "source": [
        "B&T((-10,3))"
      ],
      "metadata": {
        "colab": {
          "base_uri": "https://localhost:8080/",
          "height": 46
        },
        "id": "7JgqOClZdZRF",
        "outputId": "486f4c28-1c67-42b0-e04e-3c2fa2a80f6d"
      },
      "execution_count": null,
      "outputs": [
        {
          "output_type": "execute_result",
          "data": {
            "text/plain": [
              "Matrix([Vector([1, 0, 0, 0]), Vector([0, 1, 0, 0]), Vector([0, 0, -10, 0]), Vector([0, 0, 0, 1])])"
            ],
            "text/html": [
              "<p style=\"text-align:center;\">$\\left[ \\begin{array}{cccc}1&0&0&0\\\\0&1&0&0\\\\0&0&-10&0\\\\0&0&0&1\\\\ \\end{array} \\right]$</p>"
            ],
            "image/png": "$\\left[ \\begin{array}{cccc}1&0&0&0\\\\0&1&0&0\\\\0&0&-10&0\\\\0&0&0&1\\\\ \\end{array} \\right]$",
            "text/latex": "$\\left[ \\begin{array}{cccc}1&0&0&0\\\\0&1&0&0\\\\0&0&-10&0\\\\0&0&0&1\\\\ \\end{array} \\right]$"
          },
          "metadata": {},
          "execution_count": 54
        }
      ]
    },
    {
      "cell_type": "markdown",
      "source": [
        "$\\left[ \\begin{array}{cccc}1&0&0&0\\\\0&1&0&0\\\\0&0&-10&0\\\\0&0&0&1\\\\ \\end{array} \\right]$"
      ],
      "metadata": {
        "id": "sosY3GQedwWh"
      }
    },
    {
      "cell_type": "markdown",
      "source": [
        "3. Sea la matriz A = $\\left[ \\begin{array}{cccc}1&1&1&1\\\\0&1&1&1\\\\1&2&3&4\\\\4&-4&1&2\\\\ \\end{array} \\right]$\n",
        ", exprese las siguientes transformaciones elementales de\n",
        "\n",
        "A como productos de A por matrices elementales y escriba el resultado:\n",
        "\n",
        "(a) Multiplicar la primera columna por 3. (b) Restar la primera columna de la segunda."
      ],
      "metadata": {
        "id": "pwJzrogtFnkN"
      }
    },
    {
      "cell_type": "code",
      "source": [
        "#La llamaré matriz D\n",
        "D = Matrix ([[1,1,1,1],[0,1,1,1],[1,2,3,4],[4,-4,1,2]])\n",
        "D"
      ],
      "metadata": {
        "colab": {
          "base_uri": "https://localhost:8080/",
          "height": 46
        },
        "id": "x_krrouCeEyo",
        "outputId": "7fff29ed-3409-41a6-8870-3c5b6fd7f129"
      },
      "execution_count": null,
      "outputs": [
        {
          "output_type": "execute_result",
          "data": {
            "text/plain": [
              "Matrix([Vector([1, 0, 1, 4]), Vector([1, 1, 2, -4]), Vector([1, 1, 3, 1]), Vector([1, 1, 4, 2])])"
            ],
            "text/html": [
              "<p style=\"text-align:center;\">$\\left[ \\begin{array}{cccc}1&1&1&1\\\\0&1&1&1\\\\1&2&3&4\\\\4&-4&1&2\\\\ \\end{array} \\right]$</p>"
            ],
            "image/png": "$\\left[ \\begin{array}{cccc}1&1&1&1\\\\0&1&1&1\\\\1&2&3&4\\\\4&-4&1&2\\\\ \\end{array} \\right]$",
            "text/latex": "$\\left[ \\begin{array}{cccc}1&1&1&1\\\\0&1&1&1\\\\1&2&3&4\\\\4&-4&1&2\\\\ \\end{array} \\right]$"
          },
          "metadata": {},
          "execution_count": 64
        }
      ]
    },
    {
      "cell_type": "markdown",
      "source": [
        "$\\left[ \\begin{array}{cccc}1&1&1&1\\\\0&1&1&1\\\\1&2&3&4\\\\4&-4&1&2\\\\ \\end{array} \\right]$"
      ],
      "metadata": {
        "id": "XUBwOwxXek9t"
      }
    },
    {
      "cell_type": "markdown",
      "source": [
        "**a) Multiplicar la primera columna por 3.**"
      ],
      "metadata": {
        "id": "F8xWfSnueyzl"
      }
    },
    {
      "cell_type": "code",
      "source": [
        "D&T((3,1))"
      ],
      "metadata": {
        "colab": {
          "base_uri": "https://localhost:8080/",
          "height": 46
        },
        "id": "p1WoTNQXe4I0",
        "outputId": "88c67171-c95d-45a6-ae30-9213df69f6fa"
      },
      "execution_count": null,
      "outputs": [
        {
          "output_type": "execute_result",
          "data": {
            "text/plain": [
              "Matrix([Vector([3, 0, 3, 12]), Vector([1, 1, 2, -4]), Vector([1, 1, 3, 1]), Vector([1, 1, 4, 2])])"
            ],
            "text/html": [
              "<p style=\"text-align:center;\">$\\left[ \\begin{array}{cccc}3&1&1&1\\\\0&1&1&1\\\\3&2&3&4\\\\12&-4&1&2\\\\ \\end{array} \\right]$</p>"
            ],
            "image/png": "$\\left[ \\begin{array}{cccc}3&1&1&1\\\\0&1&1&1\\\\3&2&3&4\\\\12&-4&1&2\\\\ \\end{array} \\right]$",
            "text/latex": "$\\left[ \\begin{array}{cccc}3&1&1&1\\\\0&1&1&1\\\\3&2&3&4\\\\12&-4&1&2\\\\ \\end{array} \\right]$"
          },
          "metadata": {},
          "execution_count": 65
        }
      ]
    },
    {
      "cell_type": "markdown",
      "source": [
        "$\\left[ \\begin{array}{cccc}3&1&1&1\\\\0&1&1&1\\\\3&2&3&4\\\\12&-4&1&2\\\\ \\end{array} \\right]$"
      ],
      "metadata": {
        "id": "pvZrGAMYftoC"
      }
    },
    {
      "cell_type": "markdown",
      "source": [
        " **(b) Restar la primera columna de la segunda.**"
      ],
      "metadata": {
        "id": "mTQPghjbfzh4"
      }
    },
    {
      "cell_type": "code",
      "source": [
        "D&T((-1,1,2))"
      ],
      "metadata": {
        "colab": {
          "base_uri": "https://localhost:8080/",
          "height": 46
        },
        "id": "CHt5_QZof35v",
        "outputId": "c10e36e6-9331-462c-bae6-6418e02c1dab"
      },
      "execution_count": null,
      "outputs": [
        {
          "output_type": "execute_result",
          "data": {
            "text/plain": [
              "Matrix([Vector([1, 0, 1, 4]), Vector([0, 1, 1, -8]), Vector([1, 1, 3, 1]), Vector([1, 1, 4, 2])])"
            ],
            "text/html": [
              "<p style=\"text-align:center;\">$\\left[ \\begin{array}{cccc}1&0&1&1\\\\0&1&1&1\\\\1&1&3&4\\\\4&-8&1&2\\\\ \\end{array} \\right]$</p>"
            ],
            "image/png": "$\\left[ \\begin{array}{cccc}1&0&1&1\\\\0&1&1&1\\\\1&1&3&4\\\\4&-8&1&2\\\\ \\end{array} \\right]$",
            "text/latex": "$\\left[ \\begin{array}{cccc}1&0&1&1\\\\0&1&1&1\\\\1&1&3&4\\\\4&-8&1&2\\\\ \\end{array} \\right]$"
          },
          "metadata": {},
          "execution_count": 63
        }
      ]
    },
    {
      "cell_type": "markdown",
      "source": [
        "$\\left[ \\begin{array}{cccc}1&0&1&1\\\\0&1&1&1\\\\1&1&3&4\\\\4&-8&1&2\\\\ \\end{array} \\right]$"
      ],
      "metadata": {
        "id": "HAbOSWt8grwN"
      }
    },
    {
      "cell_type": "markdown",
      "source": [
        "Sin embargo, si se desea aplicar la operación b) al a), entonces queda como:"
      ],
      "metadata": {
        "id": "aeSSkPVrgxLU"
      }
    },
    {
      "cell_type": "code",
      "source": [
        "D&T((-1,1,2))"
      ],
      "metadata": {
        "colab": {
          "base_uri": "https://localhost:8080/",
          "height": 46
        },
        "id": "4G5VWKQqg9yK",
        "outputId": "5a65e692-55d0-4297-b7e1-ed4215b65dea"
      },
      "execution_count": null,
      "outputs": [
        {
          "output_type": "execute_result",
          "data": {
            "text/plain": [
              "Matrix([Vector([3, 0, 3, 12]), Vector([-2, 1, -1, -16]), Vector([1, 1, 3, 1]), Vector([1, 1, 4, 2])])"
            ],
            "text/html": [
              "<p style=\"text-align:center;\">$\\left[ \\begin{array}{cccc}3&-2&1&1\\\\0&1&1&1\\\\3&-1&3&4\\\\12&-16&1&2\\\\ \\end{array} \\right]$</p>"
            ],
            "image/png": "$\\left[ \\begin{array}{cccc}3&-2&1&1\\\\0&1&1&1\\\\3&-1&3&4\\\\12&-16&1&2\\\\ \\end{array} \\right]$",
            "text/latex": "$\\left[ \\begin{array}{cccc}3&-2&1&1\\\\0&1&1&1\\\\3&-1&3&4\\\\12&-16&1&2\\\\ \\end{array} \\right]$"
          },
          "metadata": {},
          "execution_count": 66
        }
      ]
    },
    {
      "cell_type": "markdown",
      "source": [
        "$\\left[ \\begin{array}{cccc}3&-2&1&1\\\\0&1&1&1\\\\3&-1&3&4\\\\12&-16&1&2\\\\ \\end{array} \\right]$"
      ],
      "metadata": {
        "id": "0UYGiBHchB47"
      }
    },
    {
      "cell_type": "markdown",
      "source": [
        "4. Realiza el algoritmo de eliminación de Gauss-Jordan para la matriz del ejercicio 1, es decir continua las modificaciones de la matriz mediante operaciones elementales.\n",
        "Por cada paso del algoritmo escribe la celda de código correspondiente."
      ],
      "metadata": {
        "id": "NRMqK0VmB6px"
      }
    },
    {
      "cell_type": "markdown",
      "source": [
        "$\\left[ \\begin{array}{cccc}1&3&- \\frac{1}{6}&\\frac{5}{6}\\\\0&1&- \\frac{5}{6}&\\frac{1}{6}\\\\0&0&1&0\\\\0&0&0&1\\\\ \\end{array} \\right]$"
      ],
      "metadata": {
        "id": "SLwSEGXN-JmX"
      }
    },
    {
      "cell_type": "code",
      "source": [
        "T((-3,2,1))&A"
      ],
      "metadata": {
        "colab": {
          "base_uri": "https://localhost:8080/",
          "height": 46
        },
        "id": "Pxyjw_Tv-LCn",
        "outputId": "5a0ee0c1-e7d5-4953-b78c-fcd96a4edd6e"
      },
      "execution_count": 92,
      "outputs": [
        {
          "output_type": "execute_result",
          "data": {
            "text/plain": [
              "Matrix([Vector([1, 0, 0, 0]), Vector([0, 1, 0, 0]), Vector([7/3, -5/6, 1, 0]), Vector([1/3, 1/6, 0, 1])])"
            ],
            "text/html": [
              "<p style=\"text-align:center;\">$\\left[ \\begin{array}{cccc}1&0&\\frac{7}{3}&\\frac{1}{3}\\\\0&1&- \\frac{5}{6}&\\frac{1}{6}\\\\0&0&1&0\\\\0&0&0&1\\\\ \\end{array} \\right]$</p>"
            ],
            "image/png": "$\\left[ \\begin{array}{cccc}1&0&\\frac{7}{3}&\\frac{1}{3}\\\\0&1&- \\frac{5}{6}&\\frac{1}{6}\\\\0&0&1&0\\\\0&0&0&1\\\\ \\end{array} \\right]$",
            "text/latex": "$\\left[ \\begin{array}{cccc}1&0&\\frac{7}{3}&\\frac{1}{3}\\\\0&1&- \\frac{5}{6}&\\frac{1}{6}\\\\0&0&1&0\\\\0&0&0&1\\\\ \\end{array} \\right]$"
          },
          "metadata": {},
          "execution_count": 92
        }
      ]
    },
    {
      "cell_type": "markdown",
      "source": [
        "$\\left[ \\begin{array}{cccc}1&0&\\frac{7}{3}&\\frac{1}{3}\\\\0&1&- \\frac{5}{6}&\\frac{1}{6}\\\\0&0&1&0\\\\0&0&0&1\\\\ \\end{array} \\right]$"
      ],
      "metadata": {
        "id": "KNEvPCM5A_TM"
      }
    },
    {
      "cell_type": "code",
      "source": [
        "T((fracc(-7,3),3,1))&A"
      ],
      "metadata": {
        "colab": {
          "base_uri": "https://localhost:8080/",
          "height": 46
        },
        "id": "k_BhYzdiBGZq",
        "outputId": "79d689ce-2a23-48b9-d399-711fc1c464e7"
      },
      "execution_count": 93,
      "outputs": [
        {
          "output_type": "execute_result",
          "data": {
            "text/plain": [
              "Matrix([Vector([1, 0, 0, 0]), Vector([0, 1, 0, 0]), Vector([0, -5/6, 1, 0]), Vector([1/3, 1/6, 0, 1])])"
            ],
            "text/html": [
              "<p style=\"text-align:center;\">$\\left[ \\begin{array}{cccc}1&0&0&\\frac{1}{3}\\\\0&1&- \\frac{5}{6}&\\frac{1}{6}\\\\0&0&1&0\\\\0&0&0&1\\\\ \\end{array} \\right]$</p>"
            ],
            "image/png": "$\\left[ \\begin{array}{cccc}1&0&0&\\frac{1}{3}\\\\0&1&- \\frac{5}{6}&\\frac{1}{6}\\\\0&0&1&0\\\\0&0&0&1\\\\ \\end{array} \\right]$",
            "text/latex": "$\\left[ \\begin{array}{cccc}1&0&0&\\frac{1}{3}\\\\0&1&- \\frac{5}{6}&\\frac{1}{6}\\\\0&0&1&0\\\\0&0&0&1\\\\ \\end{array} \\right]$"
          },
          "metadata": {},
          "execution_count": 93
        }
      ]
    },
    {
      "cell_type": "markdown",
      "source": [
        "$\\left[ \\begin{array}{cccc}1&0&0&\\frac{1}{3}\\\\0&1&- \\frac{5}{6}&\\frac{1}{6}\\\\0&0&1&0\\\\0&0&0&1\\\\ \\end{array} \\right]$"
      ],
      "metadata": {
        "id": "Oog6oIxMBUWq"
      }
    },
    {
      "cell_type": "code",
      "source": [
        "T((fracc(5,6),3,2))&A"
      ],
      "metadata": {
        "colab": {
          "base_uri": "https://localhost:8080/",
          "height": 46
        },
        "id": "46TKiJ5kBYRy",
        "outputId": "981eb4e7-4595-490d-a320-efc3797f6aa8"
      },
      "execution_count": 94,
      "outputs": [
        {
          "output_type": "execute_result",
          "data": {
            "text/plain": [
              "Matrix([Vector([1, 0, 0, 0]), Vector([0, 1, 0, 0]), Vector([0, 0, 1, 0]), Vector([1/3, 1/6, 0, 1])])"
            ],
            "text/html": [
              "<p style=\"text-align:center;\">$\\left[ \\begin{array}{cccc}1&0&0&\\frac{1}{3}\\\\0&1&0&\\frac{1}{6}\\\\0&0&1&0\\\\0&0&0&1\\\\ \\end{array} \\right]$</p>"
            ],
            "image/png": "$\\left[ \\begin{array}{cccc}1&0&0&\\frac{1}{3}\\\\0&1&0&\\frac{1}{6}\\\\0&0&1&0\\\\0&0&0&1\\\\ \\end{array} \\right]$",
            "text/latex": "$\\left[ \\begin{array}{cccc}1&0&0&\\frac{1}{3}\\\\0&1&0&\\frac{1}{6}\\\\0&0&1&0\\\\0&0&0&1\\\\ \\end{array} \\right]$"
          },
          "metadata": {},
          "execution_count": 94
        }
      ]
    },
    {
      "cell_type": "markdown",
      "source": [
        "$\\left[ \\begin{array}{cccc}1&0&0&\\frac{1}{3}\\\\0&1&0&\\frac{1}{6}\\\\0&0&1&0\\\\0&0&0&1\\\\ \\end{array} \\right]$"
      ],
      "metadata": {
        "id": "qWxY-GxfCNam"
      }
    },
    {
      "cell_type": "markdown",
      "source": [
        "5. Compara tus resultados del ejercicio 1 con el metodo Elim()"
      ],
      "metadata": {
        "id": "C-GfuE9_Cw_H"
      }
    },
    {
      "cell_type": "markdown",
      "source": [
        " 6. Compara tus resultados del ejercicio 4 con el metodo ElimGJ()"
      ],
      "metadata": {
        "id": "LQ2qXfhaIRis"
      }
    },
    {
      "cell_type": "markdown",
      "source": [
        "7. Encuentra la inversa de la matriz del ejercicio 1."
      ],
      "metadata": {
        "id": "2F3XtwbpIhOO"
      }
    },
    {
      "cell_type": "code",
      "source": [
        "#Se extiende la matriz\n",
        "a= Vector((3,1,2,4,1,0,0,0)); b=Vector((-2,-1,1,-4,0,1,0,0)); c= Vector((2,-1,2,1,0,0,1,0)); d=Vector((1,-3,4,2,0,0,0,1))\n",
        "Z= Matrix([a,b,c,d])\n",
        "Z"
      ],
      "metadata": {
        "colab": {
          "base_uri": "https://localhost:8080/",
          "height": 46
        },
        "id": "2lj12xJWd1sY",
        "outputId": "5e2b446a-08d8-4938-ffc5-0e50ce2ab84a"
      },
      "execution_count": 2,
      "outputs": [
        {
          "output_type": "execute_result",
          "data": {
            "text/plain": [
              "Matrix([Vector([3, 1, 2, 4, 1, 0, 0, 0]), Vector([-2, -1, 1, -4, 0, 1, 0, 0]), Vector([2, -1, 2, 1, 0, 0, 1, 0]), Vector([1, -3, 4, 2, 0, 0, 0, 1])])"
            ],
            "text/html": [
              "<p style=\"text-align:center;\">$\\left[ \\begin{array}{cccc}3&-2&2&1\\\\1&-1&-1&-3\\\\2&1&2&4\\\\4&-4&1&2\\\\1&0&0&0\\\\0&1&0&0\\\\0&0&1&0\\\\0&0&0&1\\\\ \\end{array} \\right]$</p>"
            ],
            "image/png": "$\\left[ \\begin{array}{cccc}3&-2&2&1\\\\1&-1&-1&-3\\\\2&1&2&4\\\\4&-4&1&2\\\\1&0&0&0\\\\0&1&0&0\\\\0&0&1&0\\\\0&0&0&1\\\\ \\end{array} \\right]$",
            "text/latex": "$\\left[ \\begin{array}{cccc}3&-2&2&1\\\\1&-1&-1&-3\\\\2&1&2&4\\\\4&-4&1&2\\\\1&0&0&0\\\\0&1&0&0\\\\0&0&1&0\\\\0&0&0&1\\\\ \\end{array} \\right]$"
          },
          "metadata": {},
          "execution_count": 2
        }
      ]
    },
    {
      "cell_type": "markdown",
      "source": [
        "$\\left[ \\begin{array}{cccc}3&-2&2&1\\\\1&-1&-1&-3\\\\2&1&2&4\\\\4&-4&1&2\\\\1&0&0&0\\\\0&1&0&0\\\\0&0&1&0\\\\0&0&0&1\\\\ \\end{array} \\right]$"
      ],
      "metadata": {
        "id": "D0t2p_Nye3rs"
      }
    },
    {
      "cell_type": "code",
      "source": [
        "Z&T((2,4,2))"
      ],
      "metadata": {
        "colab": {
          "base_uri": "https://localhost:8080/",
          "height": 46
        },
        "id": "h9nJmCe12aGH",
        "outputId": "4d56cbb1-07b3-4db5-91d5-6f35adfd0838"
      },
      "execution_count": 37,
      "outputs": [
        {
          "output_type": "execute_result",
          "data": {
            "text/plain": [
              "Matrix([Vector([3, 1, 2, 4, 1, 0, 0, 0]), Vector([0, -7, 9, 0, 0, 1, 0, 2]), Vector([2, -1, 2, 1, 0, 0, 1, 0]), Vector([1, -3, 4, 2, 0, 0, 0, 1])])"
            ],
            "text/html": [
              "<p style=\"text-align:center;\">$\\left[ \\begin{array}{cccc}3&0&2&1\\\\1&-7&-1&-3\\\\2&9&2&4\\\\4&0&1&2\\\\1&0&0&0\\\\0&1&0&0\\\\0&0&1&0\\\\0&2&0&1\\\\ \\end{array} \\right]$</p>"
            ],
            "image/png": "$\\left[ \\begin{array}{cccc}3&0&2&1\\\\1&-7&-1&-3\\\\2&9&2&4\\\\4&0&1&2\\\\1&0&0&0\\\\0&1&0&0\\\\0&0&1&0\\\\0&2&0&1\\\\ \\end{array} \\right]$",
            "text/latex": "$\\left[ \\begin{array}{cccc}3&0&2&1\\\\1&-7&-1&-3\\\\2&9&2&4\\\\4&0&1&2\\\\1&0&0&0\\\\0&1&0&0\\\\0&0&1&0\\\\0&2&0&1\\\\ \\end{array} \\right]$"
          },
          "metadata": {},
          "execution_count": 37
        }
      ]
    },
    {
      "cell_type": "markdown",
      "source": [
        "$\\left[ \\begin{array}{cccc}3&0&2&1\\\\1&-7&-1&-3\\\\2&9&2&4\\\\4&0&1&2\\\\1&0&0&0\\\\0&1&0&0\\\\0&0&1&0\\\\0&2&0&1\\\\ \\end{array} \\right]$"
      ],
      "metadata": {
        "id": "OZTkb39c2fiw"
      }
    },
    {
      "cell_type": "code",
      "source": [
        "Z&T((-2,4,3))"
      ],
      "metadata": {
        "colab": {
          "base_uri": "https://localhost:8080/",
          "height": 46
        },
        "id": "upbup8YQ2idw",
        "outputId": "08252bf3-b737-4571-9660-1115ae647872"
      },
      "execution_count": 38,
      "outputs": [
        {
          "output_type": "execute_result",
          "data": {
            "text/plain": [
              "Matrix([Vector([3, 1, 2, 4, 1, 0, 0, 0]), Vector([0, -7, 9, 0, 0, 1, 0, 2]), Vector([0, 5, -6, -3, 0, 0, 1, -2]), Vector([1, -3, 4, 2, 0, 0, 0, 1])])"
            ],
            "text/html": [
              "<p style=\"text-align:center;\">$\\left[ \\begin{array}{cccc}3&0&0&1\\\\1&-7&5&-3\\\\2&9&-6&4\\\\4&0&-3&2\\\\1&0&0&0\\\\0&1&0&0\\\\0&0&1&0\\\\0&2&-2&1\\\\ \\end{array} \\right]$</p>"
            ],
            "image/png": "$\\left[ \\begin{array}{cccc}3&0&0&1\\\\1&-7&5&-3\\\\2&9&-6&4\\\\4&0&-3&2\\\\1&0&0&0\\\\0&1&0&0\\\\0&0&1&0\\\\0&2&-2&1\\\\ \\end{array} \\right]$",
            "text/latex": "$\\left[ \\begin{array}{cccc}3&0&0&1\\\\1&-7&5&-3\\\\2&9&-6&4\\\\4&0&-3&2\\\\1&0&0&0\\\\0&1&0&0\\\\0&0&1&0\\\\0&2&-2&1\\\\ \\end{array} \\right]$"
          },
          "metadata": {},
          "execution_count": 38
        }
      ]
    },
    {
      "cell_type": "markdown",
      "source": [
        "$\\left[ \\begin{array}{cccc}3&0&0&1\\\\1&-7&5&-3\\\\2&9&-6&4\\\\4&0&-3&2\\\\1&0&0&0\\\\0&1&0&0\\\\0&0&1&0\\\\0&2&-2&1\\\\ \\end{array} \\right]$"
      ],
      "metadata": {
        "id": "44B263Qs2nU_"
      }
    },
    {
      "cell_type": "code",
      "source": [
        "Z&T((fracc(1,3),1))"
      ],
      "metadata": {
        "colab": {
          "base_uri": "https://localhost:8080/",
          "height": 46
        },
        "id": "-I-k-nDk2rKf",
        "outputId": "6d9c8fca-30b8-47c7-c91f-33a1ba85fc4d"
      },
      "execution_count": 39,
      "outputs": [
        {
          "output_type": "execute_result",
          "data": {
            "text/plain": [
              "Matrix([Vector([1, 1/3, 2/3, 4/3, 1/3, 0, 0, 0]), Vector([0, -7, 9, 0, 0, 1, 0, 2]), Vector([0, 5, -6, -3, 0, 0, 1, -2]), Vector([1, -3, 4, 2, 0, 0, 0, 1])])"
            ],
            "text/html": [
              "<p style=\"text-align:center;\">$\\left[ \\begin{array}{cccc}1&0&0&1\\\\\\frac{1}{3}&-7&5&-3\\\\\\frac{2}{3}&9&-6&4\\\\\\frac{4}{3}&0&-3&2\\\\\\frac{1}{3}&0&0&0\\\\0&1&0&0\\\\0&0&1&0\\\\0&2&-2&1\\\\ \\end{array} \\right]$</p>"
            ],
            "image/png": "$\\left[ \\begin{array}{cccc}1&0&0&1\\\\\\frac{1}{3}&-7&5&-3\\\\\\frac{2}{3}&9&-6&4\\\\\\frac{4}{3}&0&-3&2\\\\\\frac{1}{3}&0&0&0\\\\0&1&0&0\\\\0&0&1&0\\\\0&2&-2&1\\\\ \\end{array} \\right]$",
            "text/latex": "$\\left[ \\begin{array}{cccc}1&0&0&1\\\\\\frac{1}{3}&-7&5&-3\\\\\\frac{2}{3}&9&-6&4\\\\\\frac{4}{3}&0&-3&2\\\\\\frac{1}{3}&0&0&0\\\\0&1&0&0\\\\0&0&1&0\\\\0&2&-2&1\\\\ \\end{array} \\right]$"
          },
          "metadata": {},
          "execution_count": 39
        }
      ]
    },
    {
      "cell_type": "markdown",
      "source": [
        "$\\left[ \\begin{array}{cccc}1&0&0&1\\\\\\frac{1}{3}&-7&5&-3\\\\\\frac{2}{3}&9&-6&4\\\\\\frac{4}{3}&0&-3&2\\\\\\frac{1}{3}&0&0&0\\\\0&1&0&0\\\\0&0&1&0\\\\0&2&-2&1\\\\ \\end{array} \\right]$"
      ],
      "metadata": {
        "id": "c5En0KD_2tm2"
      }
    },
    {
      "cell_type": "code",
      "source": [
        "Z&T((-1,1,4))"
      ],
      "metadata": {
        "colab": {
          "base_uri": "https://localhost:8080/",
          "height": 46
        },
        "id": "Ct1rJx622w6e",
        "outputId": "47c0ac2e-f8a5-44fe-906b-62f8cd85a84e"
      },
      "execution_count": 40,
      "outputs": [
        {
          "output_type": "execute_result",
          "data": {
            "text/plain": [
              "Matrix([Vector([1, 1/3, 2/3, 4/3, 1/3, 0, 0, 0]), Vector([0, -7, 9, 0, 0, 1, 0, 2]), Vector([0, 5, -6, -3, 0, 0, 1, -2]), Vector([0, -10/3, 10/3, 2/3, -1/3, 0, 0, 1])])"
            ],
            "text/html": [
              "<p style=\"text-align:center;\">$\\left[ \\begin{array}{cccc}1&0&0&0\\\\\\frac{1}{3}&-7&5&- \\frac{10}{3}\\\\\\frac{2}{3}&9&-6&\\frac{10}{3}\\\\\\frac{4}{3}&0&-3&\\frac{2}{3}\\\\\\frac{1}{3}&0&0&- \\frac{1}{3}\\\\0&1&0&0\\\\0&0&1&0\\\\0&2&-2&1\\\\ \\end{array} \\right]$</p>"
            ],
            "image/png": "$\\left[ \\begin{array}{cccc}1&0&0&0\\\\\\frac{1}{3}&-7&5&- \\frac{10}{3}\\\\\\frac{2}{3}&9&-6&\\frac{10}{3}\\\\\\frac{4}{3}&0&-3&\\frac{2}{3}\\\\\\frac{1}{3}&0&0&- \\frac{1}{3}\\\\0&1&0&0\\\\0&0&1&0\\\\0&2&-2&1\\\\ \\end{array} \\right]$",
            "text/latex": "$\\left[ \\begin{array}{cccc}1&0&0&0\\\\\\frac{1}{3}&-7&5&- \\frac{10}{3}\\\\\\frac{2}{3}&9&-6&\\frac{10}{3}\\\\\\frac{4}{3}&0&-3&\\frac{2}{3}\\\\\\frac{1}{3}&0&0&- \\frac{1}{3}\\\\0&1&0&0\\\\0&0&1&0\\\\0&2&-2&1\\\\ \\end{array} \\right]$"
          },
          "metadata": {},
          "execution_count": 40
        }
      ]
    },
    {
      "cell_type": "markdown",
      "source": [
        "$\\left[ \\begin{array}{cccc}1&0&0&0\\\\\\frac{1}{3}&-7&5&- \\frac{10}{3}\\\\\\frac{2}{3}&9&-6&\\frac{10}{3}\\\\\\frac{4}{3}&0&-3&\\frac{2}{3}\\\\\\frac{1}{3}&0&0&- \\frac{1}{3}\\\\0&1&0&0\\\\0&0&1&0\\\\0&2&-2&1\\\\ \\end{array} \\right]$"
      ],
      "metadata": {
        "id": "WXnic7L62zBX"
      }
    },
    {
      "cell_type": "code",
      "source": [
        "Z&T((fracc(-3,10),4))"
      ],
      "metadata": {
        "colab": {
          "base_uri": "https://localhost:8080/",
          "height": 46
        },
        "id": "tTkkN3ga204f",
        "outputId": "81704200-42f5-4c3f-c631-ad61fa977500"
      },
      "execution_count": 41,
      "outputs": [
        {
          "output_type": "execute_result",
          "data": {
            "text/plain": [
              "Matrix([Vector([1, 1/3, 2/3, 4/3, 1/3, 0, 0, 0]), Vector([0, -7, 9, 0, 0, 1, 0, 2]), Vector([0, 5, -6, -3, 0, 0, 1, -2]), Vector([0, 1, -1, -1/5, 1/10, 0, 0, -3/10])])"
            ],
            "text/html": [
              "<p style=\"text-align:center;\">$\\left[ \\begin{array}{cccc}1&0&0&0\\\\\\frac{1}{3}&-7&5&1\\\\\\frac{2}{3}&9&-6&-1\\\\\\frac{4}{3}&0&-3&- \\frac{1}{5}\\\\\\frac{1}{3}&0&0&\\frac{1}{10}\\\\0&1&0&0\\\\0&0&1&0\\\\0&2&-2&- \\frac{3}{10}\\\\ \\end{array} \\right]$</p>"
            ],
            "image/png": "$\\left[ \\begin{array}{cccc}1&0&0&0\\\\\\frac{1}{3}&-7&5&1\\\\\\frac{2}{3}&9&-6&-1\\\\\\frac{4}{3}&0&-3&- \\frac{1}{5}\\\\\\frac{1}{3}&0&0&\\frac{1}{10}\\\\0&1&0&0\\\\0&0&1&0\\\\0&2&-2&- \\frac{3}{10}\\\\ \\end{array} \\right]$",
            "text/latex": "$\\left[ \\begin{array}{cccc}1&0&0&0\\\\\\frac{1}{3}&-7&5&1\\\\\\frac{2}{3}&9&-6&-1\\\\\\frac{4}{3}&0&-3&- \\frac{1}{5}\\\\\\frac{1}{3}&0&0&\\frac{1}{10}\\\\0&1&0&0\\\\0&0&1&0\\\\0&2&-2&- \\frac{3}{10}\\\\ \\end{array} \\right]$"
          },
          "metadata": {},
          "execution_count": 41
        }
      ]
    },
    {
      "cell_type": "markdown",
      "source": [
        "$\\left[ \\begin{array}{cccc}1&0&0&0\\\\\\frac{1}{3}&-7&5&1\\\\\\frac{2}{3}&9&-6&-1\\\\\\frac{4}{3}&0&-3&- \\frac{1}{5}\\\\\\frac{1}{3}&0&0&\\frac{1}{10}\\\\0&1&0&0\\\\0&0&1&0\\\\0&2&-2&- \\frac{3}{10}\\\\ \\end{array} \\right]$"
      ],
      "metadata": {
        "id": "ixTtvGQG25CG"
      }
    },
    {
      "cell_type": "code",
      "source": [
        "Z&T((-5,4,3))"
      ],
      "metadata": {
        "colab": {
          "base_uri": "https://localhost:8080/",
          "height": 46
        },
        "id": "mtMNalNJ27Hf",
        "outputId": "66e86aed-4d0a-4269-c983-331444effcdd"
      },
      "execution_count": 42,
      "outputs": [
        {
          "output_type": "execute_result",
          "data": {
            "text/plain": [
              "Matrix([Vector([1, 1/3, 2/3, 4/3, 1/3, 0, 0, 0]), Vector([0, -7, 9, 0, 0, 1, 0, 2]), Vector([0, 0, -1, -2, -1/2, 0, 1, -1/2]), Vector([0, 1, -1, -1/5, 1/10, 0, 0, -3/10])])"
            ],
            "text/html": [
              "<p style=\"text-align:center;\">$\\left[ \\begin{array}{cccc}1&0&0&0\\\\\\frac{1}{3}&-7&0&1\\\\\\frac{2}{3}&9&-1&-1\\\\\\frac{4}{3}&0&-2&- \\frac{1}{5}\\\\\\frac{1}{3}&0&- \\frac{1}{2}&\\frac{1}{10}\\\\0&1&0&0\\\\0&0&1&0\\\\0&2&- \\frac{1}{2}&- \\frac{3}{10}\\\\ \\end{array} \\right]$</p>"
            ],
            "image/png": "$\\left[ \\begin{array}{cccc}1&0&0&0\\\\\\frac{1}{3}&-7&0&1\\\\\\frac{2}{3}&9&-1&-1\\\\\\frac{4}{3}&0&-2&- \\frac{1}{5}\\\\\\frac{1}{3}&0&- \\frac{1}{2}&\\frac{1}{10}\\\\0&1&0&0\\\\0&0&1&0\\\\0&2&- \\frac{1}{2}&- \\frac{3}{10}\\\\ \\end{array} \\right]$",
            "text/latex": "$\\left[ \\begin{array}{cccc}1&0&0&0\\\\\\frac{1}{3}&-7&0&1\\\\\\frac{2}{3}&9&-1&-1\\\\\\frac{4}{3}&0&-2&- \\frac{1}{5}\\\\\\frac{1}{3}&0&- \\frac{1}{2}&\\frac{1}{10}\\\\0&1&0&0\\\\0&0&1&0\\\\0&2&- \\frac{1}{2}&- \\frac{3}{10}\\\\ \\end{array} \\right]$"
          },
          "metadata": {},
          "execution_count": 42
        }
      ]
    },
    {
      "cell_type": "markdown",
      "source": [
        "$\\left[ \\begin{array}{cccc}1&0&0&0\\\\\\frac{1}{3}&-7&0&1\\\\\\frac{2}{3}&9&-1&-1\\\\\\frac{4}{3}&0&-2&- \\frac{1}{5}\\\\\\frac{1}{3}&0&- \\frac{1}{2}&\\frac{1}{10}\\\\0&1&0&0\\\\0&0&1&0\\\\0&2&- \\frac{1}{2}&- \\frac{3}{10}\\\\ \\end{array} \\right]$"
      ],
      "metadata": {
        "id": "JJNe6qih3AR2"
      }
    },
    {
      "cell_type": "code",
      "source": [
        "Z&T((fracc(-1,3),4,1))"
      ],
      "metadata": {
        "colab": {
          "base_uri": "https://localhost:8080/",
          "height": 46
        },
        "id": "B8rraHle3Ev1",
        "outputId": "d4be72b6-1479-4867-9dd6-ab859bee4c05"
      },
      "execution_count": 43,
      "outputs": [
        {
          "output_type": "execute_result",
          "data": {
            "text/plain": [
              "Matrix([Vector([1, 0, 1, 7/5, 3/10, 0, 0, 1/10]), Vector([0, -7, 9, 0, 0, 1, 0, 2]), Vector([0, 0, -1, -2, -1/2, 0, 1, -1/2]), Vector([0, 1, -1, -1/5, 1/10, 0, 0, -3/10])])"
            ],
            "text/html": [
              "<p style=\"text-align:center;\">$\\left[ \\begin{array}{cccc}1&0&0&0\\\\0&-7&0&1\\\\1&9&-1&-1\\\\\\frac{7}{5}&0&-2&- \\frac{1}{5}\\\\\\frac{3}{10}&0&- \\frac{1}{2}&\\frac{1}{10}\\\\0&1&0&0\\\\0&0&1&0\\\\\\frac{1}{10}&2&- \\frac{1}{2}&- \\frac{3}{10}\\\\ \\end{array} \\right]$</p>"
            ],
            "image/png": "$\\left[ \\begin{array}{cccc}1&0&0&0\\\\0&-7&0&1\\\\1&9&-1&-1\\\\\\frac{7}{5}&0&-2&- \\frac{1}{5}\\\\\\frac{3}{10}&0&- \\frac{1}{2}&\\frac{1}{10}\\\\0&1&0&0\\\\0&0&1&0\\\\\\frac{1}{10}&2&- \\frac{1}{2}&- \\frac{3}{10}\\\\ \\end{array} \\right]$",
            "text/latex": "$\\left[ \\begin{array}{cccc}1&0&0&0\\\\0&-7&0&1\\\\1&9&-1&-1\\\\\\frac{7}{5}&0&-2&- \\frac{1}{5}\\\\\\frac{3}{10}&0&- \\frac{1}{2}&\\frac{1}{10}\\\\0&1&0&0\\\\0&0&1&0\\\\\\frac{1}{10}&2&- \\frac{1}{2}&- \\frac{3}{10}\\\\ \\end{array} \\right]$"
          },
          "metadata": {},
          "execution_count": 43
        }
      ]
    },
    {
      "cell_type": "markdown",
      "source": [
        "$\\left[ \\begin{array}{cccc}1&0&0&0\\\\0&-7&0&1\\\\1&9&-1&-1\\\\\\frac{7}{5}&0&-2&- \\frac{1}{5}\\\\\\frac{3}{10}&0&- \\frac{1}{2}&\\frac{1}{10}\\\\0&1&0&0\\\\0&0&1&0\\\\\\frac{1}{10}&2&- \\frac{1}{2}&- \\frac{3}{10}\\\\ \\end{array} \\right]$"
      ],
      "metadata": {
        "id": "1WoDQ1WB3HFO"
      }
    },
    {
      "cell_type": "code",
      "source": [
        "Z&T((fracc(-1,7),2))"
      ],
      "metadata": {
        "colab": {
          "base_uri": "https://localhost:8080/",
          "height": 46
        },
        "id": "AwyYPDnd3KbU",
        "outputId": "7483d098-fa0d-4035-cd4c-baf9c82e6ed5"
      },
      "execution_count": 44,
      "outputs": [
        {
          "output_type": "execute_result",
          "data": {
            "text/plain": [
              "Matrix([Vector([1, 0, 1, 7/5, 3/10, 0, 0, 1/10]), Vector([0, 1, -9/7, 0, 0, -1/7, 0, -2/7]), Vector([0, 0, -1, -2, -1/2, 0, 1, -1/2]), Vector([0, 1, -1, -1/5, 1/10, 0, 0, -3/10])])"
            ],
            "text/html": [
              "<p style=\"text-align:center;\">$\\left[ \\begin{array}{cccc}1&0&0&0\\\\0&1&0&1\\\\1&- \\frac{9}{7}&-1&-1\\\\\\frac{7}{5}&0&-2&- \\frac{1}{5}\\\\\\frac{3}{10}&0&- \\frac{1}{2}&\\frac{1}{10}\\\\0&- \\frac{1}{7}&0&0\\\\0&0&1&0\\\\\\frac{1}{10}&- \\frac{2}{7}&- \\frac{1}{2}&- \\frac{3}{10}\\\\ \\end{array} \\right]$</p>"
            ],
            "image/png": "$\\left[ \\begin{array}{cccc}1&0&0&0\\\\0&1&0&1\\\\1&- \\frac{9}{7}&-1&-1\\\\\\frac{7}{5}&0&-2&- \\frac{1}{5}\\\\\\frac{3}{10}&0&- \\frac{1}{2}&\\frac{1}{10}\\\\0&- \\frac{1}{7}&0&0\\\\0&0&1&0\\\\\\frac{1}{10}&- \\frac{2}{7}&- \\frac{1}{2}&- \\frac{3}{10}\\\\ \\end{array} \\right]$",
            "text/latex": "$\\left[ \\begin{array}{cccc}1&0&0&0\\\\0&1&0&1\\\\1&- \\frac{9}{7}&-1&-1\\\\\\frac{7}{5}&0&-2&- \\frac{1}{5}\\\\\\frac{3}{10}&0&- \\frac{1}{2}&\\frac{1}{10}\\\\0&- \\frac{1}{7}&0&0\\\\0&0&1&0\\\\\\frac{1}{10}&- \\frac{2}{7}&- \\frac{1}{2}&- \\frac{3}{10}\\\\ \\end{array} \\right]$"
          },
          "metadata": {},
          "execution_count": 44
        }
      ]
    },
    {
      "cell_type": "markdown",
      "source": [
        "$\\left[ \\begin{array}{cccc}1&0&0&0\\\\0&1&0&1\\\\1&- \\frac{9}{7}&-1&-1\\\\\\frac{7}{5}&0&-2&- \\frac{1}{5}\\\\\\frac{3}{10}&0&- \\frac{1}{2}&\\frac{1}{10}\\\\0&- \\frac{1}{7}&0&0\\\\0&0&1&0\\\\\\frac{1}{10}&- \\frac{2}{7}&- \\frac{1}{2}&- \\frac{3}{10}\\\\ \\end{array} \\right]$"
      ],
      "metadata": {
        "id": "bcMicLw93Mis"
      }
    },
    {
      "cell_type": "code",
      "source": [
        "Z&T((-1,2,4))"
      ],
      "metadata": {
        "colab": {
          "base_uri": "https://localhost:8080/",
          "height": 46
        },
        "id": "2VyUcrhR3ObU",
        "outputId": "9ae03a84-080c-40ce-d8fd-3ba89ae5cb09"
      },
      "execution_count": 45,
      "outputs": [
        {
          "output_type": "execute_result",
          "data": {
            "text/plain": [
              "Matrix([Vector([1, 0, 1, 7/5, 3/10, 0, 0, 1/10]), Vector([0, 1, -9/7, 0, 0, -1/7, 0, -2/7]), Vector([0, 0, -1, -2, -1/2, 0, 1, -1/2]), Vector([0, 0, 2/7, -1/5, 1/10, 1/7, 0, -1/70])])"
            ],
            "text/html": [
              "<p style=\"text-align:center;\">$\\left[ \\begin{array}{cccc}1&0&0&0\\\\0&1&0&0\\\\1&- \\frac{9}{7}&-1&\\frac{2}{7}\\\\\\frac{7}{5}&0&-2&- \\frac{1}{5}\\\\\\frac{3}{10}&0&- \\frac{1}{2}&\\frac{1}{10}\\\\0&- \\frac{1}{7}&0&\\frac{1}{7}\\\\0&0&1&0\\\\\\frac{1}{10}&- \\frac{2}{7}&- \\frac{1}{2}&- \\frac{1}{70}\\\\ \\end{array} \\right]$</p>"
            ],
            "image/png": "$\\left[ \\begin{array}{cccc}1&0&0&0\\\\0&1&0&0\\\\1&- \\frac{9}{7}&-1&\\frac{2}{7}\\\\\\frac{7}{5}&0&-2&- \\frac{1}{5}\\\\\\frac{3}{10}&0&- \\frac{1}{2}&\\frac{1}{10}\\\\0&- \\frac{1}{7}&0&\\frac{1}{7}\\\\0&0&1&0\\\\\\frac{1}{10}&- \\frac{2}{7}&- \\frac{1}{2}&- \\frac{1}{70}\\\\ \\end{array} \\right]$",
            "text/latex": "$\\left[ \\begin{array}{cccc}1&0&0&0\\\\0&1&0&0\\\\1&- \\frac{9}{7}&-1&\\frac{2}{7}\\\\\\frac{7}{5}&0&-2&- \\frac{1}{5}\\\\\\frac{3}{10}&0&- \\frac{1}{2}&\\frac{1}{10}\\\\0&- \\frac{1}{7}&0&\\frac{1}{7}\\\\0&0&1&0\\\\\\frac{1}{10}&- \\frac{2}{7}&- \\frac{1}{2}&- \\frac{1}{70}\\\\ \\end{array} \\right]$"
          },
          "metadata": {},
          "execution_count": 45
        }
      ]
    },
    {
      "cell_type": "markdown",
      "source": [
        "$\\left[ \\begin{array}{cccc}1&0&0&0\\\\0&1&0&0\\\\1&- \\frac{9}{7}&-1&\\frac{2}{7}\\\\\\frac{7}{5}&0&-2&- \\frac{1}{5}\\\\\\frac{3}{10}&0&- \\frac{1}{2}&\\frac{1}{10}\\\\0&- \\frac{1}{7}&0&\\frac{1}{7}\\\\0&0&1&0\\\\\\frac{1}{10}&- \\frac{2}{7}&- \\frac{1}{2}&- \\frac{1}{70}\\\\ \\end{array} \\right]$"
      ],
      "metadata": {
        "id": "qUzUfg_N3SOU"
      }
    },
    {
      "cell_type": "code",
      "source": [
        "Z&T((fracc(-1,1),3))"
      ],
      "metadata": {
        "colab": {
          "base_uri": "https://localhost:8080/",
          "height": 46
        },
        "id": "hzemtbE03ULE",
        "outputId": "af68ea11-533b-4e55-cd67-7d7b01919316"
      },
      "execution_count": 46,
      "outputs": [
        {
          "output_type": "execute_result",
          "data": {
            "text/plain": [
              "Matrix([Vector([1, 0, 1, 7/5, 3/10, 0, 0, 1/10]), Vector([0, 1, -9/7, 0, 0, -1/7, 0, -2/7]), Vector([0, 0, 1, 2, 1/2, 0, -1, 1/2]), Vector([0, 0, 2/7, -1/5, 1/10, 1/7, 0, -1/70])])"
            ],
            "text/html": [
              "<p style=\"text-align:center;\">$\\left[ \\begin{array}{cccc}1&0&0&0\\\\0&1&0&0\\\\1&- \\frac{9}{7}&1&\\frac{2}{7}\\\\\\frac{7}{5}&0&2&- \\frac{1}{5}\\\\\\frac{3}{10}&0&\\frac{1}{2}&\\frac{1}{10}\\\\0&- \\frac{1}{7}&0&\\frac{1}{7}\\\\0&0&-1&0\\\\\\frac{1}{10}&- \\frac{2}{7}&\\frac{1}{2}&- \\frac{1}{70}\\\\ \\end{array} \\right]$</p>"
            ],
            "image/png": "$\\left[ \\begin{array}{cccc}1&0&0&0\\\\0&1&0&0\\\\1&- \\frac{9}{7}&1&\\frac{2}{7}\\\\\\frac{7}{5}&0&2&- \\frac{1}{5}\\\\\\frac{3}{10}&0&\\frac{1}{2}&\\frac{1}{10}\\\\0&- \\frac{1}{7}&0&\\frac{1}{7}\\\\0&0&-1&0\\\\\\frac{1}{10}&- \\frac{2}{7}&\\frac{1}{2}&- \\frac{1}{70}\\\\ \\end{array} \\right]$",
            "text/latex": "$\\left[ \\begin{array}{cccc}1&0&0&0\\\\0&1&0&0\\\\1&- \\frac{9}{7}&1&\\frac{2}{7}\\\\\\frac{7}{5}&0&2&- \\frac{1}{5}\\\\\\frac{3}{10}&0&\\frac{1}{2}&\\frac{1}{10}\\\\0&- \\frac{1}{7}&0&\\frac{1}{7}\\\\0&0&-1&0\\\\\\frac{1}{10}&- \\frac{2}{7}&\\frac{1}{2}&- \\frac{1}{70}\\\\ \\end{array} \\right]$"
          },
          "metadata": {},
          "execution_count": 46
        }
      ]
    },
    {
      "cell_type": "markdown",
      "source": [
        "$\\left[ \\begin{array}{cccc}1&0&0&0\\\\0&1&0&0\\\\1&- \\frac{9}{7}&1&\\frac{2}{7}\\\\\\frac{7}{5}&0&2&- \\frac{1}{5}\\\\\\frac{3}{10}&0&\\frac{1}{2}&\\frac{1}{10}\\\\0&- \\frac{1}{7}&0&\\frac{1}{7}\\\\0&0&-1&0\\\\\\frac{1}{10}&- \\frac{2}{7}&\\frac{1}{2}&- \\frac{1}{70}\\\\ \\end{array} \\right]$"
      ],
      "metadata": {
        "id": "Jw6HmSMX3Yqk"
      }
    },
    {
      "cell_type": "code",
      "source": [
        "Z&T((-1,3,1))"
      ],
      "metadata": {
        "colab": {
          "base_uri": "https://localhost:8080/",
          "height": 46
        },
        "id": "ovySeHJD3afz",
        "outputId": "0522e7dc-02df-4287-fbe7-b3fec9c62b36"
      },
      "execution_count": 47,
      "outputs": [
        {
          "output_type": "execute_result",
          "data": {
            "text/plain": [
              "Matrix([Vector([1, 0, 0, -3/5, -1/5, 0, 1, -2/5]), Vector([0, 1, -9/7, 0, 0, -1/7, 0, -2/7]), Vector([0, 0, 1, 2, 1/2, 0, -1, 1/2]), Vector([0, 0, 2/7, -1/5, 1/10, 1/7, 0, -1/70])])"
            ],
            "text/html": [
              "<p style=\"text-align:center;\">$\\left[ \\begin{array}{cccc}1&0&0&0\\\\0&1&0&0\\\\0&- \\frac{9}{7}&1&\\frac{2}{7}\\\\- \\frac{3}{5}&0&2&- \\frac{1}{5}\\\\- \\frac{1}{5}&0&\\frac{1}{2}&\\frac{1}{10}\\\\0&- \\frac{1}{7}&0&\\frac{1}{7}\\\\1&0&-1&0\\\\- \\frac{2}{5}&- \\frac{2}{7}&\\frac{1}{2}&- \\frac{1}{70}\\\\ \\end{array} \\right]$</p>"
            ],
            "image/png": "$\\left[ \\begin{array}{cccc}1&0&0&0\\\\0&1&0&0\\\\0&- \\frac{9}{7}&1&\\frac{2}{7}\\\\- \\frac{3}{5}&0&2&- \\frac{1}{5}\\\\- \\frac{1}{5}&0&\\frac{1}{2}&\\frac{1}{10}\\\\0&- \\frac{1}{7}&0&\\frac{1}{7}\\\\1&0&-1&0\\\\- \\frac{2}{5}&- \\frac{2}{7}&\\frac{1}{2}&- \\frac{1}{70}\\\\ \\end{array} \\right]$",
            "text/latex": "$\\left[ \\begin{array}{cccc}1&0&0&0\\\\0&1&0&0\\\\0&- \\frac{9}{7}&1&\\frac{2}{7}\\\\- \\frac{3}{5}&0&2&- \\frac{1}{5}\\\\- \\frac{1}{5}&0&\\frac{1}{2}&\\frac{1}{10}\\\\0&- \\frac{1}{7}&0&\\frac{1}{7}\\\\1&0&-1&0\\\\- \\frac{2}{5}&- \\frac{2}{7}&\\frac{1}{2}&- \\frac{1}{70}\\\\ \\end{array} \\right]$"
          },
          "metadata": {},
          "execution_count": 47
        }
      ]
    },
    {
      "cell_type": "markdown",
      "source": [
        "$\\left[ \\begin{array}{cccc}1&0&0&0\\\\0&1&0&0\\\\0&- \\frac{9}{7}&1&\\frac{2}{7}\\\\- \\frac{3}{5}&0&2&- \\frac{1}{5}\\\\- \\frac{1}{5}&0&\\frac{1}{2}&\\frac{1}{10}\\\\0&- \\frac{1}{7}&0&\\frac{1}{7}\\\\1&0&-1&0\\\\- \\frac{2}{5}&- \\frac{2}{7}&\\frac{1}{2}&- \\frac{1}{70}\\\\ \\end{array} \\right]$"
      ],
      "metadata": {
        "id": "ueIAaQnS3eGz"
      }
    },
    {
      "cell_type": "code",
      "source": [
        "Z&T((fracc(9,7),3,2))"
      ],
      "metadata": {
        "colab": {
          "base_uri": "https://localhost:8080/",
          "height": 46
        },
        "id": "dBb-tvyw3gLr",
        "outputId": "83331a11-7447-4c20-afa0-8c0331d13271"
      },
      "execution_count": 48,
      "outputs": [
        {
          "output_type": "execute_result",
          "data": {
            "text/plain": [
              "Matrix([Vector([1, 0, 0, -3/5, -1/5, 0, 1, -2/5]), Vector([0, 1, 0, 18/7, 9/14, -1/7, -9/7, 5/14]), Vector([0, 0, 1, 2, 1/2, 0, -1, 1/2]), Vector([0, 0, 2/7, -1/5, 1/10, 1/7, 0, -1/70])])"
            ],
            "text/html": [
              "<p style=\"text-align:center;\">$\\left[ \\begin{array}{cccc}1&0&0&0\\\\0&1&0&0\\\\0&0&1&\\frac{2}{7}\\\\- \\frac{3}{5}&\\frac{18}{7}&2&- \\frac{1}{5}\\\\- \\frac{1}{5}&\\frac{9}{14}&\\frac{1}{2}&\\frac{1}{10}\\\\0&- \\frac{1}{7}&0&\\frac{1}{7}\\\\1&- \\frac{9}{7}&-1&0\\\\- \\frac{2}{5}&\\frac{5}{14}&\\frac{1}{2}&- \\frac{1}{70}\\\\ \\end{array} \\right]$</p>"
            ],
            "image/png": "$\\left[ \\begin{array}{cccc}1&0&0&0\\\\0&1&0&0\\\\0&0&1&\\frac{2}{7}\\\\- \\frac{3}{5}&\\frac{18}{7}&2&- \\frac{1}{5}\\\\- \\frac{1}{5}&\\frac{9}{14}&\\frac{1}{2}&\\frac{1}{10}\\\\0&- \\frac{1}{7}&0&\\frac{1}{7}\\\\1&- \\frac{9}{7}&-1&0\\\\- \\frac{2}{5}&\\frac{5}{14}&\\frac{1}{2}&- \\frac{1}{70}\\\\ \\end{array} \\right]$",
            "text/latex": "$\\left[ \\begin{array}{cccc}1&0&0&0\\\\0&1&0&0\\\\0&0&1&\\frac{2}{7}\\\\- \\frac{3}{5}&\\frac{18}{7}&2&- \\frac{1}{5}\\\\- \\frac{1}{5}&\\frac{9}{14}&\\frac{1}{2}&\\frac{1}{10}\\\\0&- \\frac{1}{7}&0&\\frac{1}{7}\\\\1&- \\frac{9}{7}&-1&0\\\\- \\frac{2}{5}&\\frac{5}{14}&\\frac{1}{2}&- \\frac{1}{70}\\\\ \\end{array} \\right]$"
          },
          "metadata": {},
          "execution_count": 48
        }
      ]
    },
    {
      "cell_type": "markdown",
      "source": [
        "$\\left[ \\begin{array}{cccc}1&0&0&0\\\\0&1&0&0\\\\0&0&1&\\frac{2}{7}\\\\- \\frac{3}{5}&\\frac{18}{7}&2&- \\frac{1}{5}\\\\- \\frac{1}{5}&\\frac{9}{14}&\\frac{1}{2}&\\frac{1}{10}\\\\0&- \\frac{1}{7}&0&\\frac{1}{7}\\\\1&- \\frac{9}{7}&-1&0\\\\- \\frac{2}{5}&\\frac{5}{14}&\\frac{1}{2}&- \\frac{1}{70}\\\\ \\end{array} \\right]$"
      ],
      "metadata": {
        "id": "EiZr4UY43kMz"
      }
    },
    {
      "cell_type": "code",
      "source": [
        "Z&T((fracc(-2,7),3,4))"
      ],
      "metadata": {
        "colab": {
          "base_uri": "https://localhost:8080/",
          "height": 46
        },
        "id": "vckxWMSz3mLL",
        "outputId": "91257183-b7a8-45c3-ad2d-60c71ebd1e10"
      },
      "execution_count": 49,
      "outputs": [
        {
          "output_type": "execute_result",
          "data": {
            "text/plain": [
              "Matrix([Vector([1, 0, 0, -3/5, -1/5, 0, 1, -2/5]), Vector([0, 1, 0, 18/7, 9/14, -1/7, -9/7, 5/14]), Vector([0, 0, 1, 2, 1/2, 0, -1, 1/2]), Vector([0, 0, 0, -27/35, -3/70, 1/7, 2/7, -11/70])])"
            ],
            "text/html": [
              "<p style=\"text-align:center;\">$\\left[ \\begin{array}{cccc}1&0&0&0\\\\0&1&0&0\\\\0&0&1&0\\\\- \\frac{3}{5}&\\frac{18}{7}&2&- \\frac{27}{35}\\\\- \\frac{1}{5}&\\frac{9}{14}&\\frac{1}{2}&- \\frac{3}{70}\\\\0&- \\frac{1}{7}&0&\\frac{1}{7}\\\\1&- \\frac{9}{7}&-1&\\frac{2}{7}\\\\- \\frac{2}{5}&\\frac{5}{14}&\\frac{1}{2}&- \\frac{11}{70}\\\\ \\end{array} \\right]$</p>"
            ],
            "image/png": "$\\left[ \\begin{array}{cccc}1&0&0&0\\\\0&1&0&0\\\\0&0&1&0\\\\- \\frac{3}{5}&\\frac{18}{7}&2&- \\frac{27}{35}\\\\- \\frac{1}{5}&\\frac{9}{14}&\\frac{1}{2}&- \\frac{3}{70}\\\\0&- \\frac{1}{7}&0&\\frac{1}{7}\\\\1&- \\frac{9}{7}&-1&\\frac{2}{7}\\\\- \\frac{2}{5}&\\frac{5}{14}&\\frac{1}{2}&- \\frac{11}{70}\\\\ \\end{array} \\right]$",
            "text/latex": "$\\left[ \\begin{array}{cccc}1&0&0&0\\\\0&1&0&0\\\\0&0&1&0\\\\- \\frac{3}{5}&\\frac{18}{7}&2&- \\frac{27}{35}\\\\- \\frac{1}{5}&\\frac{9}{14}&\\frac{1}{2}&- \\frac{3}{70}\\\\0&- \\frac{1}{7}&0&\\frac{1}{7}\\\\1&- \\frac{9}{7}&-1&\\frac{2}{7}\\\\- \\frac{2}{5}&\\frac{5}{14}&\\frac{1}{2}&- \\frac{11}{70}\\\\ \\end{array} \\right]$"
          },
          "metadata": {},
          "execution_count": 49
        }
      ]
    },
    {
      "cell_type": "markdown",
      "source": [
        "$\\left[ \\begin{array}{cccc}1&0&0&0\\\\0&1&0&0\\\\0&0&1&0\\\\- \\frac{3}{5}&\\frac{18}{7}&2&- \\frac{27}{35}\\\\- \\frac{1}{5}&\\frac{9}{14}&\\frac{1}{2}&- \\frac{3}{70}\\\\0&- \\frac{1}{7}&0&\\frac{1}{7}\\\\1&- \\frac{9}{7}&-1&\\frac{2}{7}\\\\- \\frac{2}{5}&\\frac{5}{14}&\\frac{1}{2}&- \\frac{11}{70}\\\\ \\end{array} \\right]$"
      ],
      "metadata": {
        "id": "jlOWOcRl3p-S"
      }
    },
    {
      "cell_type": "code",
      "source": [
        "Z&T((fracc(-35,27),4))"
      ],
      "metadata": {
        "colab": {
          "base_uri": "https://localhost:8080/",
          "height": 46
        },
        "id": "O8zV_d_d3sOq",
        "outputId": "3711977b-e025-4c70-fc03-f5704d24c4fd"
      },
      "execution_count": 50,
      "outputs": [
        {
          "output_type": "execute_result",
          "data": {
            "text/plain": [
              "Matrix([Vector([1, 0, 0, -3/5, -1/5, 0, 1, -2/5]), Vector([0, 1, 0, 18/7, 9/14, -1/7, -9/7, 5/14]), Vector([0, 0, 1, 2, 1/2, 0, -1, 1/2]), Vector([0, 0, 0, 1, 1/18, -5/27, -10/27, 11/54])])"
            ],
            "text/html": [
              "<p style=\"text-align:center;\">$\\left[ \\begin{array}{cccc}1&0&0&0\\\\0&1&0&0\\\\0&0&1&0\\\\- \\frac{3}{5}&\\frac{18}{7}&2&1\\\\- \\frac{1}{5}&\\frac{9}{14}&\\frac{1}{2}&\\frac{1}{18}\\\\0&- \\frac{1}{7}&0&- \\frac{5}{27}\\\\1&- \\frac{9}{7}&-1&- \\frac{10}{27}\\\\- \\frac{2}{5}&\\frac{5}{14}&\\frac{1}{2}&\\frac{11}{54}\\\\ \\end{array} \\right]$</p>"
            ],
            "image/png": "$\\left[ \\begin{array}{cccc}1&0&0&0\\\\0&1&0&0\\\\0&0&1&0\\\\- \\frac{3}{5}&\\frac{18}{7}&2&1\\\\- \\frac{1}{5}&\\frac{9}{14}&\\frac{1}{2}&\\frac{1}{18}\\\\0&- \\frac{1}{7}&0&- \\frac{5}{27}\\\\1&- \\frac{9}{7}&-1&- \\frac{10}{27}\\\\- \\frac{2}{5}&\\frac{5}{14}&\\frac{1}{2}&\\frac{11}{54}\\\\ \\end{array} \\right]$",
            "text/latex": "$\\left[ \\begin{array}{cccc}1&0&0&0\\\\0&1&0&0\\\\0&0&1&0\\\\- \\frac{3}{5}&\\frac{18}{7}&2&1\\\\- \\frac{1}{5}&\\frac{9}{14}&\\frac{1}{2}&\\frac{1}{18}\\\\0&- \\frac{1}{7}&0&- \\frac{5}{27}\\\\1&- \\frac{9}{7}&-1&- \\frac{10}{27}\\\\- \\frac{2}{5}&\\frac{5}{14}&\\frac{1}{2}&\\frac{11}{54}\\\\ \\end{array} \\right]$"
          },
          "metadata": {},
          "execution_count": 50
        }
      ]
    },
    {
      "cell_type": "markdown",
      "source": [
        "$\\left[ \\begin{array}{cccc}1&0&0&0\\\\0&1&0&0\\\\0&0&1&0\\\\- \\frac{3}{5}&\\frac{18}{7}&2&1\\\\- \\frac{1}{5}&\\frac{9}{14}&\\frac{1}{2}&\\frac{1}{18}\\\\0&- \\frac{1}{7}&0&- \\frac{5}{27}\\\\1&- \\frac{9}{7}&-1&- \\frac{10}{27}\\\\- \\frac{2}{5}&\\frac{5}{14}&\\frac{1}{2}&\\frac{11}{54}\\\\ \\end{array} \\right]$"
      ],
      "metadata": {
        "id": "fx0wxf4F3vyD"
      }
    },
    {
      "cell_type": "code",
      "source": [
        "Z&T((fracc(3,5),4,1))\n",
        "Z&T((fracc(-18,7),4,2))\n",
        "Z&T((-2,4,3))"
      ],
      "metadata": {
        "colab": {
          "base_uri": "https://localhost:8080/",
          "height": 64
        },
        "id": "W1exU6IZ3yM6",
        "outputId": "f62dfff2-22e3-40ed-d09c-ee05ef08c834"
      },
      "execution_count": 51,
      "outputs": [
        {
          "output_type": "execute_result",
          "data": {
            "text/plain": [
              "Matrix([Vector([1, 0, 0, 0, -1/6, -1/9, 7/9, -5/18]), Vector([0, 1, 0, 0, 1/2, 1/3, -1/3, -1/6]), Vector([0, 0, 1, 0, 7/18, 10/27, -7/27, 5/54]), Vector([0, 0, 0, 1, 1/18, -5/27, -10/27, 11/54])])"
            ],
            "text/html": [
              "<p style=\"text-align:center;\">$\\left[ \\begin{array}{cccc}1&0&0&0\\\\0&1&0&0\\\\0&0&1&0\\\\0&0&0&1\\\\- \\frac{1}{6}&\\frac{1}{2}&\\frac{7}{18}&\\frac{1}{18}\\\\- \\frac{1}{9}&\\frac{1}{3}&\\frac{10}{27}&- \\frac{5}{27}\\\\\\frac{7}{9}&- \\frac{1}{3}&- \\frac{7}{27}&- \\frac{10}{27}\\\\- \\frac{5}{18}&- \\frac{1}{6}&\\frac{5}{54}&\\frac{11}{54}\\\\ \\end{array} \\right]$</p>"
            ],
            "image/png": "$\\left[ \\begin{array}{cccc}1&0&0&0\\\\0&1&0&0\\\\0&0&1&0\\\\0&0&0&1\\\\- \\frac{1}{6}&\\frac{1}{2}&\\frac{7}{18}&\\frac{1}{18}\\\\- \\frac{1}{9}&\\frac{1}{3}&\\frac{10}{27}&- \\frac{5}{27}\\\\\\frac{7}{9}&- \\frac{1}{3}&- \\frac{7}{27}&- \\frac{10}{27}\\\\- \\frac{5}{18}&- \\frac{1}{6}&\\frac{5}{54}&\\frac{11}{54}\\\\ \\end{array} \\right]$",
            "text/latex": "$\\left[ \\begin{array}{cccc}1&0&0&0\\\\0&1&0&0\\\\0&0&1&0\\\\0&0&0&1\\\\- \\frac{1}{6}&\\frac{1}{2}&\\frac{7}{18}&\\frac{1}{18}\\\\- \\frac{1}{9}&\\frac{1}{3}&\\frac{10}{27}&- \\frac{5}{27}\\\\\\frac{7}{9}&- \\frac{1}{3}&- \\frac{7}{27}&- \\frac{10}{27}\\\\- \\frac{5}{18}&- \\frac{1}{6}&\\frac{5}{54}&\\frac{11}{54}\\\\ \\end{array} \\right]$"
          },
          "metadata": {},
          "execution_count": 51
        }
      ]
    },
    {
      "cell_type": "markdown",
      "source": [
        "$\\left[ \\begin{array}{cccc}1&0&0&0\\\\0&1&0&0\\\\0&0&1&0\\\\0&0&0&1\\\\- \\frac{1}{6}&\\frac{1}{2}&\\frac{7}{18}&\\frac{1}{18}\\\\- \\frac{1}{9}&\\frac{1}{3}&\\frac{10}{27}&- \\frac{5}{27}\\\\\\frac{7}{9}&- \\frac{1}{3}&- \\frac{7}{27}&- \\frac{10}{27}\\\\- \\frac{5}{18}&- \\frac{1}{6}&\\frac{5}{54}&\\frac{11}{54}\\\\ \\end{array} \\right]$"
      ],
      "metadata": {
        "id": "gtM2NEQ533dq"
      }
    },
    {
      "cell_type": "markdown",
      "source": [
        "8. Resuelva el siguiente sistema de ecuaciones:\n",
        "\n",
        "$$ \\begin{array}{ccc}5x&+7y&-z&=6\\\\2x&+10y&-2z&=4\\\\x&+y&+z&=0\\\\ \\end{array} $$"
      ],
      "metadata": {
        "id": "tABrI61xarPE"
      }
    },
    {
      "cell_type": "code",
      "source": [
        "#Se construye la matriz\n",
        "E = Matrix([[5,7,-1],[2,10,-2],[1,1,1]])\n",
        "E"
      ],
      "metadata": {
        "colab": {
          "base_uri": "https://localhost:8080/",
          "height": 46
        },
        "id": "Ez2GNlxnh08O",
        "outputId": "eb3585a8-7c6d-4306-de5b-a10742733623"
      },
      "execution_count": null,
      "outputs": [
        {
          "output_type": "execute_result",
          "data": {
            "text/plain": [
              "Matrix([Vector([5, 2, 1]), Vector([7, 10, 1]), Vector([-1, -2, 1])])"
            ],
            "text/html": [
              "<p style=\"text-align:center;\">$\\left[ \\begin{array}{ccc}5&7&-1\\\\2&10&-2\\\\1&1&1\\\\ \\end{array} \\right]$</p>"
            ],
            "image/png": "$\\left[ \\begin{array}{ccc}5&7&-1\\\\2&10&-2\\\\1&1&1\\\\ \\end{array} \\right]$",
            "text/latex": "$\\left[ \\begin{array}{ccc}5&7&-1\\\\2&10&-2\\\\1&1&1\\\\ \\end{array} \\right]$"
          },
          "metadata": {},
          "execution_count": 68
        }
      ]
    },
    {
      "cell_type": "markdown",
      "source": [
        "$\\left[ \\begin{array}{ccc}5&7&-1\\\\2&10&-2\\\\1&1&1\\\\ \\end{array} \\right]$"
      ],
      "metadata": {
        "id": "UE82k55NiOfO"
      }
    },
    {
      "cell_type": "code",
      "source": [
        "#Matriz aumentada\n",
        "S = Matrix([[5,7,-1,6],[2,10,-2,4],[1,1,1,0]])\n",
        "S"
      ],
      "metadata": {
        "colab": {
          "base_uri": "https://localhost:8080/",
          "height": 46
        },
        "id": "CaIOGqMgi2e6",
        "outputId": "e44b05c8-ed03-45e9-bc6a-bfbd93c03da8"
      },
      "execution_count": 100,
      "outputs": [
        {
          "output_type": "execute_result",
          "data": {
            "text/plain": [
              "Matrix([Vector([5, 2, 1]), Vector([7, 10, 1]), Vector([-1, -2, 1]), Vector([6, 4, 0])])"
            ],
            "text/html": [
              "<p style=\"text-align:center;\">$\\left[ \\begin{array}{cccc}5&7&-1&6\\\\2&10&-2&4\\\\1&1&1&0\\\\ \\end{array} \\right]$</p>"
            ],
            "image/png": "$\\left[ \\begin{array}{cccc}5&7&-1&6\\\\2&10&-2&4\\\\1&1&1&0\\\\ \\end{array} \\right]$",
            "text/latex": "$\\left[ \\begin{array}{cccc}5&7&-1&6\\\\2&10&-2&4\\\\1&1&1&0\\\\ \\end{array} \\right]$"
          },
          "metadata": {},
          "execution_count": 100
        }
      ]
    },
    {
      "cell_type": "markdown",
      "source": [
        "$\\left[ \\begin{array}{cccc}5&7&-1&6\\\\2&10&-2&4\\\\1&1&1&0\\\\ \\end{array} \\right]$"
      ],
      "metadata": {
        "id": "ddqfp5D4jB0i"
      }
    },
    {
      "cell_type": "code",
      "source": [
        "T((fracc(-1,2),2))&S\n",
        "T((1,2,3))&S\n",
        "T((fracc(-1,5),2))&S\n",
        "T((4,2,3))&S\n",
        "T((fracc(1,5),1))&S"
      ],
      "metadata": {
        "colab": {
          "base_uri": "https://localhost:8080/",
          "height": 46
        },
        "id": "PPriYtvYtRZY",
        "outputId": "861b422d-e78e-4abc-e2d2-36e688218651"
      },
      "execution_count": 101,
      "outputs": [
        {
          "output_type": "execute_result",
          "data": {
            "text/plain": [
              "Matrix([Vector([1, 1/5, 4/5]), Vector([7/5, 1, 0]), Vector([-1/5, -1/5, 6/5]), Vector([6/5, 2/5, -2/5])])"
            ],
            "text/html": [
              "<p style=\"text-align:center;\">$\\left[ \\begin{array}{cccc}1&\\frac{7}{5}&- \\frac{1}{5}&\\frac{6}{5}\\\\\\frac{1}{5}&1&- \\frac{1}{5}&\\frac{2}{5}\\\\\\frac{4}{5}&0&\\frac{6}{5}&- \\frac{2}{5}\\\\ \\end{array} \\right]$</p>"
            ],
            "image/png": "$\\left[ \\begin{array}{cccc}1&\\frac{7}{5}&- \\frac{1}{5}&\\frac{6}{5}\\\\\\frac{1}{5}&1&- \\frac{1}{5}&\\frac{2}{5}\\\\\\frac{4}{5}&0&\\frac{6}{5}&- \\frac{2}{5}\\\\ \\end{array} \\right]$",
            "text/latex": "$\\left[ \\begin{array}{cccc}1&\\frac{7}{5}&- \\frac{1}{5}&\\frac{6}{5}\\\\\\frac{1}{5}&1&- \\frac{1}{5}&\\frac{2}{5}\\\\\\frac{4}{5}&0&\\frac{6}{5}&- \\frac{2}{5}\\\\ \\end{array} \\right]$"
          },
          "metadata": {},
          "execution_count": 101
        }
      ]
    },
    {
      "cell_type": "markdown",
      "source": [
        "$\\left[ \\begin{array}{cccc}1&\\frac{7}{5}&- \\frac{1}{5}&\\frac{6}{5}\\\\\\frac{1}{5}&1&- \\frac{1}{5}&\\frac{2}{5}\\\\\\frac{4}{5}&0&\\frac{6}{5}&- \\frac{2}{5}\\\\ \\end{array} \\right]$"
      ],
      "metadata": {
        "id": "RppMHKfODtjn"
      }
    },
    {
      "cell_type": "code",
      "source": [
        "T((fracc(5,6),3))&S\n",
        "T((fracc(1,5),3,2))&S\n",
        "T((fracc(-1,3),1,2))&S\n",
        "T((fracc(-2,3),1,3))&S"
      ],
      "metadata": {
        "colab": {
          "base_uri": "https://localhost:8080/",
          "height": 46
        },
        "id": "qfoGPYE8DvZ_",
        "outputId": "ff131e7d-4995-4cf4-dbeb-64abc0b43b83"
      },
      "execution_count": 102,
      "outputs": [
        {
          "output_type": "execute_result",
          "data": {
            "text/plain": [
              "Matrix([Vector([1, 0, 0]), Vector([7/5, 8/15, -14/15]), Vector([-1/5, 1/15, 17/15]), Vector([6/5, -1/15, -17/15])])"
            ],
            "text/html": [
              "<p style=\"text-align:center;\">$\\left[ \\begin{array}{cccc}1&\\frac{7}{5}&- \\frac{1}{5}&\\frac{6}{5}\\\\0&\\frac{8}{15}&\\frac{1}{15}&- \\frac{1}{15}\\\\0&- \\frac{14}{15}&\\frac{17}{15}&- \\frac{17}{15}\\\\ \\end{array} \\right]$</p>"
            ],
            "image/png": "$\\left[ \\begin{array}{cccc}1&\\frac{7}{5}&- \\frac{1}{5}&\\frac{6}{5}\\\\0&\\frac{8}{15}&\\frac{1}{15}&- \\frac{1}{15}\\\\0&- \\frac{14}{15}&\\frac{17}{15}&- \\frac{17}{15}\\\\ \\end{array} \\right]$",
            "text/latex": "$\\left[ \\begin{array}{cccc}1&\\frac{7}{5}&- \\frac{1}{5}&\\frac{6}{5}\\\\0&\\frac{8}{15}&\\frac{1}{15}&- \\frac{1}{15}\\\\0&- \\frac{14}{15}&\\frac{17}{15}&- \\frac{17}{15}\\\\ \\end{array} \\right]$"
          },
          "metadata": {},
          "execution_count": 102
        }
      ]
    },
    {
      "cell_type": "markdown",
      "source": [
        "$\\left[ \\begin{array}{cccc}1&\\frac{7}{5}&- \\frac{1}{5}&\\frac{6}{5}\\\\0&\\frac{8}{15}&\\frac{1}{15}&- \\frac{1}{15}\\\\0&- \\frac{14}{15}&\\frac{17}{15}&- \\frac{17}{15}\\\\ \\end{array} \\right]$"
      ],
      "metadata": {
        "id": "8AjknqUqD5V-"
      }
    },
    {
      "cell_type": "code",
      "source": [
        "T((fracc(15,8),2))&S\n",
        "T((fracc(-7,5),2,1))&S\n",
        "T((fracc(14,15),2,3))&S\n",
        "T((fracc(4,5),3))&S"
      ],
      "metadata": {
        "colab": {
          "base_uri": "https://localhost:8080/",
          "height": 46
        },
        "id": "HbDTdM6AD62W",
        "outputId": "df7cd733-2a9c-42ee-a74b-73ae353b36a0"
      },
      "execution_count": 103,
      "outputs": [
        {
          "output_type": "execute_result",
          "data": {
            "text/plain": [
              "Matrix([Vector([1, 0, 0]), Vector([0, 1, 0]), Vector([-3/8, 1/8, 1]), Vector([11/8, -1/8, -1])])"
            ],
            "text/html": [
              "<p style=\"text-align:center;\">$\\left[ \\begin{array}{cccc}1&0&- \\frac{3}{8}&\\frac{11}{8}\\\\0&1&\\frac{1}{8}&- \\frac{1}{8}\\\\0&0&1&-1\\\\ \\end{array} \\right]$</p>"
            ],
            "image/png": "$\\left[ \\begin{array}{cccc}1&0&- \\frac{3}{8}&\\frac{11}{8}\\\\0&1&\\frac{1}{8}&- \\frac{1}{8}\\\\0&0&1&-1\\\\ \\end{array} \\right]$",
            "text/latex": "$\\left[ \\begin{array}{cccc}1&0&- \\frac{3}{8}&\\frac{11}{8}\\\\0&1&\\frac{1}{8}&- \\frac{1}{8}\\\\0&0&1&-1\\\\ \\end{array} \\right]$"
          },
          "metadata": {},
          "execution_count": 103
        }
      ]
    },
    {
      "cell_type": "markdown",
      "source": [
        "$\\left[ \\begin{array}{cccc}1&0&- \\frac{3}{8}&\\frac{11}{8}\\\\0&1&\\frac{1}{8}&- \\frac{1}{8}\\\\0&0&1&-1\\\\ \\end{array} \\right]$"
      ],
      "metadata": {
        "id": "YsXGxA8VED2x"
      }
    },
    {
      "cell_type": "code",
      "source": [
        "T((fracc(-1,8),3,2))&S\n",
        "T((fracc(3,8),3,1))&S"
      ],
      "metadata": {
        "colab": {
          "base_uri": "https://localhost:8080/",
          "height": 46
        },
        "id": "fDSPvBVREFQG",
        "outputId": "22b2839e-d9d2-4019-8c1e-7ec09ccf257b"
      },
      "execution_count": 104,
      "outputs": [
        {
          "output_type": "execute_result",
          "data": {
            "text/plain": [
              "Matrix([Vector([1, 0, 0]), Vector([0, 1, 0]), Vector([0, 0, 1]), Vector([1, 0, -1])])"
            ],
            "text/html": [
              "<p style=\"text-align:center;\">$\\left[ \\begin{array}{cccc}1&0&0&1\\\\0&1&0&0\\\\0&0&1&-1\\\\ \\end{array} \\right]$</p>"
            ],
            "image/png": "$\\left[ \\begin{array}{cccc}1&0&0&1\\\\0&1&0&0\\\\0&0&1&-1\\\\ \\end{array} \\right]$",
            "text/latex": "$\\left[ \\begin{array}{cccc}1&0&0&1\\\\0&1&0&0\\\\0&0&1&-1\\\\ \\end{array} \\right]$"
          },
          "metadata": {},
          "execution_count": 104
        }
      ]
    },
    {
      "cell_type": "markdown",
      "source": [
        "$\\left[ \\begin{array}{cccc}1&0&0&1\\\\0&1&0&0\\\\0&0&1&-1\\\\ \\end{array} \\right]$"
      ],
      "metadata": {
        "id": "Imu8g0JKELZ9"
      }
    },
    {
      "cell_type": "markdown",
      "source": [
        "En donde, 1 es el valor de **X**, 0 el valor de **Y**, y -1 el valor de **Z**."
      ],
      "metadata": {
        "id": "Embll9fhEjSk"
      }
    }
  ]
}
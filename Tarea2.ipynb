{
  "nbformat": 4,
  "nbformat_minor": 0,
  "metadata": {
    "colab": {
      "provenance": [],
      "authorship_tag": "ABX9TyPZ/LMREs+JpVwd2b5cec8h",
      "include_colab_link": true
    },
    "kernelspec": {
      "name": "python3",
      "display_name": "Python 3"
    },
    "language_info": {
      "name": "python"
    }
  },
  "cells": [
    {
      "cell_type": "markdown",
      "metadata": {
        "id": "view-in-github",
        "colab_type": "text"
      },
      "source": [
        "<a href=\"https://colab.research.google.com/github/DaniLevcruz/repositorio3/blob/main/Tarea2.ipynb\" target=\"_parent\"><img src=\"https://colab.research.google.com/assets/colab-badge.svg\" alt=\"Open In Colab\"/></a>"
      ]
    },
    {
      "cell_type": "code",
      "execution_count": 2,
      "metadata": {
        "id": "IXf-xCUgA5jE",
        "outputId": "40482d3c-321d-497a-eec6-d68ef8f36e50",
        "colab": {
          "base_uri": "https://localhost:8080/"
        }
      },
      "outputs": [
        {
          "output_type": "stream",
          "name": "stdout",
          "text": [
            "Collecting nacal\n",
            "  Downloading nacal-0.1.30-py3-none-any.whl (33 kB)\n",
            "Requirement already satisfied: sympy>=1.1.0 in /usr/local/lib/python3.10/dist-packages (from nacal) (1.12)\n",
            "Requirement already satisfied: mpmath>=0.19 in /usr/local/lib/python3.10/dist-packages (from sympy>=1.1.0->nacal) (1.3.0)\n",
            "Installing collected packages: nacal\n",
            "Successfully installed nacal-0.1.30\n"
          ]
        }
      ],
      "source": [
        "!pip install --target=$nb_path nacal\n",
        "from nacal import *"
      ]
    },
    {
      "cell_type": "markdown",
      "source": [
        "# ***Ejercicio 4.***\n",
        "\n",
        "\n",
        " **¿Cómo evalúa el módulo NAcAL las siguientes expresiones?**\n",
        "\n",
        "\n",
        "a) 3*b|1"
      ],
      "metadata": {
        "id": "9rlTmEcbK8zf"
      }
    },
    {
      "cell_type": "code",
      "source": [
        "b = Vector([1,2,5])\n",
        "af = 3*b|1\n",
        "print(af)\n"
      ],
      "metadata": {
        "colab": {
          "base_uri": "https://localhost:8080/"
        },
        "id": "sQCh259roKHc",
        "outputId": "47d20d53-0348-481a-d38c-95a2fd211e51"
      },
      "execution_count": 18,
      "outputs": [
        {
          "output_type": "stream",
          "name": "stdout",
          "text": [
            "3\n"
          ]
        }
      ]
    },
    {
      "cell_type": "markdown",
      "source": [
        "b) 3*1|b"
      ],
      "metadata": {
        "id": "Kwp-NehdrMYw"
      }
    },
    {
      "cell_type": "code",
      "source": [
        "ab = 3*1|b\n",
        "print(ab)"
      ],
      "metadata": {
        "colab": {
          "base_uri": "https://localhost:8080/"
        },
        "id": "Nl3Z-eQJrTRH",
        "outputId": "a5a9ddff-1968-49f4-9a3d-ce1640932746"
      },
      "execution_count": 19,
      "outputs": [
        {
          "output_type": "stream",
          "name": "stdout",
          "text": [
            "5\n"
          ]
        }
      ]
    },
    {
      "cell_type": "markdown",
      "source": [
        "c) 1*3|b"
      ],
      "metadata": {
        "id": "RKKAVS2Srdcf"
      }
    },
    {
      "cell_type": "code",
      "source": [
        "ac = 1*3|b\n",
        "print(ac)"
      ],
      "metadata": {
        "colab": {
          "base_uri": "https://localhost:8080/"
        },
        "id": "e2b5Sdm-rhwe",
        "outputId": "45e706a1-9a7f-4f30-8088-78ce803d1004"
      },
      "execution_count": 20,
      "outputs": [
        {
          "output_type": "stream",
          "name": "stdout",
          "text": [
            "5\n"
          ]
        }
      ]
    },
    {
      "cell_type": "markdown",
      "source": [
        "d) 1|b*3"
      ],
      "metadata": {
        "id": "KF3EOdhhrrYO"
      }
    },
    {
      "cell_type": "code",
      "source": [
        "p = 1|b*3\n",
        "print(p)"
      ],
      "metadata": {
        "colab": {
          "base_uri": "https://localhost:8080/"
        },
        "id": "khhJflZUryql",
        "outputId": "d5ad47c1-69bf-4f04-ec8d-528a86a303d5"
      },
      "execution_count": 21,
      "outputs": [
        {
          "output_type": "stream",
          "name": "stdout",
          "text": [
            "3\n"
          ]
        }
      ]
    },
    {
      "cell_type": "markdown",
      "source": [
        "# ***Ejercicio 6.***\n",
        "\n",
        "***Demuestre las propiedades de la siguiente proposición.***\n",
        "\n",
        "Proposición 1.5.1 (Propiedades de las operaciones entre matrices). Para cualesquiera matrices A, B y C\n",
        "de idéntico orden y para cualesquiera escalares λ y η, se verifica que:"
      ],
      "metadata": {
        "id": "iiF3i0lgsY_q"
      }
    },
    {
      "cell_type": "markdown",
      "source": [
        "**1. A + B = B + A.**\n",
        "\n",
        "Definimos primeros los vectores y matrices."
      ],
      "metadata": {
        "id": "DA3PXis0sqNB"
      }
    },
    {
      "cell_type": "code",
      "source": [
        "ag = Vector([5,8,3])\n",
        "bc = Vector([7,4,9])\n",
        "A = Matrix([ag,bc])\n",
        "\n",
        "k = Vector([5,12,1])\n",
        "o = Vector([13,11,15])\n",
        "BE = Matrix([k,o])\n",
        "\n",
        "j = Vector([7,5,8])\n",
        "r = Vector([6,11,4])\n",
        "C = Matrix([j,r])\n",
        "suma = A+BE\n",
        "suma2 = BE+A\n",
        "print(suma,suma2)\n",
        "suma"
      ],
      "metadata": {
        "colab": {
          "base_uri": "https://localhost:8080/",
          "height": 64
        },
        "id": "Ct_k3ex0s1Wf",
        "outputId": "b95f449c-8457-4783-b9a1-0458617ff200"
      },
      "execution_count": 41,
      "outputs": [
        {
          "output_type": "stream",
          "name": "stdout",
          "text": [
            "Matrix([Vector([10, 20, 4]), Vector([20, 15, 24])]) Matrix([Vector([10, 20, 4]), Vector([20, 15, 24])])\n"
          ]
        },
        {
          "output_type": "execute_result",
          "data": {
            "text/plain": [
              "Matrix([Vector([10, 20, 4]), Vector([20, 15, 24])])"
            ],
            "text/html": [
              "<p style=\"text-align:center;\">$\\left[ \\begin{array}{cc}10&20\\\\20&15\\\\4&24\\\\ \\end{array} \\right]$</p>"
            ],
            "image/png": "$\\left[ \\begin{array}{cc}10&20\\\\20&15\\\\4&24\\\\ \\end{array} \\right]$",
            "text/latex": "$\\left[ \\begin{array}{cc}10&20\\\\20&15\\\\4&24\\\\ \\end{array} \\right]$"
          },
          "metadata": {},
          "execution_count": 41
        }
      ]
    },
    {
      "cell_type": "markdown",
      "source": [
        "$\\left[ \\begin{array}{cc}10&20\\\\20&15\\\\4&24\\\\ \\end{array} \\right]$"
      ],
      "metadata": {
        "id": "J3atarWP54AT"
      }
    },
    {
      "cell_type": "markdown",
      "source": [
        "**2. A + (B + C) = (A + B) + C.**"
      ],
      "metadata": {
        "id": "IKJ2_eJquyc4"
      }
    },
    {
      "cell_type": "code",
      "source": [
        "op1 = A+(BE+C)\n",
        "op2 = (A+BE)+C\n",
        "print(op1,op2)\n",
        "op1"
      ],
      "metadata": {
        "colab": {
          "base_uri": "https://localhost:8080/",
          "height": 64
        },
        "id": "Xt81drWKu3F3",
        "outputId": "25e41016-ae0a-47c3-eb9e-e7768ceadaaf"
      },
      "execution_count": 40,
      "outputs": [
        {
          "output_type": "stream",
          "name": "stdout",
          "text": [
            "Matrix([Vector([17, 25, 12]), Vector([26, 26, 28])]) Matrix([Vector([17, 25, 12]), Vector([26, 26, 28])])\n"
          ]
        },
        {
          "output_type": "execute_result",
          "data": {
            "text/plain": [
              "Matrix([Vector([17, 25, 12]), Vector([26, 26, 28])])"
            ],
            "text/html": [
              "<p style=\"text-align:center;\">$\\left[ \\begin{array}{cc}17&26\\\\25&26\\\\12&28\\\\ \\end{array} \\right]$</p>"
            ],
            "image/png": "$\\left[ \\begin{array}{cc}17&26\\\\25&26\\\\12&28\\\\ \\end{array} \\right]$",
            "text/latex": "$\\left[ \\begin{array}{cc}17&26\\\\25&26\\\\12&28\\\\ \\end{array} \\right]$"
          },
          "metadata": {},
          "execution_count": 40
        }
      ]
    },
    {
      "cell_type": "markdown",
      "source": [
        "$\\left[ \\begin{array}{cc}17&26\\\\25&26\\\\12&28\\\\ \\end{array} \\right]$"
      ],
      "metadata": {
        "id": "m30u-UJ35xB8"
      }
    },
    {
      "cell_type": "markdown",
      "source": [
        "**3. 0 + A = A.**"
      ],
      "metadata": {
        "id": "DMrQT0ubwJ_B"
      }
    },
    {
      "cell_type": "code",
      "source": [
        "h = Vector([0,0,0])\n",
        "ñ = Vector([0,0,0])\n",
        "N = Matrix([h,ñ])\n",
        "op3 = N + A\n",
        "print(op3)\n",
        "op3"
      ],
      "metadata": {
        "colab": {
          "base_uri": "https://localhost:8080/",
          "height": 64
        },
        "id": "LJyGSEdk0mE4",
        "outputId": "bcf35258-e372-4502-ca50-01b93566b739"
      },
      "execution_count": 37,
      "outputs": [
        {
          "output_type": "stream",
          "name": "stdout",
          "text": [
            "Matrix([Vector([5, 8, 3]), Vector([7, 4, 9])])\n"
          ]
        },
        {
          "output_type": "execute_result",
          "data": {
            "text/plain": [
              "Matrix([Vector([5, 8, 3]), Vector([7, 4, 9])])"
            ],
            "text/html": [
              "<p style=\"text-align:center;\">$\\left[ \\begin{array}{cc}5&7\\\\8&4\\\\3&9\\\\ \\end{array} \\right]$</p>"
            ],
            "image/png": "$\\left[ \\begin{array}{cc}5&7\\\\8&4\\\\3&9\\\\ \\end{array} \\right]$",
            "text/latex": "$\\left[ \\begin{array}{cc}5&7\\\\8&4\\\\3&9\\\\ \\end{array} \\right]$"
          },
          "metadata": {},
          "execution_count": 37
        }
      ]
    },
    {
      "cell_type": "markdown",
      "source": [
        "$\\left[ \\begin{array}{cc}5&7\\\\8&4\\\\3&9\\\\ \\end{array} \\right]$"
      ],
      "metadata": {
        "id": "Nh0I2Lx65hdk"
      }
    },
    {
      "cell_type": "markdown",
      "source": [
        "**4. A + (−A) = 0.**"
      ],
      "metadata": {
        "id": "JaacI6WL2plY"
      }
    },
    {
      "cell_type": "code",
      "source": [
        "op4 = A+(-A)\n",
        "print(op4)\n",
        "op4"
      ],
      "metadata": {
        "colab": {
          "base_uri": "https://localhost:8080/",
          "height": 64
        },
        "id": "82f_8Mon3TJ-",
        "outputId": "5c67354b-c405-4a40-cedf-5a21233666d6"
      },
      "execution_count": 38,
      "outputs": [
        {
          "output_type": "stream",
          "name": "stdout",
          "text": [
            "Matrix([Vector([0, 0, 0]), Vector([0, 0, 0])])\n"
          ]
        },
        {
          "output_type": "execute_result",
          "data": {
            "text/plain": [
              "Matrix([Vector([0, 0, 0]), Vector([0, 0, 0])])"
            ],
            "text/html": [
              "<p style=\"text-align:center;\">$\\left[ \\begin{array}{cc}0&0\\\\0&0\\\\0&0\\\\ \\end{array} \\right]$</p>"
            ],
            "image/png": "$\\left[ \\begin{array}{cc}0&0\\\\0&0\\\\0&0\\\\ \\end{array} \\right]$",
            "text/latex": "$\\left[ \\begin{array}{cc}0&0\\\\0&0\\\\0&0\\\\ \\end{array} \\right]$"
          },
          "metadata": {},
          "execution_count": 38
        }
      ]
    },
    {
      "cell_type": "markdown",
      "source": [
        "$\\left[ \\begin{array}{cc}0&0\\\\0&0\\\\0&0\\\\ \\end{array} \\right]$"
      ],
      "metadata": {
        "id": "L8fNN8H35oYF"
      }
    },
    {
      "cell_type": "markdown",
      "source": [
        "**5. λ(A + B) = λA + λB.**\n",
        "\n",
        "Siendo el escalar el número 3."
      ],
      "metadata": {
        "id": "elVszW6d3rkl"
      }
    },
    {
      "cell_type": "code",
      "source": [
        "op5 = 3*(A+BE)\n",
        "op6 = 3*A+3*BE\n",
        "print(op5,op6)\n",
        "op5"
      ],
      "metadata": {
        "colab": {
          "base_uri": "https://localhost:8080/",
          "height": 64
        },
        "id": "r9GEAEMK3xo6",
        "outputId": "481e079d-5d58-47aa-a2c5-8cdcb872f2c5"
      },
      "execution_count": 44,
      "outputs": [
        {
          "output_type": "stream",
          "name": "stdout",
          "text": [
            "Matrix([Vector([30, 60, 12]), Vector([60, 45, 72])]) Matrix([Vector([30, 60, 12]), Vector([60, 45, 72])])\n"
          ]
        },
        {
          "output_type": "execute_result",
          "data": {
            "text/plain": [
              "Matrix([Vector([30, 60, 12]), Vector([60, 45, 72])])"
            ],
            "text/html": [
              "<p style=\"text-align:center;\">$\\left[ \\begin{array}{cc}30&60\\\\60&45\\\\12&72\\\\ \\end{array} \\right]$</p>"
            ],
            "image/png": "$\\left[ \\begin{array}{cc}30&60\\\\60&45\\\\12&72\\\\ \\end{array} \\right]$",
            "text/latex": "$\\left[ \\begin{array}{cc}30&60\\\\60&45\\\\12&72\\\\ \\end{array} \\right]$"
          },
          "metadata": {},
          "execution_count": 44
        }
      ]
    },
    {
      "cell_type": "markdown",
      "source": [
        "$\\left[ \\begin{array}{cc}30&60\\\\60&45\\\\12&72\\\\ \\end{array} \\right]$"
      ],
      "metadata": {
        "id": "KXkzZju07Ybv"
      }
    },
    {
      "cell_type": "markdown",
      "source": [
        "**6. (λ + η)A = λA + ηA.**\n",
        "\n",
        "Siendo η el número 4."
      ],
      "metadata": {
        "id": "G6En8YVu7bW9"
      }
    },
    {
      "cell_type": "code",
      "source": [
        "op7 = (3+4)*A\n",
        "op8 = 3*A+4*A\n",
        "print(op7,op8)\n",
        "op7"
      ],
      "metadata": {
        "colab": {
          "base_uri": "https://localhost:8080/",
          "height": 64
        },
        "id": "I1myvqU_7pvM",
        "outputId": "fd5c45e5-4832-442e-9f76-3250b6ccb88f"
      },
      "execution_count": 46,
      "outputs": [
        {
          "output_type": "stream",
          "name": "stdout",
          "text": [
            "Matrix([Vector([35, 56, 21]), Vector([49, 28, 63])]) Matrix([Vector([35, 56, 21]), Vector([49, 28, 63])])\n"
          ]
        },
        {
          "output_type": "execute_result",
          "data": {
            "text/plain": [
              "Matrix([Vector([35, 56, 21]), Vector([49, 28, 63])])"
            ],
            "text/html": [
              "<p style=\"text-align:center;\">$\\left[ \\begin{array}{cc}35&49\\\\56&28\\\\21&63\\\\ \\end{array} \\right]$</p>"
            ],
            "image/png": "$\\left[ \\begin{array}{cc}35&49\\\\56&28\\\\21&63\\\\ \\end{array} \\right]$",
            "text/latex": "$\\left[ \\begin{array}{cc}35&49\\\\56&28\\\\21&63\\\\ \\end{array} \\right]$"
          },
          "metadata": {},
          "execution_count": 46
        }
      ]
    },
    {
      "cell_type": "markdown",
      "source": [
        "$\\left[ \\begin{array}{cc}35&49\\\\56&28\\\\21&63\\\\ \\end{array} \\right]$"
      ],
      "metadata": {
        "id": "WUw_yC4FJaJW"
      }
    },
    {
      "cell_type": "markdown",
      "source": [
        "**7. λ(ηA) = (λη)A.**"
      ],
      "metadata": {
        "id": "RCXPKy8vJchN"
      }
    },
    {
      "cell_type": "code",
      "source": [
        "op9 = 3*(4*A)\n",
        "op10 = (3*4)*A\n",
        "print(op9,op10)\n",
        "op9"
      ],
      "metadata": {
        "colab": {
          "base_uri": "https://localhost:8080/",
          "height": 64
        },
        "id": "Qtho1ZXDJhp0",
        "outputId": "73c0a2be-f22f-4065-aef4-ab8188a8b094"
      },
      "execution_count": 49,
      "outputs": [
        {
          "output_type": "stream",
          "name": "stdout",
          "text": [
            "Matrix([Vector([60, 96, 36]), Vector([84, 48, 108])]) Matrix([Vector([60, 96, 36]), Vector([84, 48, 108])])\n"
          ]
        },
        {
          "output_type": "execute_result",
          "data": {
            "text/plain": [
              "Matrix([Vector([60, 96, 36]), Vector([84, 48, 108])])"
            ],
            "text/html": [
              "<p style=\"text-align:center;\">$\\left[ \\begin{array}{cc}60&84\\\\96&48\\\\36&108\\\\ \\end{array} \\right]$</p>"
            ],
            "image/png": "$\\left[ \\begin{array}{cc}60&84\\\\96&48\\\\36&108\\\\ \\end{array} \\right]$",
            "text/latex": "$\\left[ \\begin{array}{cc}60&84\\\\96&48\\\\36&108\\\\ \\end{array} \\right]$"
          },
          "metadata": {},
          "execution_count": 49
        }
      ]
    },
    {
      "cell_type": "markdown",
      "source": [
        "$\\left[ \\begin{array}{cc}60&84\\\\96&48\\\\36&108\\\\ \\end{array} \\right]$"
      ],
      "metadata": {
        "id": "yG7eYVvGJ1bE"
      }
    },
    {
      "cell_type": "markdown",
      "source": [
        "**8. 1A = A.**"
      ],
      "metadata": {
        "id": "IE3Sv-Q1J200"
      }
    },
    {
      "cell_type": "code",
      "source": [
        "op11 = 1*A\n",
        "print(op11)\n",
        "op11"
      ],
      "metadata": {
        "colab": {
          "base_uri": "https://localhost:8080/",
          "height": 64
        },
        "id": "CBFJejdiJ5qz",
        "outputId": "d3a7c58e-725d-4b65-c858-398a2b290bde"
      },
      "execution_count": 51,
      "outputs": [
        {
          "output_type": "stream",
          "name": "stdout",
          "text": [
            "Matrix([Vector([5, 8, 3]), Vector([7, 4, 9])])\n"
          ]
        },
        {
          "output_type": "execute_result",
          "data": {
            "text/plain": [
              "Matrix([Vector([5, 8, 3]), Vector([7, 4, 9])])"
            ],
            "text/html": [
              "<p style=\"text-align:center;\">$\\left[ \\begin{array}{cc}5&7\\\\8&4\\\\3&9\\\\ \\end{array} \\right]$</p>"
            ],
            "image/png": "$\\left[ \\begin{array}{cc}5&7\\\\8&4\\\\3&9\\\\ \\end{array} \\right]$",
            "text/latex": "$\\left[ \\begin{array}{cc}5&7\\\\8&4\\\\3&9\\\\ \\end{array} \\right]$"
          },
          "metadata": {},
          "execution_count": 51
        }
      ]
    },
    {
      "cell_type": "markdown",
      "source": [
        "$\\left[ \\begin{array}{cc}5&7\\\\8&4\\\\3&9\\\\ \\end{array} \\right]$"
      ],
      "metadata": {
        "id": "fm7zOtIGKFwj"
      }
    }
  ]
}
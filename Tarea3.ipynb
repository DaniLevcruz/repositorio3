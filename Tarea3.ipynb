{
  "nbformat": 4,
  "nbformat_minor": 0,
  "metadata": {
    "colab": {
      "provenance": [],
      "toc_visible": true,
      "authorship_tag": "ABX9TyNBCQFDcTDBvypytbq69g55",
      "include_colab_link": true
    },
    "kernelspec": {
      "name": "python3",
      "display_name": "Python 3"
    },
    "language_info": {
      "name": "python"
    }
  },
  "cells": [
    {
      "cell_type": "markdown",
      "metadata": {
        "id": "view-in-github",
        "colab_type": "text"
      },
      "source": [
        "<a href=\"https://colab.research.google.com/github/DaniLevcruz/repositorio3/blob/main/Tarea3.ipynb\" target=\"_parent\"><img src=\"https://colab.research.google.com/assets/colab-badge.svg\" alt=\"Open In Colab\"/></a>"
      ]
    },
    {
      "cell_type": "code",
      "execution_count": 52,
      "metadata": {
        "colab": {
          "base_uri": "https://localhost:8080/"
        },
        "id": "4RUtwgy59oik",
        "outputId": "4b012f04-5c29-4112-d2d8-1286fc211af1"
      },
      "outputs": [
        {
          "output_type": "stream",
          "name": "stdout",
          "text": [
            "Requirement already satisfied: nacal in /usr/local/lib/python3.10/dist-packages (0.1.30)\n",
            "Requirement already satisfied: sympy>=1.1.0 in /usr/local/lib/python3.10/dist-packages (from nacal) (1.12)\n",
            "Requirement already satisfied: mpmath>=0.19 in /usr/local/lib/python3.10/dist-packages (from sympy>=1.1.0->nacal) (1.3.0)\n"
          ]
        }
      ],
      "source": [
        "!pip install --target=$nb_path nacal\n",
        "from nacal import *"
      ]
    },
    {
      "cell_type": "markdown",
      "source": [
        "# ***Tarea asignada en clase.***\n",
        "\n",
        "Propiedades de linealidad en el vector.\n",
        "\n",
        "\n",
        "\n",
        "# *   ***A(b+c)=Ab+Ac***\n",
        "\n",
        "\n"
      ],
      "metadata": {
        "id": "_pAdQ4Ly9u-2"
      }
    },
    {
      "cell_type": "markdown",
      "source": [
        "Definimos matrices y vectores primero."
      ],
      "metadata": {
        "id": "pLnms1zzdlcB"
      }
    },
    {
      "cell_type": "code",
      "source": [
        "#Matrices\n",
        "f = Vector([1,2,3])\n",
        "d = Vector([8,3,6])\n",
        "p = Vector([4,5,1])\n",
        "A = Matrix([f,d,p])\n",
        "print(A)\n",
        "A\n",
        "i = Vector([6,1,0])\n",
        "g = Vector([0,4,8])\n",
        "o = Vector([8,15,13])\n",
        "B = Matrix([i,g,o])\n",
        "print(B)\n",
        "B\n",
        "#Vectores\n",
        "b = Vector([9,6,2])\n",
        "c = Vector([12,6,5])\n",
        "c\n"
      ],
      "metadata": {
        "id": "9W421wzAe-6E",
        "colab": {
          "base_uri": "https://localhost:8080/",
          "height": 81
        },
        "outputId": "7c28bd93-caa0-4479-c340-21624e364619"
      },
      "execution_count": 43,
      "outputs": [
        {
          "output_type": "stream",
          "name": "stdout",
          "text": [
            "Matrix([Vector([1, 2, 3]), Vector([8, 3, 6]), Vector([4, 5, 1])])\n",
            "Matrix([Vector([6, 1, 0]), Vector([0, 4, 8]), Vector([8, 15, 13])])\n"
          ]
        },
        {
          "output_type": "execute_result",
          "data": {
            "text/plain": [
              "Vector([12, 6, 5])"
            ],
            "text/html": [
              "<p style=\"text-align:center;\">$\\begin{pmatrix}12\\\\ 6\\\\ 5\\end{pmatrix}$</p>"
            ],
            "image/png": "$\\begin{pmatrix}12\\\\ 6\\\\ 5\\end{pmatrix}$",
            "text/latex": "$\\begin{pmatrix}12\\\\ 6\\\\ 5\\end{pmatrix}$"
          },
          "metadata": {},
          "execution_count": 43
        }
      ]
    },
    {
      "cell_type": "markdown",
      "source": [
        "***Haciendo la propiedad:***"
      ],
      "metadata": {
        "id": "3v6XF3ladNp7"
      }
    },
    {
      "cell_type": "code",
      "source": [
        "op1 = (b+c)\n",
        "op2 = A*op1\n",
        "print(op2)\n",
        "\n",
        "op3 = A*b+A*c\n",
        "print(op3)\n",
        "op2"
      ],
      "metadata": {
        "colab": {
          "base_uri": "https://localhost:8080/",
          "height": 81
        },
        "id": "UlqJzpcGefDc",
        "outputId": "986bf3ea-431a-4b36-8434-b0471dd83706"
      },
      "execution_count": 8,
      "outputs": [
        {
          "output_type": "stream",
          "name": "stdout",
          "text": [
            "Vector([145, 113, 142])\n",
            "Vector([145, 113, 142])\n"
          ]
        },
        {
          "output_type": "execute_result",
          "data": {
            "text/plain": [
              "Vector([145, 113, 142])"
            ],
            "text/html": [
              "<p style=\"text-align:center;\">$\\begin{pmatrix}145\\\\ 113\\\\ 142\\end{pmatrix}$</p>"
            ],
            "image/png": "$\\begin{pmatrix}145\\\\ 113\\\\ 142\\end{pmatrix}$",
            "text/latex": "$\\begin{pmatrix}145\\\\ 113\\\\ 142\\end{pmatrix}$"
          },
          "metadata": {},
          "execution_count": 8
        }
      ]
    },
    {
      "cell_type": "markdown",
      "source": [
        "$\\begin{pmatrix}145\\\\ 113\\\\ 142\\end{pmatrix}$"
      ],
      "metadata": {
        "id": "vKCyBpx9pMTO"
      }
    },
    {
      "cell_type": "markdown",
      "source": [
        "# ***(b+c)A=bA+cA***"
      ],
      "metadata": {
        "id": "4GCFruBLoMUb"
      }
    },
    {
      "cell_type": "code",
      "source": [
        "opx = (b+c)*A\n",
        "print(opx)\n",
        "opx2 = b*A+c*A\n",
        "print(opx2)\n",
        "opx2"
      ],
      "metadata": {
        "colab": {
          "base_uri": "https://localhost:8080/",
          "height": 81
        },
        "id": "7-vaAT26obj5",
        "outputId": "a0c99000-42ca-4db8-e1a5-05a5dc957c25"
      },
      "execution_count": 9,
      "outputs": [
        {
          "output_type": "stream",
          "name": "stdout",
          "text": [
            "Vector([66, 246, 151])\n",
            "Vector([66, 246, 151])\n"
          ]
        },
        {
          "output_type": "execute_result",
          "data": {
            "text/plain": [
              "Vector([66, 246, 151])"
            ],
            "text/html": [
              "<p style=\"text-align:center;\">$\\begin{pmatrix}66\\\\ 246\\\\ 151\\end{pmatrix}$</p>"
            ],
            "image/png": "$\\begin{pmatrix}66\\\\ 246\\\\ 151\\end{pmatrix}$",
            "text/latex": "$\\begin{pmatrix}66\\\\ 246\\\\ 151\\end{pmatrix}$"
          },
          "metadata": {},
          "execution_count": 9
        }
      ]
    },
    {
      "cell_type": "markdown",
      "source": [
        "$\\begin{pmatrix}66\\\\ 246\\\\ 151\\end{pmatrix}$"
      ],
      "metadata": {
        "id": "G-7grczgnSqi"
      }
    },
    {
      "cell_type": "markdown",
      "source": [
        "# ***No. 2: A(λb) = λ(Ab)***\n",
        "\n",
        "*Haciendo la propiedad utilizando como escalar el número = 2:*"
      ],
      "metadata": {
        "id": "2V05CMpPniqh"
      }
    },
    {
      "cell_type": "code",
      "source": [
        "op4 = A*(3*b)\n",
        "print(op4)\n",
        "op5 = 3*(A*b)\n",
        "print(op5)\n",
        "op5"
      ],
      "metadata": {
        "colab": {
          "base_uri": "https://localhost:8080/",
          "height": 81
        },
        "id": "uVSoekyQoFvN",
        "outputId": "591ae919-7365-4bb6-8311-2b9fc3799448"
      },
      "execution_count": 10,
      "outputs": [
        {
          "output_type": "stream",
          "name": "stdout",
          "text": [
            "Vector([195, 138, 195])\n",
            "Vector([195, 138, 195])\n"
          ]
        },
        {
          "output_type": "execute_result",
          "data": {
            "text/plain": [
              "Vector([195, 138, 195])"
            ],
            "text/html": [
              "<p style=\"text-align:center;\">$\\begin{pmatrix}195\\\\ 138\\\\ 195\\end{pmatrix}$</p>"
            ],
            "image/png": "$\\begin{pmatrix}195\\\\ 138\\\\ 195\\end{pmatrix}$",
            "text/latex": "$\\begin{pmatrix}195\\\\ 138\\\\ 195\\end{pmatrix}$"
          },
          "metadata": {},
          "execution_count": 10
        }
      ]
    },
    {
      "cell_type": "markdown",
      "source": [
        "$\\begin{pmatrix}195\\\\ 138\\\\ 195\\end{pmatrix}$"
      ],
      "metadata": {
        "id": "5I52yYBi93Gr"
      }
    },
    {
      "cell_type": "markdown",
      "source": [
        "# ***(λb)A = λ(bA)***"
      ],
      "metadata": {
        "id": "AizlObilp4Aq"
      }
    },
    {
      "cell_type": "code",
      "source": [
        "op6 = (2*b)*A\n",
        "print(op6)\n",
        "op7 = 2*(b*A)\n",
        "print(op7)"
      ],
      "metadata": {
        "colab": {
          "base_uri": "https://localhost:8080/"
        },
        "id": "v2jQsLR8qPL-",
        "outputId": "77abfc0b-ceff-452c-e83a-02dcd93bc138"
      },
      "execution_count": 11,
      "outputs": [
        {
          "output_type": "stream",
          "name": "stdout",
          "text": [
            "Vector([54, 204, 136])\n",
            "Vector([54, 204, 136])\n"
          ]
        }
      ]
    },
    {
      "cell_type": "markdown",
      "source": [
        "***Otras propiedades:***\n",
        "\n",
        "# ***A(Bc)=[A(B|1); ... A(B|n);]c***"
      ],
      "metadata": {
        "id": "2yUJ9C61-gCQ"
      }
    },
    {
      "cell_type": "code",
      "source": [
        "op8 = (B|1)*A\n",
        "print(op8)\n",
        "op9 = (B|2)*A\n",
        "print(op9)\n",
        "op10 = (B|3)*A\n",
        "print(op10)\n",
        "op11 = op8*c\n",
        "print(op11)"
      ],
      "metadata": {
        "colab": {
          "base_uri": "https://localhost:8080/"
        },
        "id": "tl-MkTIH_sYm",
        "outputId": "c1e21936-583f-43cc-f5d2-f60c2c10fef1"
      },
      "execution_count": 64,
      "outputs": [
        {
          "output_type": "stream",
          "name": "stdout",
          "text": [
            "Vector([8, 51, 29])\n",
            "Vector([32, 60, 28])\n",
            "Vector([77, 187, 120])\n",
            "547\n"
          ]
        }
      ]
    },
    {
      "cell_type": "markdown",
      "source": [
        "Por alguna razón que desconozco, la multiplicación de las columnas de la matriz por el vector c no me da como resultado la forma de vector."
      ],
      "metadata": {
        "id": "AdYExqpJ9ZvP"
      }
    },
    {
      "cell_type": "markdown",
      "source": [
        "# ***Lineal en la matriz: (A + B)c = Ac + Bc***"
      ],
      "metadata": {
        "id": "y2ZsvppeumyH"
      }
    },
    {
      "cell_type": "code",
      "source": [
        "op15 = (A+B)*c\n",
        "print(op15)\n",
        "\n",
        "op16 = A*c + B*c\n",
        "print(op16)\n",
        "op16"
      ],
      "metadata": {
        "colab": {
          "base_uri": "https://localhost:8080/",
          "height": 81
        },
        "id": "S-p3sOwQutRc",
        "outputId": "451e5dc6-1ceb-44a9-cd72-827424abf738"
      },
      "execution_count": 60,
      "outputs": [
        {
          "output_type": "stream",
          "name": "stdout",
          "text": [
            "Vector([192, 178, 190])\n",
            "Vector([192, 178, 190])\n"
          ]
        },
        {
          "output_type": "execute_result",
          "data": {
            "text/plain": [
              "Vector([192, 178, 190])"
            ],
            "text/html": [
              "<p style=\"text-align:center;\">$\\begin{pmatrix}192\\\\ 178\\\\ 190\\end{pmatrix}$</p>"
            ],
            "image/png": "$\\begin{pmatrix}192\\\\ 178\\\\ 190\\end{pmatrix}$",
            "text/latex": "$\\begin{pmatrix}192\\\\ 178\\\\ 190\\end{pmatrix}$"
          },
          "metadata": {},
          "execution_count": 60
        }
      ]
    },
    {
      "cell_type": "markdown",
      "source": [
        "$\\begin{pmatrix}192\\\\ 178\\\\ 190\\end{pmatrix}$"
      ],
      "metadata": {
        "id": "ogPOMG5I8-QT"
      }
    },
    {
      "cell_type": "markdown",
      "source": [
        "# ***(λA)b = λ(Ab)***\n",
        "\n",
        "Escalar 3."
      ],
      "metadata": {
        "id": "aabLtbytwA0I"
      }
    },
    {
      "cell_type": "code",
      "source": [
        "op17 = (3*A)*b\n",
        "print(op17)\n",
        "\n",
        "op18 = 3*(A*b)\n",
        "print(op18)\n",
        "op18"
      ],
      "metadata": {
        "colab": {
          "base_uri": "https://localhost:8080/",
          "height": 81
        },
        "id": "bKJrOcUywFQ-",
        "outputId": "90cb0647-62e6-46a1-9456-d2254fb70006"
      },
      "execution_count": 61,
      "outputs": [
        {
          "output_type": "stream",
          "name": "stdout",
          "text": [
            "Vector([195, 138, 195])\n",
            "Vector([195, 138, 195])\n"
          ]
        },
        {
          "output_type": "execute_result",
          "data": {
            "text/plain": [
              "Vector([195, 138, 195])"
            ],
            "text/html": [
              "<p style=\"text-align:center;\">$\\begin{pmatrix}195\\\\ 138\\\\ 195\\end{pmatrix}$</p>"
            ],
            "image/png": "$\\begin{pmatrix}195\\\\ 138\\\\ 195\\end{pmatrix}$",
            "text/latex": "$\\begin{pmatrix}195\\\\ 138\\\\ 195\\end{pmatrix}$"
          },
          "metadata": {},
          "execution_count": 61
        }
      ]
    },
    {
      "cell_type": "markdown",
      "source": [
        "$\\begin{pmatrix}195\\\\ 138\\\\ 195\\end{pmatrix}$"
      ],
      "metadata": {
        "id": "2A7kI5_l9Il5"
      }
    }
  ]
}
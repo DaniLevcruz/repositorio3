{
  "nbformat": 4,
  "nbformat_minor": 0,
  "metadata": {
    "colab": {
      "provenance": [],
      "include_colab_link": true
    },
    "kernelspec": {
      "name": "python3",
      "display_name": "Python 3"
    },
    "language_info": {
      "name": "python"
    }
  },
  "cells": [
    {
      "cell_type": "markdown",
      "metadata": {
        "id": "view-in-github",
        "colab_type": "text"
      },
      "source": [
        "<a href=\"https://colab.research.google.com/github/DaniLevcruz/repositorio3/blob/main/Tarea4.ipynb\" target=\"_parent\"><img src=\"https://colab.research.google.com/assets/colab-badge.svg\" alt=\"Open In Colab\"/></a>"
      ]
    },
    {
      "cell_type": "code",
      "execution_count": 37,
      "metadata": {
        "id": "uisCXUFKkJE-",
        "outputId": "64b1d7c8-1f6e-4846-f122-49c9b71d07c6",
        "colab": {
          "base_uri": "https://localhost:8080/"
        }
      },
      "outputs": [
        {
          "output_type": "stream",
          "name": "stdout",
          "text": [
            "Requirement already satisfied: nacal in /usr/local/lib/python3.10/dist-packages (0.1.30)\n",
            "Requirement already satisfied: sympy>=1.1.0 in /usr/local/lib/python3.10/dist-packages (from nacal) (1.12)\n",
            "Requirement already satisfied: mpmath>=0.19 in /usr/local/lib/python3.10/dist-packages (from sympy>=1.1.0->nacal) (1.3.0)\n"
          ]
        }
      ],
      "source": [
        "!pip install --target=$nb_path nacal\n",
        "from nacal import *"
      ]
    },
    {
      "cell_type": "markdown",
      "metadata": {
        "id": "LiJ1aW_Nj1X5"
      },
      "source": [
        "### Primer ejercicio\n",
        "\n"
      ]
    },
    {
      "cell_type": "markdown",
      "metadata": {
        "id": "roLWrzwXj1X6"
      },
      "source": [
        "Cree la matriz\n",
        "$${A}=\\begin{bmatrix}1&0&0&0\\\\2&0&0&0\\\\0&3&3&0\\\\0&3&4&1\\\\0&1&2&1\\end{bmatrix}$$\n",
        "\n"
      ]
    },
    {
      "cell_type": "code",
      "source": [
        "a = Vector([1,2,0,0,0])\n",
        "b = Vector([0,0,3,3,1])\n",
        "f = Vector([0,0,3,4,2])\n",
        "d = Vector([0,0,0,1,1])\n",
        "A = [a,b,f,d]\n",
        "\n",
        "AB = Matrix([([1, 0, 0, 0]),\n",
        "             ([2, 0, 0, 0]),\n",
        "             ([0, 3, 3, 0]),\n",
        "             ([0, 3, 4, 1]),\n",
        "             ([0, 1, 2, 1])])\n",
        "AB"
      ],
      "metadata": {
        "id": "aptVBvt0ks39",
        "colab": {
          "base_uri": "https://localhost:8080/",
          "height": 46
        },
        "outputId": "b0f2a16d-8e79-465b-ac12-1eabed76a08f"
      },
      "execution_count": 8,
      "outputs": [
        {
          "output_type": "execute_result",
          "data": {
            "text/plain": [
              "Matrix([Vector([1, 2, 0, 0, 0]), Vector([0, 0, 3, 3, 1]), Vector([0, 0, 3, 4, 2]), Vector([0, 0, 0, 1, 1])])"
            ],
            "text/html": [
              "<p style=\"text-align:center;\">$\\left[ \\begin{array}{cccc}1&0&0&0\\\\2&0&0&0\\\\0&3&3&0\\\\0&3&4&1\\\\0&1&2&1\\\\ \\end{array} \\right]$</p>"
            ],
            "image/png": "$\\left[ \\begin{array}{cccc}1&0&0&0\\\\2&0&0&0\\\\0&3&3&0\\\\0&3&4&1\\\\0&1&2&1\\\\ \\end{array} \\right]$",
            "text/latex": "$\\left[ \\begin{array}{cccc}1&0&0&0\\\\2&0&0&0\\\\0&3&3&0\\\\0&3&4&1\\\\0&1&2&1\\\\ \\end{array} \\right]$"
          },
          "metadata": {},
          "execution_count": 8
        }
      ]
    },
    {
      "cell_type": "markdown",
      "source": [
        "$\\left[ \\begin{array}{cccc}1&0&0&0\\\\2&0&0&0\\\\0&3&3&0\\\\0&3&4&1\\\\0&1&2&1\\\\ \\end{array} \\right]$"
      ],
      "metadata": {
        "id": "Yp0G8Q4Y8Dqd"
      }
    },
    {
      "cell_type": "markdown",
      "metadata": {
        "id": "uXXsQDPtj1X6"
      },
      "source": [
        "Cree a partir de ${A}$ una matriz cuya única columna sea la primera columna de ${A}$\n",
        "\n"
      ]
    },
    {
      "cell_type": "code",
      "source": [
        "D = (AB|1)\n",
        "D"
      ],
      "metadata": {
        "id": "4ks9WtQ2k1zI",
        "colab": {
          "base_uri": "https://localhost:8080/",
          "height": 46
        },
        "outputId": "c0d733df-25f8-4524-f3c3-1b30010930f8"
      },
      "execution_count": 13,
      "outputs": [
        {
          "output_type": "execute_result",
          "data": {
            "text/plain": [
              "Vector([1, 2, 0, 0, 0])"
            ],
            "text/html": [
              "<p style=\"text-align:center;\">$\\begin{pmatrix}1\\\\ 2\\\\ 0\\\\ 0\\\\ 0\\end{pmatrix}$</p>"
            ],
            "image/png": "$\\begin{pmatrix}1\\\\ 2\\\\ 0\\\\ 0\\\\ 0\\end{pmatrix}$",
            "text/latex": "$\\begin{pmatrix}1\\\\ 2\\\\ 0\\\\ 0\\\\ 0\\end{pmatrix}$"
          },
          "metadata": {},
          "execution_count": 13
        }
      ]
    },
    {
      "cell_type": "markdown",
      "source": [
        "$\\begin{pmatrix}1\\\\ 2\\\\ 0\\\\ 0\\\\ 0\\end{pmatrix}$"
      ],
      "metadata": {
        "id": "vbASC89vQog9"
      }
    },
    {
      "cell_type": "markdown",
      "metadata": {
        "id": "M8GNqqerj1X7"
      },
      "source": [
        "Cree a partir de ${A}$ una matriz cuya única columna sea la segunda\n",
        "fila de ${A}$\n",
        "\n"
      ]
    },
    {
      "cell_type": "code",
      "source": [
        "F = 2|AB\n",
        "F"
      ],
      "metadata": {
        "id": "G13H5wEAlBM-",
        "colab": {
          "base_uri": "https://localhost:8080/",
          "height": 46
        },
        "outputId": "4c8a298f-3cec-4b4d-eb61-8d044d4d0bf7"
      },
      "execution_count": 17,
      "outputs": [
        {
          "output_type": "execute_result",
          "data": {
            "text/plain": [
              "Vector([2, 0, 0, 0])"
            ],
            "text/html": [
              "<p style=\"text-align:center;\">$\\begin{pmatrix}2,& 0,& 0,& 0,\\end{pmatrix}$</p>"
            ],
            "image/png": "$\\begin{pmatrix}2,& 0,& 0,& 0,\\end{pmatrix}$",
            "text/latex": "$\\begin{pmatrix}2,& 0,& 0,& 0,\\end{pmatrix}$"
          },
          "metadata": {},
          "execution_count": 17
        }
      ]
    },
    {
      "cell_type": "markdown",
      "source": [
        "$\\begin{pmatrix}2,& 0,& 0,& 0,\\end{pmatrix}$"
      ],
      "metadata": {
        "id": "baS-AYl3Rvjw"
      }
    },
    {
      "cell_type": "markdown",
      "metadata": {
        "id": "AKjPfZxaj1X8"
      },
      "source": [
        "<div class=\"EXERCISE\">\n",
        "Cree a partir de $A$ una matriz cuya única fila sea la primera\n",
        "fila de $A$\n",
        "\n",
        "</div>\n",
        "\n"
      ]
    },
    {
      "cell_type": "code",
      "source": [
        "R = 1|AB\n",
        "R"
      ],
      "metadata": {
        "id": "d0omQE0rlGMW",
        "colab": {
          "base_uri": "https://localhost:8080/",
          "height": 46
        },
        "outputId": "4270a34e-8b8d-432f-e707-0473db517e49"
      },
      "execution_count": 18,
      "outputs": [
        {
          "output_type": "execute_result",
          "data": {
            "text/plain": [
              "Vector([1, 0, 0, 0])"
            ],
            "text/html": [
              "<p style=\"text-align:center;\">$\\begin{pmatrix}1,& 0,& 0,& 0,\\end{pmatrix}$</p>"
            ],
            "image/png": "$\\begin{pmatrix}1,& 0,& 0,& 0,\\end{pmatrix}$",
            "text/latex": "$\\begin{pmatrix}1,& 0,& 0,& 0,\\end{pmatrix}$"
          },
          "metadata": {},
          "execution_count": 18
        }
      ]
    },
    {
      "cell_type": "markdown",
      "source": [
        "$\\begin{pmatrix}1,& 0,& 0,& 0,\\end{pmatrix}$"
      ],
      "metadata": {
        "id": "7VhyNFbBSVEo"
      }
    },
    {
      "cell_type": "markdown",
      "metadata": {
        "id": "BaPPzRJjj1X9"
      },
      "source": [
        "### Segundo ejercicio\n",
        "\n"
      ]
    },
    {
      "cell_type": "markdown",
      "metadata": {
        "id": "96CPH5a_j1X9"
      },
      "source": [
        "Calcule el siguiente vector: 3 veces la primera columna de $A$\n",
        "menos la segunda columna de $A$ mas 2 veces la tercera columna\n",
        "menos 3 veces la última columna de $A$\n",
        "\n"
      ]
    },
    {
      "cell_type": "code",
      "source": [
        "op1 = 3*(AB|1)-(AB|2)+(2*(AB|3)-(3*(AB|4)))\n",
        "print(op1)"
      ],
      "metadata": {
        "id": "frH6ZOYnmErd",
        "colab": {
          "base_uri": "https://localhost:8080/"
        },
        "outputId": "d2e9689d-a1d2-496b-fc30-dac65aae7474"
      },
      "execution_count": 19,
      "outputs": [
        {
          "output_type": "stream",
          "name": "stdout",
          "text": [
            "Vector([3, 6, 3, 2, 0])\n"
          ]
        }
      ]
    },
    {
      "cell_type": "markdown",
      "metadata": {
        "id": "MxEQJrEKj1X-"
      },
      "source": [
        "### Tercer ejercicio\n",
        "\n"
      ]
    },
    {
      "cell_type": "markdown",
      "metadata": {
        "id": "dsc0wXPHj1YA"
      },
      "source": [
        "Proporcione ejemplos de matrices 3 por 3 no nulas de los siguientes\n",
        "tipos de matrices:\n",
        "\n",
        "-   Una matriz diagonal\n",
        "\n"
      ]
    },
    {
      "cell_type": "code",
      "source": [
        "P = Matrix([[5, 0, 0],\n",
        "        [0, 7, 0],\n",
        "        [0, 0, 6]])\n",
        "P"
      ],
      "metadata": {
        "id": "T6blJI3YmQt1",
        "colab": {
          "base_uri": "https://localhost:8080/",
          "height": 46
        },
        "outputId": "aa7b96b9-bde5-4eb3-8883-f99330f107e9"
      },
      "execution_count": 22,
      "outputs": [
        {
          "output_type": "execute_result",
          "data": {
            "text/plain": [
              "Matrix([Vector([5, 0, 0]), Vector([0, 7, 0]), Vector([0, 0, 6])])"
            ],
            "text/html": [
              "<p style=\"text-align:center;\">$\\left[ \\begin{array}{ccc}5&0&0\\\\0&7&0\\\\0&0&6\\\\ \\end{array} \\right]$</p>"
            ],
            "image/png": "$\\left[ \\begin{array}{ccc}5&0&0\\\\0&7&0\\\\0&0&6\\\\ \\end{array} \\right]$",
            "text/latex": "$\\left[ \\begin{array}{ccc}5&0&0\\\\0&7&0\\\\0&0&6\\\\ \\end{array} \\right]$"
          },
          "metadata": {},
          "execution_count": 22
        }
      ]
    },
    {
      "cell_type": "markdown",
      "source": [
        "$\\left[ \\begin{array}{ccc}5&0&0\\\\0&7&0\\\\0&0&6\\\\ \\end{array} \\right]$"
      ],
      "metadata": {
        "id": "dg1ZdqWYWTPn"
      }
    },
    {
      "cell_type": "markdown",
      "metadata": {
        "id": "j5rXy3Waj1YA"
      },
      "source": [
        "-   Una matriz simétrica\n",
        "\n"
      ]
    },
    {
      "cell_type": "code",
      "source": [
        "Y = Matrix([[7, 8, 3],\n",
        "            [8, 7, 0],\n",
        "            [3, 0, 6]])\n",
        "Y"
      ],
      "metadata": {
        "id": "zDghbArCmQ-v",
        "colab": {
          "base_uri": "https://localhost:8080/",
          "height": 46
        },
        "outputId": "b574852a-9ab8-419b-a082-1a1c22c262cb"
      },
      "execution_count": 23,
      "outputs": [
        {
          "output_type": "execute_result",
          "data": {
            "text/plain": [
              "Matrix([Vector([7, 8, 3]), Vector([8, 7, 0]), Vector([3, 0, 6])])"
            ],
            "text/html": [
              "<p style=\"text-align:center;\">$\\left[ \\begin{array}{ccc}7&8&3\\\\8&7&0\\\\3&0&6\\\\ \\end{array} \\right]$</p>"
            ],
            "image/png": "$\\left[ \\begin{array}{ccc}7&8&3\\\\8&7&0\\\\3&0&6\\\\ \\end{array} \\right]$",
            "text/latex": "$\\left[ \\begin{array}{ccc}7&8&3\\\\8&7&0\\\\3&0&6\\\\ \\end{array} \\right]$"
          },
          "metadata": {},
          "execution_count": 23
        }
      ]
    },
    {
      "cell_type": "markdown",
      "source": [
        "$\\left[ \\begin{array}{ccc}7&8&3\\\\8&7&0\\\\3&0&6\\\\ \\end{array} \\right]$"
      ],
      "metadata": {
        "id": "IWDSwUM5ZrPT"
      }
    },
    {
      "cell_type": "markdown",
      "metadata": {
        "id": "UHEAMjHQj1YB"
      },
      "source": [
        "-   Una matriz triangular superior (es decir, que todos los elementos\n",
        "    por *debajo* de la diagonal son nulos).\n",
        "\n"
      ]
    },
    {
      "cell_type": "code",
      "source": [
        "J = Matrix([[1, 5, 3],\n",
        "            [0, 7, 0],\n",
        "            [0, 0, 2]])\n",
        "J"
      ],
      "metadata": {
        "id": "WIJVEVe2mV0E",
        "colab": {
          "base_uri": "https://localhost:8080/",
          "height": 46
        },
        "outputId": "9ce5e29c-ef76-4e7f-b9a6-0ae3c7c5add9"
      },
      "execution_count": 24,
      "outputs": [
        {
          "output_type": "execute_result",
          "data": {
            "text/plain": [
              "Matrix([Vector([1, 0, 0]), Vector([5, 7, 0]), Vector([3, 0, 2])])"
            ],
            "text/html": [
              "<p style=\"text-align:center;\">$\\left[ \\begin{array}{ccc}1&5&3\\\\0&7&0\\\\0&0&2\\\\ \\end{array} \\right]$</p>"
            ],
            "image/png": "$\\left[ \\begin{array}{ccc}1&5&3\\\\0&7&0\\\\0&0&2\\\\ \\end{array} \\right]$",
            "text/latex": "$\\left[ \\begin{array}{ccc}1&5&3\\\\0&7&0\\\\0&0&2\\\\ \\end{array} \\right]$"
          },
          "metadata": {},
          "execution_count": 24
        }
      ]
    },
    {
      "cell_type": "markdown",
      "source": [
        "$\\left[ \\begin{array}{ccc}1&5&3\\\\0&7&0\\\\0&0&2\\\\ \\end{array} \\right]$"
      ],
      "metadata": {
        "id": "N9npodzQaw7W"
      }
    },
    {
      "cell_type": "markdown",
      "metadata": {
        "id": "3y1hiNo_j1YC"
      },
      "source": [
        "-   Una matriz antisimétrica (es decir, que su transpuesta es igual a su opuesta: $ {A}^{T}=-A $ ).\n",
        "\n"
      ]
    },
    {
      "cell_type": "code",
      "source": [
        "H = Matrix([[1, -5, 3],\n",
        "            [5, 7, -4],\n",
        "            [-3, 4, 2]])\n",
        "H"
      ],
      "metadata": {
        "colab": {
          "base_uri": "https://localhost:8080/",
          "height": 46
        },
        "id": "JROcjupna0K-",
        "outputId": "46d08acd-eb8a-4f44-945f-383627c9b03f"
      },
      "execution_count": 25,
      "outputs": [
        {
          "output_type": "execute_result",
          "data": {
            "text/plain": [
              "Matrix([Vector([1, 5, -3]), Vector([-5, 7, 4]), Vector([3, -4, 2])])"
            ],
            "text/html": [
              "<p style=\"text-align:center;\">$\\left[ \\begin{array}{ccc}1&-5&3\\\\5&7&-4\\\\-3&4&2\\\\ \\end{array} \\right]$</p>"
            ],
            "image/png": "$\\left[ \\begin{array}{ccc}1&-5&3\\\\5&7&-4\\\\-3&4&2\\\\ \\end{array} \\right]$",
            "text/latex": "$\\left[ \\begin{array}{ccc}1&-5&3\\\\5&7&-4\\\\-3&4&2\\\\ \\end{array} \\right]$"
          },
          "metadata": {},
          "execution_count": 25
        }
      ]
    },
    {
      "cell_type": "markdown",
      "source": [
        "$\\left[ \\begin{array}{ccc}1&-5&3\\\\5&7&-4\\\\-3&4&2\\\\ \\end{array} \\right]$"
      ],
      "metadata": {
        "id": "7oPJ3MX_io3C"
      }
    },
    {
      "cell_type": "markdown",
      "source": [
        "### Cuarto ejercicio"
      ],
      "metadata": {
        "id": "Y-n7DWXJn7Zk"
      }
    },
    {
      "cell_type": "markdown",
      "metadata": {
        "ein.tags": "worksheet-0",
        "id": "053nn7kNnOXz"
      },
      "source": [
        "# Propiedades del producto Matriz por vector\n",
        "\n",
        "Genere una matriz $A$ (con el número de filas y columnas que\n",
        "desee) y dos vectores ${b}$ y ${c}$ con tantos componentes\n",
        "como columnas tenga $A$."
      ]
    },
    {
      "cell_type": "code",
      "execution_count": 49,
      "metadata": {
        "autoscroll": false,
        "ein.hycell": false,
        "ein.tags": "worksheet-0",
        "id": "MU-2x1n8Vpzq",
        "colab": {
          "base_uri": "https://localhost:8080/",
          "height": 46
        },
        "outputId": "cc0eeeea-3bc9-46c5-95d4-dbd68777cd23"
      },
      "outputs": [
        {
          "output_type": "execute_result",
          "data": {
            "text/plain": [
              "Matrix([Vector([8, 2, 1]), Vector([6, 5, 4]), Vector([3, 9, 6])])"
            ],
            "text/html": [
              "<p style=\"text-align:center;\">$\\left[ \\begin{array}{ccc}8&6&3\\\\2&5&9\\\\1&4&6\\\\ \\end{array} \\right]$</p>"
            ],
            "image/png": "$\\left[ \\begin{array}{ccc}8&6&3\\\\2&5&9\\\\1&4&6\\\\ \\end{array} \\right]$",
            "text/latex": "$\\left[ \\begin{array}{ccc}8&6&3\\\\2&5&9\\\\1&4&6\\\\ \\end{array} \\right]$"
          },
          "metadata": {},
          "execution_count": 49
        }
      ],
      "source": [
        "# Defina una matriz A\n",
        "\n",
        "#El nombre de mi matriz es G\n",
        "G = Matrix([[8, 6, 3],\n",
        "            [2, 5, 9],\n",
        "            [1, 4, 6]])\n",
        "G"
      ]
    },
    {
      "cell_type": "markdown",
      "source": [
        "$\\left[ \\begin{array}{ccc}8&6&3\\\\2&5&9\\\\1&4&6\\\\ \\end{array} \\right]$"
      ],
      "metadata": {
        "id": "IHIkz-OKnBeZ"
      }
    },
    {
      "cell_type": "code",
      "execution_count": 42,
      "metadata": {
        "autoscroll": false,
        "ein.hycell": false,
        "ein.tags": "worksheet-0",
        "id": "uoVFYfjqVpzq"
      },
      "outputs": [],
      "source": [
        "# Defina el vector b con tantos componentes como columnas tenga la matriz A\n",
        "b = Vector([7,3,5])"
      ]
    },
    {
      "cell_type": "code",
      "execution_count": 31,
      "metadata": {
        "autoscroll": false,
        "ein.hycell": false,
        "ein.tags": "worksheet-0",
        "id": "5HbLkf1LVpzr"
      },
      "outputs": [],
      "source": [
        "# Defina el vector c con tantos componentes como el vector b\n",
        "c = Vector([4,2,8])"
      ]
    },
    {
      "cell_type": "markdown",
      "metadata": {
        "ein.tags": "worksheet-0",
        "id": "HQu3l79dVpzr"
      },
      "source": [
        "Y ahora verifique las propiedades vistas en el curso (en todos los\n",
        "casos, verifique sus ejemplos también con lapiz y papel... recuerde\n",
        "que primero se realizan las operaciones encerradas entre paréntesis).\n",
        "\n",
        "$$ A({b}+{c}) = A{b} + A{c} $$"
      ]
    },
    {
      "cell_type": "code",
      "execution_count": 43,
      "metadata": {
        "autoscroll": false,
        "ein.hycell": false,
        "ein.tags": "worksheet-0",
        "id": "hOUqYCBHVpzr",
        "colab": {
          "base_uri": "https://localhost:8080/"
        },
        "outputId": "b33d4507-f0ef-4264-dd70-db734aa1b0eb"
      },
      "outputs": [
        {
          "output_type": "stream",
          "name": "stdout",
          "text": [
            "Vector([157, 164, 109])\n"
          ]
        }
      ],
      "source": [
        "# escriba aquí la parte izquierda de la ecuación: A*(b+c)\n",
        "op2 = G*(b+c)\n",
        "print(op2)"
      ]
    },
    {
      "cell_type": "code",
      "execution_count": 44,
      "metadata": {
        "autoscroll": false,
        "ein.hycell": false,
        "ein.tags": "worksheet-0",
        "id": "86RAGkgoVpzs",
        "colab": {
          "base_uri": "https://localhost:8080/"
        },
        "outputId": "ce729312-5310-4e06-f0b1-ff1787fc7ef0"
      },
      "outputs": [
        {
          "output_type": "stream",
          "name": "stdout",
          "text": [
            "Vector([157, 164, 109])\n"
          ]
        }
      ],
      "source": [
        "# escriba aquí la parte derecha de la ecuación\n",
        "op3 = G*b+G*c\n",
        "print(op3)"
      ]
    },
    {
      "cell_type": "markdown",
      "source": [
        "### Quinto ejercicio"
      ],
      "metadata": {
        "id": "u0ri5khNnCKl"
      }
    },
    {
      "cell_type": "markdown",
      "metadata": {
        "ein.tags": "worksheet-0",
        "id": "9pvYQ32mVpzs"
      },
      "source": [
        "Decida un valor para el escalar $\\lambda$ y verifique que\n",
        "$$ A(\\lambda{b}) = \\lambda(A{b})$$"
      ]
    },
    {
      "cell_type": "code",
      "execution_count": 45,
      "metadata": {
        "autoscroll": false,
        "ein.hycell": false,
        "ein.tags": "worksheet-0",
        "id": "E4IN_Yy2Vpzs",
        "colab": {
          "base_uri": "https://localhost:8080/"
        },
        "outputId": "9872e211-8a9d-40c1-b355-f32f45ad5de1"
      },
      "outputs": [
        {
          "output_type": "stream",
          "name": "stdout",
          "text": [
            "Vector([356, 296, 196])\n"
          ]
        }
      ],
      "source": [
        "# escriba aquí la parte izquierda de la ecuación\n",
        "esc_lambda = 4\n",
        "op4 = G*(4*b)\n",
        "print(op4)"
      ]
    },
    {
      "cell_type": "code",
      "execution_count": 46,
      "metadata": {
        "autoscroll": false,
        "ein.hycell": false,
        "ein.tags": "worksheet-0",
        "id": "Ceudy6FmVpzt",
        "colab": {
          "base_uri": "https://localhost:8080/"
        },
        "outputId": "c6731ca0-30e1-4acc-b0a8-e9df5899c3a9"
      },
      "outputs": [
        {
          "output_type": "stream",
          "name": "stdout",
          "text": [
            "Vector([356, 296, 196])\n"
          ]
        }
      ],
      "source": [
        "# escriba aquí la parte derecha de la ecuación\n",
        "op5 = 4*(G*b)\n",
        "print(op5)"
      ]
    },
    {
      "cell_type": "markdown",
      "metadata": {
        "ein.tags": "worksheet-0",
        "id": "OWAfF_SgVpzt"
      },
      "source": [
        "Verifique que\n",
        "$$ A(\\lambda{b}) = (\\lambda A){b}$$\n"
      ]
    },
    {
      "cell_type": "code",
      "execution_count": 47,
      "metadata": {
        "autoscroll": false,
        "ein.hycell": false,
        "ein.tags": "worksheet-0",
        "id": "ZRimSgGCVpzu",
        "colab": {
          "base_uri": "https://localhost:8080/"
        },
        "outputId": "ca2b52a7-4bb9-492b-d84e-a6f2fdd6660c"
      },
      "outputs": [
        {
          "output_type": "stream",
          "name": "stdout",
          "text": [
            "Vector([356, 296, 196])\n"
          ]
        }
      ],
      "source": [
        "# escriba aquí la parte derecha de la ecuación\n",
        "op6 = (4*G)*b\n",
        "print(op6)"
      ]
    },
    {
      "cell_type": "markdown",
      "metadata": {
        "ein.tags": "worksheet-0",
        "id": "YlRYLashVpzu"
      },
      "source": [
        "Compuebe que en este caso no son necesarios los paréntesis:\n",
        "$$\\lambda A{b}\\;$$ (aunque en Python siempre necesite\n",
        "escribir los símbolos de producto `*`). Pruebe a colocar el escalar en\n",
        "cualquier posición, pero mantenga la matriz a la izquierda del vector."
      ]
    },
    {
      "cell_type": "code",
      "execution_count": 48,
      "metadata": {
        "autoscroll": false,
        "ein.hycell": false,
        "ein.tags": "worksheet-0",
        "id": "8mmZwTxMVpzv",
        "colab": {
          "base_uri": "https://localhost:8080/"
        },
        "outputId": "7e19e673-9f83-40c4-bc36-2bf7e8d8e3ae"
      },
      "outputs": [
        {
          "output_type": "stream",
          "name": "stdout",
          "text": [
            "Vector([267, 222, 147])\n",
            "Vector([267, 222, 147])\n"
          ]
        }
      ],
      "source": [
        "# Por ejemplo 3*A*b, o A*3*b, o A*b*3\n",
        "op7 = G*3*b\n",
        "print(op7)\n",
        "op8 = G*b*3\n",
        "print(op8)"
      ]
    },
    {
      "cell_type": "markdown",
      "source": [
        "### Sexto ejercicio"
      ],
      "metadata": {
        "id": "nRqO8LxBoNSI"
      }
    },
    {
      "cell_type": "markdown",
      "metadata": {
        "ein.tags": "worksheet-0",
        "id": "VSZ8vItpVpzv"
      },
      "source": [
        "Genere una matriz ${B}$ del mismo orden que $A$"
      ]
    },
    {
      "cell_type": "code",
      "execution_count": 50,
      "metadata": {
        "autoscroll": false,
        "ein.hycell": false,
        "ein.tags": "worksheet-0",
        "id": "NkFmEED_Vpzw",
        "colab": {
          "base_uri": "https://localhost:8080/",
          "height": 46
        },
        "outputId": "b9ebdfc4-8d08-4104-a831-3044091142af"
      },
      "outputs": [
        {
          "output_type": "execute_result",
          "data": {
            "text/plain": [
              "Matrix([Vector([5, 9, 6]), Vector([2, 3, 0]), Vector([1, 7, 4])])"
            ],
            "text/html": [
              "<p style=\"text-align:center;\">$\\left[ \\begin{array}{ccc}5&2&1\\\\9&3&7\\\\6&0&4\\\\ \\end{array} \\right]$</p>"
            ],
            "image/png": "$\\left[ \\begin{array}{ccc}5&2&1\\\\9&3&7\\\\6&0&4\\\\ \\end{array} \\right]$",
            "text/latex": "$\\left[ \\begin{array}{ccc}5&2&1\\\\9&3&7\\\\6&0&4\\\\ \\end{array} \\right]$"
          },
          "metadata": {},
          "execution_count": 50
        }
      ],
      "source": [
        "B = Matrix([[5, 2, 1],\n",
        "            [9, 3, 7],\n",
        "            [6, 0, 4]])\n",
        "B"
      ]
    },
    {
      "cell_type": "markdown",
      "source": [
        "$\\left[ \\begin{array}{ccc}5&2&1\\\\9&3&7\\\\6&0&4\\\\ \\end{array} \\right]$"
      ],
      "metadata": {
        "id": "zgA3akmxAA9J"
      }
    },
    {
      "cell_type": "markdown",
      "metadata": {
        "ein.tags": "worksheet-0",
        "id": "nqSTOOY0Vpzw"
      },
      "source": [
        "Verifique que\n",
        "\n",
        "$$ (A+B){c} = A{c} + B{c}$$"
      ]
    },
    {
      "cell_type": "code",
      "execution_count": 53,
      "metadata": {
        "autoscroll": false,
        "ein.hycell": false,
        "ein.tags": "worksheet-0",
        "id": "c1YZo_1NVpzx",
        "colab": {
          "base_uri": "https://localhost:8080/",
          "height": 332
        },
        "outputId": "43564248-8e41-4143-e91c-dada1dc40da1"
      },
      "outputs": [
        {
          "output_type": "stream",
          "name": "stdout",
          "text": [
            "Vector([100, 188, 116])\n"
          ]
        },
        {
          "output_type": "error",
          "ename": "ValueError",
          "evalue": "Solo se suman Sistemas del mismo tipo y misma longitud",
          "traceback": [
            "\u001b[0;31m---------------------------------------------------------------------------\u001b[0m",
            "\u001b[0;31mValueError\u001b[0m                                Traceback (most recent call last)",
            "\u001b[0;32m<ipython-input-53-94204c612242>\u001b[0m in \u001b[0;36m<cell line: 5>\u001b[0;34m()\u001b[0m\n\u001b[1;32m      3\u001b[0m \u001b[0mprint\u001b[0m\u001b[0;34m(\u001b[0m\u001b[0mop9\u001b[0m\u001b[0;34m)\u001b[0m\u001b[0;34m\u001b[0m\u001b[0;34m\u001b[0m\u001b[0m\n\u001b[1;32m      4\u001b[0m \u001b[0;31m#Sin parentesis\u001b[0m\u001b[0;34m\u001b[0m\u001b[0;34m\u001b[0m\u001b[0m\n\u001b[0;32m----> 5\u001b[0;31m \u001b[0mop10\u001b[0m \u001b[0;34m=\u001b[0m \u001b[0mG\u001b[0m\u001b[0;34m+\u001b[0m\u001b[0mB\u001b[0m\u001b[0;34m*\u001b[0m\u001b[0mc\u001b[0m\u001b[0;34m\u001b[0m\u001b[0;34m\u001b[0m\u001b[0m\n\u001b[0m\u001b[1;32m      6\u001b[0m \u001b[0mprint\u001b[0m\u001b[0;34m(\u001b[0m\u001b[0mop10\u001b[0m\u001b[0;34m)\u001b[0m\u001b[0;34m\u001b[0m\u001b[0;34m\u001b[0m\u001b[0m\n",
            "\u001b[0;32m/usr/local/lib/python3.10/dist-packages/nacal/nacal.py\u001b[0m in \u001b[0;36m__add__\u001b[0;34m(self, other)\u001b[0m\n\u001b[1;32m    203\u001b[0m         Matrix([Vector([2, 5]); Vector([5, 2])]) \"\"\"\n\u001b[1;32m    204\u001b[0m         \u001b[0;32mif\u001b[0m \u001b[0;32mnot\u001b[0m \u001b[0mtype\u001b[0m\u001b[0;34m(\u001b[0m\u001b[0mself\u001b[0m\u001b[0;34m)\u001b[0m\u001b[0;34m==\u001b[0m\u001b[0mtype\u001b[0m\u001b[0;34m(\u001b[0m\u001b[0mother\u001b[0m\u001b[0;34m)\u001b[0m \u001b[0;32mor\u001b[0m \u001b[0;32mnot\u001b[0m \u001b[0mlen\u001b[0m\u001b[0;34m(\u001b[0m\u001b[0mself\u001b[0m\u001b[0;34m)\u001b[0m\u001b[0;34m==\u001b[0m\u001b[0mlen\u001b[0m\u001b[0;34m(\u001b[0m\u001b[0mother\u001b[0m\u001b[0;34m)\u001b[0m\u001b[0;34m:\u001b[0m\u001b[0;34m\u001b[0m\u001b[0;34m\u001b[0m\u001b[0m\n\u001b[0;32m--> 205\u001b[0;31m             \u001b[0;32mraise\u001b[0m \u001b[0mValueError\u001b[0m \u001b[0;34m(\u001b[0m\u001b[0;34m'Solo se suman Sistemas del mismo tipo y misma longitud'\u001b[0m\u001b[0;34m)\u001b[0m\u001b[0;34m\u001b[0m\u001b[0;34m\u001b[0m\u001b[0m\n\u001b[0m\u001b[1;32m    206\u001b[0m \u001b[0;34m\u001b[0m\u001b[0m\n\u001b[1;32m    207\u001b[0m         \u001b[0;32mreturn\u001b[0m \u001b[0mtype\u001b[0m\u001b[0;34m(\u001b[0m\u001b[0mself\u001b[0m\u001b[0;34m)\u001b[0m \u001b[0;34m(\u001b[0m\u001b[0;34m[\u001b[0m \u001b[0;34m(\u001b[0m\u001b[0mself\u001b[0m\u001b[0;34m|\u001b[0m\u001b[0mi\u001b[0m\u001b[0;34m)\u001b[0m \u001b[0;34m+\u001b[0m \u001b[0;34m(\u001b[0m\u001b[0mother\u001b[0m\u001b[0;34m|\u001b[0m\u001b[0mi\u001b[0m\u001b[0;34m)\u001b[0m \u001b[0;32mfor\u001b[0m \u001b[0mi\u001b[0m \u001b[0;32min\u001b[0m \u001b[0mrange\u001b[0m\u001b[0;34m(\u001b[0m\u001b[0;36m1\u001b[0m\u001b[0;34m,\u001b[0m\u001b[0mlen\u001b[0m\u001b[0;34m(\u001b[0m\u001b[0mself\u001b[0m\u001b[0;34m)\u001b[0m\u001b[0;34m+\u001b[0m\u001b[0;36m1\u001b[0m\u001b[0;34m)\u001b[0m \u001b[0;34m]\u001b[0m\u001b[0;34m)\u001b[0m\u001b[0;34m\u001b[0m\u001b[0;34m\u001b[0m\u001b[0m\n",
            "\u001b[0;31mValueError\u001b[0m: Solo se suman Sistemas del mismo tipo y misma longitud"
          ]
        }
      ],
      "source": [
        "# escriba aquí la parte izquierda de la ecuación (¿funciona sin paréntesis?)\n",
        "op9 = (G+B)*c\n",
        "print(op9)\n",
        "#Sin parentesis\n",
        "op10 = G+B*c\n",
        "print(op10)\n",
        "#Marca error"
      ]
    },
    {
      "cell_type": "code",
      "execution_count": 54,
      "metadata": {
        "autoscroll": false,
        "ein.hycell": false,
        "ein.tags": "worksheet-0",
        "id": "2utRvpmSVpzx",
        "colab": {
          "base_uri": "https://localhost:8080/"
        },
        "outputId": "6d606a14-eba5-412a-f911-a1f3c4369eb0"
      },
      "outputs": [
        {
          "output_type": "stream",
          "name": "stdout",
          "text": [
            "Vector([100, 188, 116])\n"
          ]
        }
      ],
      "source": [
        "# escriba aquí la parte derecha de la ecuación\n",
        "op11 = G*c+B*c\n",
        "print(op11)"
      ]
    },
    {
      "cell_type": "code",
      "source": [],
      "metadata": {
        "id": "hcm-tMzWnkEd"
      },
      "execution_count": null,
      "outputs": []
    },
    {
      "cell_type": "markdown",
      "metadata": {
        "ein.tags": "worksheet-0",
        "id": "545Y5L3qVpz4"
      },
      "source": [
        "# Dos propiedades de la transposición\n",
        "\n",
        "Recuerde que `~A` es la transpuesta de `A`.\n",
        "\n",
        "Verfique que\n",
        "$$\n",
        "(A+B)^T=A^{T}+B^{T}\n",
        "$$"
      ]
    },
    {
      "cell_type": "code",
      "execution_count": 56,
      "metadata": {
        "autoscroll": false,
        "ein.hycell": false,
        "ein.tags": "worksheet-0",
        "id": "cQKD0ad-Vpz5",
        "colab": {
          "base_uri": "https://localhost:8080/",
          "height": 64
        },
        "outputId": "cc36b154-0db3-4b69-bd3c-fa6bf77f02e4"
      },
      "outputs": [
        {
          "output_type": "stream",
          "name": "stdout",
          "text": [
            "Matrix([Vector([13, 8, 4]), Vector([11, 8, 16]), Vector([7, 4, 10])])\n"
          ]
        },
        {
          "output_type": "execute_result",
          "data": {
            "text/plain": [
              "Matrix([Vector([13, 8, 4]), Vector([11, 8, 16]), Vector([7, 4, 10])])"
            ],
            "text/html": [
              "<p style=\"text-align:center;\">$\\left[ \\begin{array}{ccc}13&11&7\\\\8&8&4\\\\4&16&10\\\\ \\end{array} \\right]$</p>"
            ],
            "image/png": "$\\left[ \\begin{array}{ccc}13&11&7\\\\8&8&4\\\\4&16&10\\\\ \\end{array} \\right]$",
            "text/latex": "$\\left[ \\begin{array}{ccc}13&11&7\\\\8&8&4\\\\4&16&10\\\\ \\end{array} \\right]$"
          },
          "metadata": {},
          "execution_count": 56
        }
      ],
      "source": [
        "# escriba aquí la parte izquierda de la ecuación: ~(A + B)\n",
        "op12 = ~(G+B)\n",
        "print(op12)\n",
        "op12"
      ]
    },
    {
      "cell_type": "markdown",
      "source": [
        "$\\left[ \\begin{array}{ccc}13&11&7\\\\8&8&4\\\\4&16&10\\\\ \\end{array} \\right]$"
      ],
      "metadata": {
        "id": "67z4wb38EfU6"
      }
    },
    {
      "cell_type": "code",
      "execution_count": 65,
      "metadata": {
        "autoscroll": false,
        "ein.hycell": false,
        "ein.tags": "worksheet-0",
        "id": "P8MSW33aVpz6",
        "colab": {
          "base_uri": "https://localhost:8080/",
          "height": 64
        },
        "outputId": "5679358a-7c0a-474f-d58f-224d4b54a540"
      },
      "outputs": [
        {
          "output_type": "stream",
          "name": "stdout",
          "text": [
            "Matrix([Vector([13, 8, 4]), Vector([11, 8, 16]), Vector([7, 4, 10])])\n"
          ]
        },
        {
          "output_type": "execute_result",
          "data": {
            "text/plain": [
              "Matrix([Vector([13, 8, 4]), Vector([11, 8, 16]), Vector([7, 4, 10])])"
            ],
            "text/html": [
              "<p style=\"text-align:center;\">$\\left[ \\begin{array}{ccc}13&11&7\\\\8&8&4\\\\4&16&10\\\\ \\end{array} \\right]$</p>"
            ],
            "image/png": "$\\left[ \\begin{array}{ccc}13&11&7\\\\8&8&4\\\\4&16&10\\\\ \\end{array} \\right]$",
            "text/latex": "$\\left[ \\begin{array}{ccc}13&11&7\\\\8&8&4\\\\4&16&10\\\\ \\end{array} \\right]$"
          },
          "metadata": {},
          "execution_count": 65
        }
      ],
      "source": [
        "# escriba aquí la parte derecha de la ecuación\n",
        "op13 = ~(G)+~(B)\n",
        "print(op13)\n",
        "op13"
      ]
    },
    {
      "cell_type": "markdown",
      "source": [
        "$\\left[ \\begin{array}{ccc}13&11&7\\\\8&8&4\\\\4&16&10\\\\ \\end{array} \\right]$"
      ],
      "metadata": {
        "id": "7yplcSp2EqVp"
      }
    },
    {
      "cell_type": "markdown",
      "metadata": {
        "ein.tags": "worksheet-0",
        "id": "g2A04WcFVpz6"
      },
      "source": [
        "¿Necesitamos usar paréntesis para el lado izquierdo? ¿Y para el derecho?"
      ]
    },
    {
      "cell_type": "code",
      "source": [
        "#Lado izquiero sin paréntesis\n",
        "op16 = ~G+B\n",
        "print(op16)\n",
        "#En el lado izquierdo si es necesario\n",
        "\n",
        "#Lado derecho\n",
        "op17 =~G+~B\n",
        "print(op17)\n",
        "#No es necesario en este lado"
      ],
      "metadata": {
        "colab": {
          "base_uri": "https://localhost:8080/"
        },
        "id": "QHyarXoqFxnj",
        "outputId": "ff017871-cb8d-4b54-c9f4-47d7a5101ea3"
      },
      "execution_count": 67,
      "outputs": [
        {
          "output_type": "stream",
          "name": "stdout",
          "text": [
            "Matrix([Vector([13, 15, 9]), Vector([4, 8, 9]), Vector([2, 11, 10])])\n",
            "Matrix([Vector([13, 8, 4]), Vector([11, 8, 16]), Vector([7, 4, 10])])\n"
          ]
        }
      ]
    },
    {
      "cell_type": "markdown",
      "metadata": {
        "ein.tags": "worksheet-0",
        "id": "ZcOfdLECVpz7"
      },
      "source": [
        "Decida un valor para $\\lambda$ y verfique que\n",
        "$$\n",
        "(\\lambda A)^T=\\lambda(A^{T})\n",
        "$$"
      ]
    },
    {
      "cell_type": "code",
      "execution_count": 61,
      "metadata": {
        "autoscroll": false,
        "ein.hycell": false,
        "ein.tags": "worksheet-0",
        "id": "SVar9B-6Vpz7",
        "colab": {
          "base_uri": "https://localhost:8080/",
          "height": 64
        },
        "outputId": "1597a5b7-cd49-4fd1-8d34-dc023db6922a"
      },
      "outputs": [
        {
          "output_type": "stream",
          "name": "stdout",
          "text": [
            "Matrix([Vector([16, 12, 6]), Vector([4, 10, 18]), Vector([2, 8, 12])])\n"
          ]
        },
        {
          "output_type": "execute_result",
          "data": {
            "text/plain": [
              "Matrix([Vector([16, 12, 6]), Vector([4, 10, 18]), Vector([2, 8, 12])])"
            ],
            "text/html": [
              "<p style=\"text-align:center;\">$\\left[ \\begin{array}{ccc}16&4&2\\\\12&10&8\\\\6&18&12\\\\ \\end{array} \\right]$</p>"
            ],
            "image/png": "$\\left[ \\begin{array}{ccc}16&4&2\\\\12&10&8\\\\6&18&12\\\\ \\end{array} \\right]$",
            "text/latex": "$\\left[ \\begin{array}{ccc}16&4&2\\\\12&10&8\\\\6&18&12\\\\ \\end{array} \\right]$"
          },
          "metadata": {},
          "execution_count": 61
        }
      ],
      "source": [
        "# escriba aquí la parte izquierda de la ecuación:\n",
        "esc_lambda = 2\n",
        "op14 = ~(esc_lambda*G)\n",
        "print(op14)\n",
        "op14"
      ]
    },
    {
      "cell_type": "markdown",
      "source": [
        "$\\left[ \\begin{array}{ccc}16&4&2\\\\12&10&8\\\\6&18&12\\\\ \\end{array} \\right]$"
      ],
      "metadata": {
        "id": "DviwQ9cVFSAP"
      }
    },
    {
      "cell_type": "code",
      "execution_count": 60,
      "metadata": {
        "autoscroll": false,
        "ein.hycell": false,
        "ein.tags": "worksheet-0",
        "id": "06Eys9o2Vpz8",
        "colab": {
          "base_uri": "https://localhost:8080/",
          "height": 64
        },
        "outputId": "4e22ac92-dc08-4c5b-848f-bcedbace66b3"
      },
      "outputs": [
        {
          "output_type": "stream",
          "name": "stdout",
          "text": [
            "Matrix([Vector([16, 12, 6]), Vector([4, 10, 18]), Vector([2, 8, 12])])\n"
          ]
        },
        {
          "output_type": "execute_result",
          "data": {
            "text/plain": [
              "Matrix([Vector([16, 12, 6]), Vector([4, 10, 18]), Vector([2, 8, 12])])"
            ],
            "text/html": [
              "<p style=\"text-align:center;\">$\\left[ \\begin{array}{ccc}16&4&2\\\\12&10&8\\\\6&18&12\\\\ \\end{array} \\right]$</p>"
            ],
            "image/png": "$\\left[ \\begin{array}{ccc}16&4&2\\\\12&10&8\\\\6&18&12\\\\ \\end{array} \\right]$",
            "text/latex": "$\\left[ \\begin{array}{ccc}16&4&2\\\\12&10&8\\\\6&18&12\\\\ \\end{array} \\right]$"
          },
          "metadata": {},
          "execution_count": 60
        }
      ],
      "source": [
        "# escriba aquí la parte derecha de la ecuación\n",
        "op15 = esc_lambda*(~G)\n",
        "print(op15)\n",
        "op15"
      ]
    },
    {
      "cell_type": "markdown",
      "source": [
        "$\\left[ \\begin{array}{ccc}16&4&2\\\\12&10&8\\\\6&18&12\\\\ \\end{array} \\right]$"
      ],
      "metadata": {
        "id": "XhJ3CBPYFk7t"
      }
    }
  ]
}
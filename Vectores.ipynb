{
  "nbformat": 4,
  "nbformat_minor": 0,
  "metadata": {
    "colab": {
      "provenance": [],
      "authorship_tag": "ABX9TyPrsrJmyfVqcHTdkmpGCZ0t",
      "include_colab_link": true
    },
    "kernelspec": {
      "name": "python3",
      "display_name": "Python 3"
    },
    "language_info": {
      "name": "python"
    }
  },
  "cells": [
    {
      "cell_type": "markdown",
      "metadata": {
        "id": "view-in-github",
        "colab_type": "text"
      },
      "source": [
        "<a href=\"https://colab.research.google.com/github/DaniLevcruz/repositorio3/blob/main/Vectores.ipynb\" target=\"_parent\"><img src=\"https://colab.research.google.com/assets/colab-badge.svg\" alt=\"Open In Colab\"/></a>"
      ]
    },
    {
      "cell_type": "markdown",
      "source": [
        "**Pregunta No.1:**\n",
        "¿Es verdad que\n",
        "$\n",
        "\\begin{pmatrix}\n",
        "1 \\\\2\n",
        " \\\\3\n",
        "\\end{pmatrix}\n",
        "+\\begin{pmatrix}\n",
        "4 \\\\5\n",
        " \\\\6\n",
        "\\end{pmatrix}\n",
        "= \\begin{pmatrix}\n",
        "4 \\\\5\n",
        " \\\\6\n",
        "\\end{pmatrix}\n",
        "+\\begin{pmatrix}\n",
        "1 \\\\2\n",
        " \\\\3\n",
        "\\end{pmatrix}\n",
        "$?\n",
        "\n",
        "¿Es cierto solo para los números del ejemplo? o ¿es una regla general para cualquier par de vectores?"
      ],
      "metadata": {
        "id": "0gc8s_bv1__n"
      }
    },
    {
      "cell_type": "code",
      "execution_count": 15,
      "metadata": {
        "colab": {
          "base_uri": "https://localhost:8080/",
          "height": 81
        },
        "id": "2Yy2hzvC17LR",
        "outputId": "f069429a-d63f-4f8d-ea53-b10839dcbadb"
      },
      "outputs": [
        {
          "output_type": "stream",
          "name": "stdout",
          "text": [
            "Vector([5, 7, 9])\n",
            "Vector([5, 7, 9])\n"
          ]
        },
        {
          "output_type": "execute_result",
          "data": {
            "text/plain": [
              "Vector([5, 7, 9])"
            ],
            "text/html": [
              "<p style=\"text-align:center;\">$\\begin{pmatrix}5\\\\ 7\\\\ 9\\end{pmatrix}$</p>"
            ],
            "image/png": "$\\begin{pmatrix}5\\\\ 7\\\\ 9\\end{pmatrix}$",
            "text/latex": "$\\begin{pmatrix}5\\\\ 7\\\\ 9\\end{pmatrix}$"
          },
          "metadata": {},
          "execution_count": 15
        }
      ],
      "source": [
        "a = Vector ( [1,2,3] )\n",
        "b = Vector ([4,5,6])\n",
        "s = b+a\n",
        "print(s)\n",
        "s\n",
        "d=a+b\n",
        "print(d)\n",
        "d"
      ]
    },
    {
      "cell_type": "markdown",
      "source": [
        "$\\begin{pmatrix}5\\\\ 7\\\\ 9\\end{pmatrix}$"
      ],
      "metadata": {
        "id": "N2oL1M72__fE"
      }
    },
    {
      "cell_type": "markdown",
      "source": [
        "¿Es cierto solo para los números del ejemplo? o ¿es una regla general para cualquier par de vectores? Es una regla general para cualquier par de vectores."
      ],
      "metadata": {
        "id": "FthHSPWvAFnM"
      }
    },
    {
      "cell_type": "markdown",
      "source": [
        "**Pregunta No.2:**\n",
        "¿Es verdad que\n",
        "\n",
        "$\n",
        "\\begin{pmatrix}\n",
        "1 \\\\2\n",
        "\\end{pmatrix}\n",
        "+\\begin{pmatrix}\n",
        "\\begin{pmatrix}\n",
        "4 \\\\5\n",
        "\\end{pmatrix}+\\begin{pmatrix}\n",
        "1 \\\\0\n",
        "\\end{pmatrix} \\\\\n",
        "\\end{pmatrix}\n",
        "= \\begin{pmatrix}\n",
        "\\begin{pmatrix}\n",
        "1 \\\\2\n",
        "\\end{pmatrix}+ \\begin{pmatrix}\n",
        "4 \\\\5\n",
        "\\end{pmatrix}\\\\\n",
        "\\end{pmatrix}\n",
        "+\\begin{pmatrix}\n",
        " 1\\\\0\n",
        "\\end{pmatrix}\n",
        "$\n",
        "?\n",
        "\n",
        "El paréntesis significa que primero hay que hacer la suma dentro del paréntesis, y al vector resultante\n",
        "sumarle el vector de fuera.\n",
        "¿Es cierto solo para los números del ejemplo? o ¿es una regla general para cualquier trío de vectores?"
      ],
      "metadata": {
        "id": "BH0vkRlKIEZz"
      }
    },
    {
      "cell_type": "code",
      "source": [
        "ab = Vector([1,2])\n",
        "da = Vector([4,5])\n",
        "bc = Vector([1,0])\n",
        "s = da+bc\n",
        "sa = s+ab\n",
        "print(sa)\n",
        "\n",
        "sd= ab+da\n",
        "su = sd+bc\n",
        "print(su)\n",
        "su"
      ],
      "metadata": {
        "colab": {
          "base_uri": "https://localhost:8080/",
          "height": 81
        },
        "id": "TPO716TOMiMQ",
        "outputId": "9debabb0-b7af-42e3-9bef-7d101ccbb5ac"
      },
      "execution_count": 17,
      "outputs": [
        {
          "output_type": "stream",
          "name": "stdout",
          "text": [
            "Vector([6, 7])\n",
            "Vector([6, 7])\n"
          ]
        },
        {
          "output_type": "execute_result",
          "data": {
            "text/plain": [
              "Vector([6, 7])"
            ],
            "text/html": [
              "<p style=\"text-align:center;\">$\\begin{pmatrix}6\\\\ 7\\end{pmatrix}$</p>"
            ],
            "image/png": "$\\begin{pmatrix}6\\\\ 7\\end{pmatrix}$",
            "text/latex": "$\\begin{pmatrix}6\\\\ 7\\end{pmatrix}$"
          },
          "metadata": {},
          "execution_count": 17
        }
      ]
    },
    {
      "cell_type": "markdown",
      "source": [
        "$\\begin{pmatrix}6\\\\ 7\\end{pmatrix}$\n",
        "\n",
        "Es una regla general."
      ],
      "metadata": {
        "id": "kFUhwfnTNa_1"
      }
    },
    {
      "cell_type": "markdown",
      "source": [
        "**Pregunta No.3:**\n",
        "¿Es verdad que\n",
        "\n",
        "$\n",
        "\\begin{pmatrix}\n",
        "4 \\\\5\n",
        " \\\\6\n",
        "\\end{pmatrix}\n",
        "+\n",
        " \\begin{pmatrix}\n",
        "0\\\\0\n",
        " \\\\0\n",
        "\\end{pmatrix}\n",
        "= \\begin{pmatrix}\n",
        "4 \\\\5\n",
        " \\\\6\n",
        "\\end{pmatrix}\n",
        "$?\n",
        "\n",
        "¿Es cierto solo para los vectores del ejemplo? o ¿es una regla general para cualquier par de vectores?"
      ],
      "metadata": {
        "id": "XoJ8NjC2NkpM"
      }
    },
    {
      "cell_type": "code",
      "source": [
        "e = Vector([4,5,6])\n",
        "r = Vector([0,0,0])\n",
        "sr = e+r\n",
        "print(sr)\n",
        "sr"
      ],
      "metadata": {
        "colab": {
          "base_uri": "https://localhost:8080/",
          "height": 64
        },
        "id": "kt15zXeQT1Q8",
        "outputId": "f5062fd0-c434-4217-ab64-ab5ba43484bf"
      },
      "execution_count": 18,
      "outputs": [
        {
          "output_type": "stream",
          "name": "stdout",
          "text": [
            "Vector([4, 5, 6])\n"
          ]
        },
        {
          "output_type": "execute_result",
          "data": {
            "text/plain": [
              "Vector([4, 5, 6])"
            ],
            "text/html": [
              "<p style=\"text-align:center;\">$\\begin{pmatrix}4\\\\ 5\\\\ 6\\end{pmatrix}$</p>"
            ],
            "image/png": "$\\begin{pmatrix}4\\\\ 5\\\\ 6\\end{pmatrix}$",
            "text/latex": "$\\begin{pmatrix}4\\\\ 5\\\\ 6\\end{pmatrix}$"
          },
          "metadata": {},
          "execution_count": 18
        }
      ]
    },
    {
      "cell_type": "markdown",
      "source": [
        "$\\begin{pmatrix}4\\\\ 5\\\\ 6\\end{pmatrix}$\n",
        "\n",
        "Es una regla general para vectores."
      ],
      "metadata": {
        "id": "P_DlwQcMULYh"
      }
    },
    {
      "cell_type": "markdown",
      "source": [
        "**Pregunta No.4:**\n",
        "¿Es verdad que\n",
        "\n",
        "$\n",
        "\\begin{pmatrix}\n",
        "4 \\\\5\n",
        " \\\\6\n",
        "\\end{pmatrix}\n",
        "+\n",
        " \\begin{pmatrix}\n",
        "-4\\\\-5\n",
        " \\\\-6\n",
        "\\end{pmatrix}\n",
        "= \\begin{pmatrix}\n",
        "0 \\\\0\n",
        " \\\\0\n",
        "\\end{pmatrix}\n",
        "$?\n",
        "\n",
        "¿Es cierto solo para los vectores del ejemplo? o ¿es una regla general para cualquier par de vectores?"
      ],
      "metadata": {
        "id": "VYKtR6dkUVRJ"
      }
    },
    {
      "cell_type": "code",
      "source": [
        "y = Vector([4,5,6])\n",
        "f = Vector([-4,-5,-6])\n",
        "sf = y+f\n",
        "print(sf)\n",
        "sf"
      ],
      "metadata": {
        "colab": {
          "base_uri": "https://localhost:8080/",
          "height": 64
        },
        "id": "sdsWG7oIUzXA",
        "outputId": "81ac6fe2-1bd4-4cf3-e44c-ce54f0b2cf79"
      },
      "execution_count": 19,
      "outputs": [
        {
          "output_type": "stream",
          "name": "stdout",
          "text": [
            "Vector([0, 0, 0])\n"
          ]
        },
        {
          "output_type": "execute_result",
          "data": {
            "text/plain": [
              "Vector([0, 0, 0])"
            ],
            "text/html": [
              "<p style=\"text-align:center;\">$\\begin{pmatrix}0\\\\ 0\\\\ 0\\end{pmatrix}$</p>"
            ],
            "image/png": "$\\begin{pmatrix}0\\\\ 0\\\\ 0\\end{pmatrix}$",
            "text/latex": "$\\begin{pmatrix}0\\\\ 0\\\\ 0\\end{pmatrix}$"
          },
          "metadata": {},
          "execution_count": 19
        }
      ]
    },
    {
      "cell_type": "markdown",
      "source": [
        "$\\begin{pmatrix}0\\\\ 0\\\\ 0\\end{pmatrix}$\n",
        "\n",
        "Es una regla general para vectores."
      ],
      "metadata": {
        "id": "ilIrlUeHVUu2"
      }
    },
    {
      "cell_type": "markdown",
      "source": [
        "***Pregunta No.5:***\n",
        "\n",
        "¿Es verdad que\n",
        "\n",
        "$$\n",
        "2\\begin{pmatrix}\\begin{pmatrix}1\\\\-1\\\\\\end{pmatrix}+\\begin{pmatrix}4\\\\5\\\\\\end{pmatrix}\\end{pmatrix}=2\\begin{pmatrix}1\\\\-1\\\\\\end{pmatrix}+2\\begin{pmatrix}4\\\\5\\\\\\end{pmatrix}\n",
        "?$$\n",
        "\n",
        "\n",
        "\n",
        "\n",
        "(recuerde que primero se realizan las operaciones de dentro del paréntesis) ¿Es una regla general para\n",
        "cualquier par de vectores? ¿Y si cambiamos el escalar 2 por otro número?"
      ],
      "metadata": {
        "id": "Y0yRiePsVa21"
      }
    },
    {
      "cell_type": "code",
      "source": [
        "u = Vector([1,-1])\n",
        "p = Vector([4,5])\n",
        "sg = u+p\n",
        "m = sg*2\n",
        "print(m)\n",
        "m\n",
        "\n",
        "mu = u*2\n",
        "mp = p*2\n",
        "spu = mp+mu\n",
        "print(spu)\n",
        "spu\n"
      ],
      "metadata": {
        "colab": {
          "base_uri": "https://localhost:8080/",
          "height": 81
        },
        "id": "xoDHXMjIWgtZ",
        "outputId": "b2113744-8699-4c94-9d04-3223d3b5f4b0"
      },
      "execution_count": 20,
      "outputs": [
        {
          "output_type": "stream",
          "name": "stdout",
          "text": [
            "Vector([10, 8])\n",
            "Vector([10, 8])\n"
          ]
        },
        {
          "output_type": "execute_result",
          "data": {
            "text/plain": [
              "Vector([10, 8])"
            ],
            "text/html": [
              "<p style=\"text-align:center;\">$\\begin{pmatrix}10\\\\ 8\\end{pmatrix}$</p>"
            ],
            "image/png": "$\\begin{pmatrix}10\\\\ 8\\end{pmatrix}$",
            "text/latex": "$\\begin{pmatrix}10\\\\ 8\\end{pmatrix}$"
          },
          "metadata": {},
          "execution_count": 20
        }
      ]
    },
    {
      "cell_type": "markdown",
      "source": [
        "$\\begin{pmatrix}10\\\\ 8\\end{pmatrix}$\n",
        "\n",
        "Es una regla general para vectores. Cambiar el escalar sigue cumpliendo con la equivalencia."
      ],
      "metadata": {
        "id": "XSoTf2euXmwM"
      }
    },
    {
      "cell_type": "markdown",
      "source": [
        "***Pregunta No.6:***\n",
        "\n",
        "¿Es verdad que\n",
        "$$\n",
        "(2+3)\\begin{pmatrix}1\\\\2\\\\3\\\\\\end{pmatrix}=2\\begin{pmatrix}1\\\\2\\\\3\\\\\\end{pmatrix}+3\\begin{pmatrix}1\\\\2\\\\3\\\\\\end{pmatrix}\n",
        "?$$\n",
        "\n",
        "¿Es una regla general para cualquier par de vectores? ¿y si cambiamos los escalares **2** y **3** por otros números?"
      ],
      "metadata": {
        "id": "bz26hpRAXuz7"
      }
    },
    {
      "cell_type": "code",
      "source": [
        "ñ = Vector([1,2,3])\n",
        "mñ = ñ*2\n",
        "mj = ñ*3\n",
        "sñ = mñ+mj\n",
        "print(sñ)\n",
        "sñ\n",
        "\n",
        "g = 2+3\n",
        "h = ñ*g\n",
        "print(h)\n",
        "h\n",
        "\n",
        "fd = ñ*3\n",
        "fr = ñ*4\n",
        "fs = fd+fr\n",
        "print(fs)\n",
        "\n",
        "gf = 3+4\n",
        "gr = ñ*gf\n",
        "print(gr)\n"
      ],
      "metadata": {
        "colab": {
          "base_uri": "https://localhost:8080/"
        },
        "id": "VsxoGplLYVzr",
        "outputId": "ea96c692-0f7a-45d9-c406-3d3dd6f08e56"
      },
      "execution_count": 23,
      "outputs": [
        {
          "output_type": "stream",
          "name": "stdout",
          "text": [
            "Vector([5, 10, 15])\n",
            "Vector([5, 10, 15])\n",
            "Vector([7, 14, 21])\n",
            "Vector([7, 14, 21])\n"
          ]
        }
      ]
    },
    {
      "cell_type": "markdown",
      "source": [
        "$\\begin{pmatrix}5\\\\ 10\\\\ 15\\end{pmatrix}$\n",
        "\n",
        "Es una regla general. Y si cambiamos los escalares la equivalencia se sigue cumpliendo."
      ],
      "metadata": {
        "id": "6naWkJp6ZDmn"
      }
    },
    {
      "cell_type": "markdown",
      "source": [
        "***Pregunta No.7:***\n",
        "\n",
        "¿Es verdad que\n",
        "$$\n",
        "2(3\\begin{pmatrix}1\\\\2\\\\\\end{pmatrix})=(2*3)\\begin{pmatrix}1\\\\2\\\\\\end{pmatrix}\n",
        "?$$\n",
        "\n",
        "¿Es una regla general para cualquier par de vectores? ¿y si cambiamos los escalares **2** y **3** por otros números?"
      ],
      "metadata": {
        "id": "jJd-z3Wsak5Y"
      }
    },
    {
      "cell_type": "code",
      "source": [
        "k = Vector([1,2])\n",
        "jk = k*3\n",
        "jñ = jk*2\n",
        "print(jñ)\n",
        "jñ\n",
        "\n",
        "v = 2*3\n",
        "vm = k*v\n",
        "print(vm)\n",
        "vm\n",
        "\n",
        "i = k*4\n",
        "z = i*3\n",
        "print(z)\n",
        "\n",
        "o = 3*4\n",
        "op = k*o\n",
        "print(op)"
      ],
      "metadata": {
        "colab": {
          "base_uri": "https://localhost:8080/"
        },
        "id": "HA4IG0w1a4PX",
        "outputId": "33271a6e-b005-4e8b-aa30-07682353a08d"
      },
      "execution_count": 29,
      "outputs": [
        {
          "output_type": "stream",
          "name": "stdout",
          "text": [
            "Vector([6, 12])\n",
            "Vector([6, 12])\n",
            "Vector([12, 24])\n",
            "Vector([12, 24])\n"
          ]
        }
      ]
    },
    {
      "cell_type": "markdown",
      "source": [
        "$\\begin{pmatrix}6\\\\ 12\\end{pmatrix}$\n",
        "\n",
        "Es general, y para otros escalares la equivalencia se sigue cumpliendo."
      ],
      "metadata": {
        "id": "mL6b_Ezcobpk"
      }
    },
    {
      "cell_type": "markdown",
      "source": [
        "***Pregunta No.8:***\n",
        "\n",
        "¿Es verdad que si *a = 1*\n",
        "$$\n",
        "a\\begin{pmatrix}1\\\\2\\\\3\\\\\\end{pmatrix}=\\begin{pmatrix}1\\\\2\\\\3\\\\\\end{pmatrix}\n",
        "$$\n",
        "\n",
        "¿Es cierto solo para el escalar *a = 1*?"
      ],
      "metadata": {
        "id": "RK-T2kg4osWS"
      }
    },
    {
      "cell_type": "code",
      "source": [
        "lo = Vector([1,2,3])\n",
        "a = 1\n",
        "mpl = lo*a\n",
        "print(mpl)\n",
        "mpl\n"
      ],
      "metadata": {
        "colab": {
          "base_uri": "https://localhost:8080/",
          "height": 64
        },
        "id": "2J5pzcsCo-5g",
        "outputId": "6068784a-063d-45d4-a91f-cacb0acb5d2d"
      },
      "execution_count": 30,
      "outputs": [
        {
          "output_type": "stream",
          "name": "stdout",
          "text": [
            "Vector([1, 2, 3])\n"
          ]
        },
        {
          "output_type": "execute_result",
          "data": {
            "text/plain": [
              "Vector([1, 2, 3])"
            ],
            "text/html": [
              "<p style=\"text-align:center;\">$\\begin{pmatrix}1\\\\ 2\\\\ 3\\end{pmatrix}$</p>"
            ],
            "image/png": "$\\begin{pmatrix}1\\\\ 2\\\\ 3\\end{pmatrix}$",
            "text/latex": "$\\begin{pmatrix}1\\\\ 2\\\\ 3\\end{pmatrix}$"
          },
          "metadata": {},
          "execution_count": 30
        }
      ]
    },
    {
      "cell_type": "markdown",
      "source": [
        "$\\begin{pmatrix}1\\\\ 2\\\\ 3\\end{pmatrix}$\n",
        "\n",
        "Es cierto, pues si modificamos el escalar, los vectores tendrán un valor distinto."
      ],
      "metadata": {
        "id": "8xeOFbmdpQiX"
      }
    }
  ]
}